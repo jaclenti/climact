{
 "cells": [
  {
   "cell_type": "markdown",
   "metadata": {},
   "source": [
    "# Users geolocation\n",
    "In this notebook we geolocate the users, through the georeferenced subreddits.\n",
    "We associate each string of subreddit names to our geolocator, that associate strings to geographical location.\n",
    "We correct spurious associations, remove mismatches and keep only the subreddits located in US and Canada.\n",
    "An author will be assigned to a US state (or Canada province) YY if all the georeferenced subreddits he wrote in refer to YY."
   ]
  },
  {
   "cell_type": "code",
   "execution_count": 1,
   "metadata": {},
   "outputs": [],
   "source": [
    "import numpy as np\n",
    "import pandas as pd\n",
    "import sys\n",
    "\n",
    "sys.path += ['../src/']\n",
    "import climact_utils as cu\n",
    "from glob import glob\n",
    "import sys\n",
    "import json\n",
    "import spark_init\n",
    "from pyspark.sql.types import StructType, StructField, StringType, DoubleType, LongType\n",
    "import pyspark.sql.functions as F\n",
    "import matplotlib.pyplot as plt\n",
    "import seaborn as sns"
   ]
  },
  {
   "cell_type": "code",
   "execution_count": 2,
   "metadata": {},
   "outputs": [
    {
     "name": "stderr",
     "output_type": "stream",
     "text": [
      "WARNING: An illegal reflective access operation has occurred\n",
      "WARNING: Illegal reflective access by org.apache.spark.unsafe.Platform (file:/opt/spark/jars/spark-unsafe_2.12-3.2.1.jar) to constructor java.nio.DirectByteBuffer(long,int)\n",
      "WARNING: Please consider reporting this to the maintainers of org.apache.spark.unsafe.Platform\n",
      "WARNING: Use --illegal-access=warn to enable warnings of further illegal reflective access operations\n",
      "WARNING: All illegal access operations will be denied in a future release\n",
      "Setting default log level to \"WARN\".\n",
      "To adjust logging level use sc.setLogLevel(newLevel). For SparkR, use setLogLevel(newLevel).\n",
      "/opt/spark//python/pyspark/sql/context.py:77: FutureWarning: Deprecated in 3.0.0. Use SparkSession.builder.getOrCreate() instead.\n",
      "  warnings.warn(\n"
     ]
    }
   ],
   "source": [
    "sc = spark_init.spark_context()\n",
    "sql_context = spark_init.sql_context(sc)"
   ]
  },
  {
   "cell_type": "markdown",
   "metadata": {},
   "source": [
    "### Load Data"
   ]
  },
  {
   "cell_type": "code",
   "execution_count": 2,
   "metadata": {},
   "outputs": [],
   "source": [
    "subreddits_geolocation = pd.read_csv(cu.data_path + \"US_CA_subreddit_geolocation.csv\", index_col = 0)\n",
    "df_strong = pd.read_csv(cu.data_path + \"author_list_subreddit_class/strong_authors_cohort_subreddit_class.csv\", index_col = 0)\n",
    "df_control = pd.read_csv(cu.data_path + \"author_list_subreddit_class/control_authors_cohort.csv\", index_col = 0)\n",
    "df_authors = pd.concat([df_control, df_strong])[[\"author\", \"subreddit_class\"]]\n"
   ]
  },
  {
   "cell_type": "code",
   "execution_count": 3,
   "metadata": {},
   "outputs": [
    {
     "data": {
      "text/plain": [
       "311"
      ]
     },
     "execution_count": 3,
     "metadata": {},
     "output_type": "execute_result"
    }
   ],
   "source": [
    "len(subreddits_geolocation)"
   ]
  },
  {
   "cell_type": "code",
   "execution_count": 25,
   "metadata": {},
   "outputs": [
    {
     "data": {
      "text/html": [
       "<div>\n",
       "<style scoped>\n",
       "    .dataframe tbody tr th:only-of-type {\n",
       "        vertical-align: middle;\n",
       "    }\n",
       "\n",
       "    .dataframe tbody tr th {\n",
       "        vertical-align: top;\n",
       "    }\n",
       "\n",
       "    .dataframe thead th {\n",
       "        text-align: right;\n",
       "    }\n",
       "</style>\n",
       "<table border=\"1\" class=\"dataframe\">\n",
       "  <thead>\n",
       "    <tr style=\"text-align: right;\">\n",
       "      <th></th>\n",
       "      <th>subreddit</th>\n",
       "      <th>country</th>\n",
       "      <th>admin1code</th>\n",
       "      <th>region</th>\n",
       "    </tr>\n",
       "  </thead>\n",
       "  <tbody>\n",
       "    <tr>\n",
       "      <th>0</th>\n",
       "      <td>boston</td>\n",
       "      <td>US</td>\n",
       "      <td>MA</td>\n",
       "      <td>Massachusetts</td>\n",
       "    </tr>\n",
       "    <tr>\n",
       "      <th>1</th>\n",
       "      <td>massachusetts</td>\n",
       "      <td>US</td>\n",
       "      <td>MA</td>\n",
       "      <td>Massachusetts</td>\n",
       "    </tr>\n",
       "    <tr>\n",
       "      <th>2</th>\n",
       "      <td>Somerville</td>\n",
       "      <td>US</td>\n",
       "      <td>MA</td>\n",
       "      <td>Massachusetts</td>\n",
       "    </tr>\n",
       "    <tr>\n",
       "      <th>3</th>\n",
       "      <td>wayland</td>\n",
       "      <td>US</td>\n",
       "      <td>MA</td>\n",
       "      <td>Massachusetts</td>\n",
       "    </tr>\n",
       "    <tr>\n",
       "      <th>4</th>\n",
       "      <td>Waltham</td>\n",
       "      <td>US</td>\n",
       "      <td>MA</td>\n",
       "      <td>Massachusetts</td>\n",
       "    </tr>\n",
       "  </tbody>\n",
       "</table>\n",
       "</div>"
      ],
      "text/plain": [
       "       subreddit country admin1code         region\n",
       "0         boston      US         MA  Massachusetts\n",
       "1  massachusetts      US         MA  Massachusetts\n",
       "2     Somerville      US         MA  Massachusetts\n",
       "3        wayland      US         MA  Massachusetts\n",
       "4        Waltham      US         MA  Massachusetts"
      ]
     },
     "execution_count": 25,
     "metadata": {},
     "output_type": "execute_result"
    }
   ],
   "source": [
    "# DataFrame with subreddit - country - admin1code (referring to US state or Canada provinces)\n",
    "subreddits_geolocation.head()"
   ]
  },
  {
   "cell_type": "code",
   "execution_count": 26,
   "metadata": {},
   "outputs": [
    {
     "data": {
      "text/html": [
       "<div>\n",
       "<style scoped>\n",
       "    .dataframe tbody tr th:only-of-type {\n",
       "        vertical-align: middle;\n",
       "    }\n",
       "\n",
       "    .dataframe tbody tr th {\n",
       "        vertical-align: top;\n",
       "    }\n",
       "\n",
       "    .dataframe thead th {\n",
       "        text-align: right;\n",
       "    }\n",
       "</style>\n",
       "<table border=\"1\" class=\"dataframe\">\n",
       "  <thead>\n",
       "    <tr style=\"text-align: right;\">\n",
       "      <th></th>\n",
       "      <th>author</th>\n",
       "      <th>subreddit_class</th>\n",
       "    </tr>\n",
       "  </thead>\n",
       "  <tbody>\n",
       "    <tr>\n",
       "      <th>633746</th>\n",
       "      <td>Pikachu62999328</td>\n",
       "      <td>NaN</td>\n",
       "    </tr>\n",
       "    <tr>\n",
       "      <th>3929</th>\n",
       "      <td>thowy256899754346</td>\n",
       "      <td>activism</td>\n",
       "    </tr>\n",
       "    <tr>\n",
       "      <th>472405</th>\n",
       "      <td>itryanditryanditry</td>\n",
       "      <td>NaN</td>\n",
       "    </tr>\n",
       "    <tr>\n",
       "      <th>537917</th>\n",
       "      <td>vectorama</td>\n",
       "      <td>NaN</td>\n",
       "    </tr>\n",
       "    <tr>\n",
       "      <th>505358</th>\n",
       "      <td>Maxawelk</td>\n",
       "      <td>NaN</td>\n",
       "    </tr>\n",
       "    <tr>\n",
       "      <th>20160</th>\n",
       "      <td>funkywinkerbean45</td>\n",
       "      <td>discussion</td>\n",
       "    </tr>\n",
       "  </tbody>\n",
       "</table>\n",
       "</div>"
      ],
      "text/plain": [
       "                    author subreddit_class\n",
       "633746     Pikachu62999328             NaN\n",
       "3929     thowy256899754346        activism\n",
       "472405  itryanditryanditry             NaN\n",
       "537917           vectorama             NaN\n",
       "505358            Maxawelk             NaN\n",
       "20160    funkywinkerbean45      discussion"
      ]
     },
     "execution_count": 26,
     "metadata": {},
     "output_type": "execute_result"
    }
   ],
   "source": [
    "# dataframe of authors and subreddit_class, that is the type of activation\n",
    "# nan are the authors in control group\n",
    "df_authors.sample(6)"
   ]
  },
  {
   "cell_type": "markdown",
   "metadata": {},
   "source": [
    "### Monthly author georeferences"
   ]
  },
  {
   "cell_type": "code",
   "execution_count": 27,
   "metadata": {},
   "outputs": [],
   "source": [
    "# need to rename pd.DataFrame.items for converting pandas df to spark for pandas >= 2.0\n",
    "pd.DataFrame.iteritems = pd.DataFrame.items"
   ]
  },
  {
   "cell_type": "code",
   "execution_count": 28,
   "metadata": {},
   "outputs": [],
   "source": [
    "# transform the Pandas dataframes into a spark dataframes\n",
    "author_class_df = sql_context.createDataFrame(df_authors[[\"author\", \"subreddit_class\"]].astype(str))\n",
    "subreddits_geolocation_df = sql_context.createDataFrame(subreddits_geolocation.astype(str))"
   ]
  },
  {
   "cell_type": "code",
   "execution_count": 29,
   "metadata": {},
   "outputs": [
    {
     "data": {
      "text/html": [
       "<div>\n",
       "<style scoped>\n",
       "    .dataframe tbody tr th:only-of-type {\n",
       "        vertical-align: middle;\n",
       "    }\n",
       "\n",
       "    .dataframe tbody tr th {\n",
       "        vertical-align: top;\n",
       "    }\n",
       "\n",
       "    .dataframe thead th {\n",
       "        text-align: right;\n",
       "    }\n",
       "</style>\n",
       "<table border=\"1\" class=\"dataframe\">\n",
       "  <thead>\n",
       "    <tr style=\"text-align: right;\">\n",
       "      <th></th>\n",
       "      <th>author</th>\n",
       "      <th>country</th>\n",
       "      <th>admin1code</th>\n",
       "      <th>count</th>\n",
       "    </tr>\n",
       "  </thead>\n",
       "  <tbody>\n",
       "    <tr>\n",
       "      <th>0</th>\n",
       "      <td>Sxeptomaniac</td>\n",
       "      <td>US</td>\n",
       "      <td>CA</td>\n",
       "      <td>12</td>\n",
       "    </tr>\n",
       "    <tr>\n",
       "      <th>1</th>\n",
       "      <td>AKraiderfan</td>\n",
       "      <td>US</td>\n",
       "      <td>PA</td>\n",
       "      <td>75</td>\n",
       "    </tr>\n",
       "    <tr>\n",
       "      <th>2</th>\n",
       "      <td>uselessartsdegree</td>\n",
       "      <td>US</td>\n",
       "      <td>NY</td>\n",
       "      <td>8</td>\n",
       "    </tr>\n",
       "    <tr>\n",
       "      <th>3</th>\n",
       "      <td>OriginalPostSearcher</td>\n",
       "      <td>US</td>\n",
       "      <td>OR</td>\n",
       "      <td>6</td>\n",
       "    </tr>\n",
       "    <tr>\n",
       "      <th>4</th>\n",
       "      <td>BooYeah0484</td>\n",
       "      <td>US</td>\n",
       "      <td>TX</td>\n",
       "      <td>21</td>\n",
       "    </tr>\n",
       "    <tr>\n",
       "      <th>...</th>\n",
       "      <td>...</td>\n",
       "      <td>...</td>\n",
       "      <td>...</td>\n",
       "      <td>...</td>\n",
       "    </tr>\n",
       "    <tr>\n",
       "      <th>1507</th>\n",
       "      <td>KingOfVermont</td>\n",
       "      <td>US</td>\n",
       "      <td>VT</td>\n",
       "      <td>1</td>\n",
       "    </tr>\n",
       "    <tr>\n",
       "      <th>1508</th>\n",
       "      <td>katerific</td>\n",
       "      <td>US</td>\n",
       "      <td>GA</td>\n",
       "      <td>2</td>\n",
       "    </tr>\n",
       "    <tr>\n",
       "      <th>1509</th>\n",
       "      <td>wescowell</td>\n",
       "      <td>US</td>\n",
       "      <td>IL</td>\n",
       "      <td>2</td>\n",
       "    </tr>\n",
       "    <tr>\n",
       "      <th>1510</th>\n",
       "      <td>Deerscicle</td>\n",
       "      <td>US</td>\n",
       "      <td>MN</td>\n",
       "      <td>1</td>\n",
       "    </tr>\n",
       "    <tr>\n",
       "      <th>1511</th>\n",
       "      <td>SymbioticPatriotic</td>\n",
       "      <td>US</td>\n",
       "      <td>PA</td>\n",
       "      <td>2</td>\n",
       "    </tr>\n",
       "  </tbody>\n",
       "</table>\n",
       "<p>1512 rows × 4 columns</p>\n",
       "</div>"
      ],
      "text/plain": [
       "                    author country admin1code  count\n",
       "0             Sxeptomaniac      US         CA     12\n",
       "1              AKraiderfan      US         PA     75\n",
       "2        uselessartsdegree      US         NY      8\n",
       "3     OriginalPostSearcher      US         OR      6\n",
       "4              BooYeah0484      US         TX     21\n",
       "...                    ...     ...        ...    ...\n",
       "1507         KingOfVermont      US         VT      1\n",
       "1508             katerific      US         GA      2\n",
       "1509             wescowell      US         IL      2\n",
       "1510            Deerscicle      US         MN      1\n",
       "1511    SymbioticPatriotic      US         PA      2\n",
       "\n",
       "[1512 rows x 4 columns]"
      ]
     },
     "execution_count": 29,
     "metadata": {},
     "output_type": "execute_result"
    }
   ],
   "source": [
    "# i join author subreddit dataframe with subreddit geolocation \n",
    "# broadcast is used to join a large dataframe with a small one\n",
    "# the small one is replicated in each parallel process\n",
    "# then count the number of comments/submission per author per region\n",
    "(\n",
    "    sql_context.read.parquet(sorted(glob(cu.data_path + \"histories_strong_activated_and_control/*\"))[40])\n",
    "        .select([\"author\", \"subreddit\"])\n",
    "        .join(F.broadcast(subreddits_geolocation_df), \"subreddit\", \"inner\")\n",
    "        .join(F.broadcast(author_class_df), \"author\", \"inner\")\n",
    "        .groupby([\"author\", \"country\", \"admin1code\"])\n",
    "        .count()\n",
    "        .toPandas()\n",
    "    )"
   ]
  },
  {
   "cell_type": "code",
   "execution_count": 1,
   "metadata": {},
   "outputs": [],
   "source": [
    "# save them for each month\n",
    "for file in sorted(glob(cu.data_path + \"histories_strong_activated_and_control/RS*\")):\n",
    "    print(file)\n",
    "    try:\n",
    "        (\n",
    "            sql_context.read.parquet(file)\n",
    "            .select([\"author\", \"subreddit\"])\n",
    "            .join(F.broadcast(subreddits_geolocation_df), \"subreddit\", \"inner\")\n",
    "            .join(F.broadcast(author_class_df), \"author\", \"inner\")\n",
    "            .groupby([\"author\", \"country\", \"admin1code\"])\n",
    "            .count()\n",
    "        ).toPandas().to_csv(cu.data_path + f\"geolocation_histories/{file.replace('.', '/').split('/')[-2]}.csv.gzip\", compression = \"gzip\")\n",
    "    except:\n",
    "        print(file, \"NOT OPEN\")"
   ]
  },
  {
   "cell_type": "markdown",
   "metadata": {},
   "source": [
    "### Total author georeferences"
   ]
  },
  {
   "cell_type": "code",
   "execution_count": 4,
   "metadata": {},
   "outputs": [],
   "source": [
    "# concatenate all the monthly dataframes we saved, to count the total number of comments/submissions per author \n",
    "authors_admin1codes = (pd.concat([pd.read_csv(file, compression = \"gzip\", index_col = 0) for file in glob(cu.data_path + \"geolocation_histories/*\")])\n",
    "                       .groupby([\"author\", \"country\", \"admin1code\"]).sum().reset_index())"
   ]
  },
  {
   "cell_type": "code",
   "execution_count": 5,
   "metadata": {},
   "outputs": [],
   "source": [
    "# count the number of different admin1code (region) assigned per author\n",
    "# and keep only the authors that wrote in only one admin1code\n",
    "geolocated_authors_df = authors_admin1codes[authors_admin1codes[\"author\"].isin(authors_admin1codes.groupby(\"author\").count().query(\"admin1code == 1\").index)]"
   ]
  },
  {
   "cell_type": "code",
   "execution_count": 33,
   "metadata": {},
   "outputs": [],
   "source": [
    "geolocated_authors_df.to_csv(cu.data_path + \"geolocated_users_window.csv\")"
   ]
  },
  {
   "cell_type": "code",
   "execution_count": 9,
   "metadata": {},
   "outputs": [
    {
     "name": "stdout",
     "output_type": "stream",
     "text": [
      "Proportion geolocated authors 0.247\n"
     ]
    }
   ],
   "source": [
    "print(\"Proportion geolocated authors\", round(len(geolocated_authors_df) / len(df_authors[\"author\"].unique()), 3))"
   ]
  },
  {
   "cell_type": "markdown",
   "metadata": {},
   "source": [
    "### Real population vs georeferenced usrs"
   ]
  },
  {
   "cell_type": "code",
   "execution_count": 2,
   "metadata": {},
   "outputs": [],
   "source": [
    "# Load data about us and canada populations\n",
    "df_canada_provinces = pd.DataFrame([row.split('\"')[:2] for row in pd.read_csv(cu.data_path + \"canada_population_provinces.csv\", header = 8, sep = \";\", \n",
    "                                                                              names = [\"cols\"])[\"cols\"][:14]], columns = [\"PROVINCE\", \"POPULATION\"])\n",
    "df_canada_provinces = (df_canada_provinces.assign(region = lambda x: [u[:-3] if \"2\" in u else u[:-1] for u in x[\"PROVINCE\"]],\n",
    "                                                  population = lambda x: [int(\"\".join([k for k in u if k != \",\"])) for u in list(x[\"POPULATION\"])])\n",
    "                                                  .merge(pd.DataFrame([{\n",
    "                                                      'Newfoundland and Labrador':5,\n",
    "                                                      'Nova Scotia':7,\n",
    "                                                      'New Brunswick':4,\n",
    "                                                      'Quebec': 10,\n",
    "                                                      'Ontario':8,\n",
    "                                                      'Manitoba':3,\n",
    "                                                      'Saskatchewan':11,\n",
    "                                                      'Alberta':1, \n",
    "                                                      'British Columbia':2,\n",
    "                                                      'Northwest Territories':13}])\n",
    "                                                      .T.reset_index()\n",
    "                                                      .rename(columns = {\"index\": \"region\",0: \"admin1code\", \"POPULATION\": \"population\"}))[[\"region\", \"population\", \"admin1code\"]]\n",
    "                                                      .assign(country = \"CA\"))\n",
    "\n",
    "pop_data = (pd.read_csv(cu.data_path + \"geo_data/US_POPULATION_STATE.csv\", sep = \";\")[[\"State\", \"01/07/23\"]]\n",
    "            .rename(columns = {\"01/07/23\": \"Population\"})\n",
    "            .iloc[:51].assign(State = lambda x: [u[1:] for u in x[\"State\"]], \n",
    "                              Population = lambda x: [int(\"\".join(u.split(\".\"))) \n",
    "                                                      for u in x[\"Population\"]]))\n",
    "\n",
    "subreddits_geolocation = pd.read_csv(cu.data_path + \"US_CA_subreddit_geolocation.csv\", index_col = 0)\n"
   ]
  },
  {
   "cell_type": "code",
   "execution_count": 3,
   "metadata": {},
   "outputs": [],
   "source": [
    "pop_data = pd.read_csv(cu.data_path + \"geo_data/US_POPULATION_STATE.csv\", sep = \";\")[[\"State\", \"01/07/23\"]].rename(columns = {\"01/07/23\": \"Population\"}).iloc[:51].assign(State = lambda x: [u[1:] for u in x[\"State\"]], Population = lambda x: [int(\"\".join(u.split(\".\"))) for u in x[\"Population\"]])"
   ]
  },
  {
   "cell_type": "code",
   "execution_count": 4,
   "metadata": {},
   "outputs": [],
   "source": [
    "# load data about georeferences in our dataset\n",
    "admin1code_population = pd.concat([(pop_data.rename(columns = {\"State\": \"region\", \"Population\": \"population\"}).merge(subreddits_geolocation.query(\"country == 'US'\").groupby(\"region\").first()[[\"admin1code\", \"country\"]].reset_index(), how = \"outer\")).dropna(),\n",
    "                                   df_canada_provinces])\n",
    "admin1code_population[\"admin1code\"] = admin1code_population[\"admin1code\"].astype(str)"
   ]
  },
  {
   "cell_type": "code",
   "execution_count": 5,
   "metadata": {},
   "outputs": [],
   "source": [
    "geolocated_authors_df = pd.read_csv(cu.data_path + \"geolocated_users_window.csv\", index_col = 0)"
   ]
  },
  {
   "cell_type": "code",
   "execution_count": 6,
   "metadata": {},
   "outputs": [],
   "source": [
    "# merge real and georeferenced population \n",
    "real_vs_reddit_population = geolocated_authors_df.groupby([\"country\", \"admin1code\"]).count()[\"author\"].reset_index().merge(admin1code_population).rename(columns = {\"author\": \"reddit_population\", \"population\": \"real_population\"})"
   ]
  },
  {
   "cell_type": "code",
   "execution_count": 7,
   "metadata": {},
   "outputs": [],
   "source": [
    "mypalette = [sns.color_palette(\"bright\")[3], sns.color_palette(\"dark\")[0]]"
   ]
  },
  {
   "cell_type": "code",
   "execution_count": 12,
   "metadata": {},
   "outputs": [
    {
     "data": {
      "image/png": "[encoded data removed]",
      "text/plain": [
       "<Figure size 300x300 with 1 Axes>"
      ]
     },
     "metadata": {},
     "output_type": "display_data"
    }
   ],
   "source": [
    "fig, axes = plt.subplots(figsize = (3,3))\n",
    "\n",
    "sns.scatterplot(real_vs_reddit_population.replace({\"CA\": \"Canada\"}),\n",
    "                x = \"real_population\",\n",
    "                y = \"reddit_population\",\n",
    "                hue = \"country\",\n",
    "                palette = mypalette,\n",
    "                alpha = 0.6\n",
    "                )\n",
    "\n",
    "\n",
    "axes.set_xscale(\"log\")\n",
    "axes.set_yscale(\"log\")\n",
    "\n",
    "axes.spines['top'].set_visible(False)\n",
    "axes.spines['right'].set_visible(False)\n",
    "axes.legend(title = \"\")\n",
    "axes.set_xlabel(\"Real Population\")\n",
    "axes.set_ylabel(\"#Georeferenced Users\")\n",
    "\n",
    "fig.savefig(f\"../paper/georeferences.pdf\", format = \"pdf\", bbox_inches = \"tight\")\n"
   ]
  },
  {
   "cell_type": "code",
   "execution_count": null,
   "metadata": {},
   "outputs": [],
   "source": []
  },
  {
   "cell_type": "code",
   "execution_count": null,
   "metadata": {},
   "outputs": [],
   "source": []
  },
  {
   "cell_type": "code",
   "execution_count": null,
   "metadata": {},
   "outputs": [],
   "source": []
  },
  {
   "cell_type": "code",
   "execution_count": null,
   "metadata": {},
   "outputs": [],
   "source": []
  }
 ],
 "metadata": {
  "kernelspec": {
   "display_name": "climact_env",
   "language": "python",
   "name": "python3"
  },
  "language_info": {
   "codemirror_mode": {
    "name": "ipython",
    "version": 3
   },
   "file_extension": ".py",
   "mimetype": "text/x-python",
   "name": "python",
   "nbconvert_exporter": "python",
   "pygments_lexer": "ipython3",
   "version": "3.9.19"
  },
  "orig_nbformat": 4
 },
 "nbformat": 4,
 "nbformat_minor": 2
}
