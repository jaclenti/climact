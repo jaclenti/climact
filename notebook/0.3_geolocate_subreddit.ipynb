{
 "cells": [
  {
   "cell_type": "code",
   "execution_count": 2,
   "metadata": {},
   "outputs": [],
   "source": [
    "import pandas as pd \n",
    "import sys\n",
    "sys.path += [\"../src\"]\n",
    "sys.path += [\"../src/geonameslocator\"]\n",
    "import geolocator\n",
    "import json\n",
    "from glob import glob\n",
    "import numpy as np\n",
    "import climact_utils as cu\n",
    "import seaborn as sns\n",
    "import matplotlib.pyplot as plt\n",
    "from matplotlib.pyplot import subplots as sbp"
   ]
  },
  {
   "cell_type": "code",
   "execution_count": 3,
   "metadata": {},
   "outputs": [
    {
     "name": "stderr",
     "output_type": "stream",
     "text": [
      "WARNING: An illegal reflective access operation has occurred\n",
      "WARNING: Illegal reflective access by org.apache.spark.unsafe.Platform (file:/opt/spark/jars/spark-unsafe_2.12-3.2.1.jar) to constructor java.nio.DirectByteBuffer(long,int)\n",
      "WARNING: Please consider reporting this to the maintainers of org.apache.spark.unsafe.Platform\n",
      "WARNING: Use --illegal-access=warn to enable warnings of further illegal reflective access operations\n",
      "WARNING: All illegal access operations will be denied in a future release\n",
      "Setting default log level to \"WARN\".\n",
      "To adjust logging level use sc.setLogLevel(newLevel). For SparkR, use setLogLevel(newLevel).\n",
      "/opt/spark//python/pyspark/sql/context.py:77: FutureWarning: Deprecated in 3.0.0. Use SparkSession.builder.getOrCreate() instead.\n",
      "  warnings.warn(\n"
     ]
    }
   ],
   "source": [
    "import spark_init\n",
    "from pyspark.sql import SQLContext\n",
    "\n",
    "sc = spark_init.spark_context()\n",
    "sqlContext = SQLContext(sc)"
   ]
  },
  {
   "cell_type": "code",
   "execution_count": 4,
   "metadata": {},
   "outputs": [
    {
     "name": "stderr",
     "output_type": "stream",
     "text": [
      "                                                                                \r"
     ]
    }
   ],
   "source": [
    "file = sorted(glob(cu.data_path + \"*after*/*\"))[0]\n",
    "    \n",
    "path_name = cu.data_path + f\"parent_id_after_strong/{file.replace('.', '/').split('/')[-2]}.npy\"\n",
    "pid = sqlContext.read.parquet(file).select(\"parent_id\").distinct().toPandas()[\"parent_id\"]\n"
   ]
  },
  {
   "cell_type": "markdown",
   "metadata": {},
   "source": [
    "### Add non spaced words to location data"
   ]
  },
  {
   "cell_type": "code",
   "execution_count": 4,
   "metadata": {},
   "outputs": [],
   "source": [
    "with open('../src/geonameslocator/locdictionary.json') as f:\n",
    "    locdictionary = json.load(f)"
   ]
  },
  {
   "cell_type": "code",
   "execution_count": 5,
   "metadata": {},
   "outputs": [],
   "source": [
    "locationdata = pd.read_csv(\"../src/geonameslocator/countriesdatap.tsv\", sep='\\t', low_memory=False, index_col=\"geonameid\")"
   ]
  },
  {
   "cell_type": "code",
   "execution_count": 6,
   "metadata": {},
   "outputs": [],
   "source": [
    "us_and_popular_id = locationdata.query(\"(population > 100000)|((countrycode == 'US')&(featurecode == 'ADM1'))\").index"
   ]
  },
  {
   "cell_type": "code",
   "execution_count": 7,
   "metadata": {},
   "outputs": [],
   "source": [
    "tokenized_names = [geolocator.find_names(name) for name in list(locationdata.loc[us_and_popular_id, \"name\"])]"
   ]
  },
  {
   "cell_type": "code",
   "execution_count": 48,
   "metadata": {},
   "outputs": [],
   "source": [
    "new_json = {}\n",
    "for set_u in tokenized_names:\n",
    "    for u in set_u:\n",
    "        if u in locdictionary.keys():\n",
    "            split_u = u.split(\" \")\n",
    "            if len(split_u) > 0:\n",
    "                new_json[\"\".join(split_u)] = locdictionary[u]\n",
    "                # locdictionary.update({\"\".join(split_u): locdictionary[u]})"
   ]
  },
  {
   "cell_type": "code",
   "execution_count": 49,
   "metadata": {},
   "outputs": [],
   "source": [
    "locdictionary.update(new_json)"
   ]
  },
  {
   "cell_type": "code",
   "execution_count": 51,
   "metadata": {},
   "outputs": [],
   "source": [
    "with open ('../src/geonameslocator/locdictionary.json', 'w') as f:\n",
    "    json.dump(locdictionary, f)"
   ]
  },
  {
   "cell_type": "code",
   "execution_count": 8,
   "metadata": {},
   "outputs": [
    {
     "data": {
      "text/plain": [
       "name                                                       New Jersey\n",
       "asciiname                                                  New Jersey\n",
       "alternatenames      ['New Jersey', 'Cene Dzhersi', 'Garden State',...\n",
       "latitude                                                     40.16706\n",
       "longitude                                                   -74.49987\n",
       "featureclass                                                        A\n",
       "featurecode                                                      ADM1\n",
       "countrycode                                                        US\n",
       "cc2                                                               NaN\n",
       "admin1code                                                         NJ\n",
       "admin2code                                                        NaN\n",
       "admin3code                                                        NaN\n",
       "admin4code                                                        NaN\n",
       "population                                                    8751436\n",
       "elevation                                                        42.0\n",
       "dem                                                                41\n",
       "timezone                                             America/New_York\n",
       "modificationdate                                           2019-12-27\n",
       "Name: 5101760, dtype: object"
      ]
     },
     "execution_count": 8,
     "metadata": {},
     "output_type": "execute_result"
    }
   ],
   "source": [
    "geolocator.locationdata.loc[geolocator.find_best_match(\"newjersey\")]"
   ]
  },
  {
   "cell_type": "markdown",
   "metadata": {},
   "source": [
    "### Count geolocations"
   ]
  },
  {
   "cell_type": "code",
   "execution_count": 2,
   "metadata": {},
   "outputs": [
    {
     "name": "stderr",
     "output_type": "stream",
     "text": [
      "WARNING: An illegal reflective access operation has occurred\n",
      "WARNING: Illegal reflective access by org.apache.spark.unsafe.Platform (file:/opt/spark/jars/spark-unsafe_2.12-3.2.1.jar) to constructor java.nio.DirectByteBuffer(long,int)\n",
      "WARNING: Please consider reporting this to the maintainers of org.apache.spark.unsafe.Platform\n",
      "WARNING: Use --illegal-access=warn to enable warnings of further illegal reflective access operations\n",
      "WARNING: All illegal access operations will be denied in a future release\n",
      "Setting default log level to \"WARN\".\n",
      "To adjust logging level use sc.setLogLevel(newLevel). For SparkR, use setLogLevel(newLevel).\n"
     ]
    }
   ],
   "source": [
    "import spark_init\n",
    "sc = spark_init.spark_context()\n",
    "\n",
    "def resilient_json(s):\n",
    "    try:\n",
    "        return json.loads(s)\n",
    "    except:\n",
    "        return {}\n",
    "    \n",
    "\n",
    "data_path = \"/data/big/xxx/climact/data/\"\n",
    "\n",
    "columns = ['author',\n",
    " 'subreddit',\n",
    " 'body',\n",
    " 'created_utc',\n",
    " 'id',\n",
    " 'link_id',\n",
    " 'score',\n",
    " 'subreddit_id',\n",
    " 'parent_id']\n",
    "\n",
    "\n",
    "utc_to_date = lambda x: pd.to_datetime(x[\"created_utc\"], unit = \"s\")\n",
    "\n",
    "bot_list=list(pd.read_csv(data_path + 'bot_list.csv')['author'])\n",
    "\n",
    "activation_types = [\"strong\", \"weak\"]\n",
    "type_texts = [\"submissions\", \"comments\"]\n",
    "type_txts = [\"RS\", \"RC\"]"
   ]
  },
  {
   "cell_type": "code",
   "execution_count": 3,
   "metadata": {},
   "outputs": [],
   "source": [
    "sc.addPyFile(\"../src/geonameslocator/geolocator.py\")"
   ]
  },
  {
   "cell_type": "code",
   "execution_count": 4,
   "metadata": {},
   "outputs": [],
   "source": [
    "def exist_geolocation(s):\n",
    "    exist = geolocator.find_best_match(s) is not None\n",
    "    return exist"
   ]
  },
  {
   "cell_type": "code",
   "execution_count": 5,
   "metadata": {},
   "outputs": [
    {
     "name": "stderr",
     "output_type": "stream",
     "text": [
      "                                                                                \r"
     ]
    }
   ],
   "source": [
    "df_geo = pd.DataFrame(sc.textFile(cu.data_path + \"history_strong_authors/RS_2016_09/*bz2\").map(lambda x: resilient_json(x)).collect(), columns = cu.columns).dropna(subset = \"subreddit\")\\\n",
    "                    .assign(geolocation = lambda x: [geolocator.find_best_match(u) for u in x[\"subreddit\"]]).dropna(subset = \"geolocation\")[[\"author\", \"subreddit\", \"geolocation\"]].value_counts()"
   ]
  },
  {
   "cell_type": "code",
   "execution_count": 8,
   "metadata": {},
   "outputs": [
    {
     "data": {
      "text/html": [
       "<div>\n",
       "<style scoped>\n",
       "    .dataframe tbody tr th:only-of-type {\n",
       "        vertical-align: middle;\n",
       "    }\n",
       "\n",
       "    .dataframe tbody tr th {\n",
       "        vertical-align: top;\n",
       "    }\n",
       "\n",
       "    .dataframe thead th {\n",
       "        text-align: right;\n",
       "    }\n",
       "</style>\n",
       "<table border=\"1\" class=\"dataframe\">\n",
       "  <thead>\n",
       "    <tr style=\"text-align: right;\">\n",
       "      <th></th>\n",
       "      <th>author</th>\n",
       "      <th>subreddit</th>\n",
       "      <th>geolocation</th>\n",
       "      <th>count</th>\n",
       "    </tr>\n",
       "  </thead>\n",
       "  <tbody>\n",
       "    <tr>\n",
       "      <th>0</th>\n",
       "      <td>TreeGrowsInBrooklyn</td>\n",
       "      <td>Republican</td>\n",
       "      <td>4514438.0</td>\n",
       "      <td>34</td>\n",
       "    </tr>\n",
       "    <tr>\n",
       "      <th>1</th>\n",
       "      <td>tonybeme</td>\n",
       "      <td>economy</td>\n",
       "      <td>5188236.0</td>\n",
       "      <td>30</td>\n",
       "    </tr>\n",
       "    <tr>\n",
       "      <th>2</th>\n",
       "      <td>wvoutpost</td>\n",
       "      <td>reddit.com</td>\n",
       "      <td>6542055.0</td>\n",
       "      <td>25</td>\n",
       "    </tr>\n",
       "    <tr>\n",
       "      <th>3</th>\n",
       "      <td>LawyersGunsAndMoney</td>\n",
       "      <td>China</td>\n",
       "      <td>1814991.0</td>\n",
       "      <td>16</td>\n",
       "    </tr>\n",
       "    <tr>\n",
       "      <th>4</th>\n",
       "      <td>LawyersGunsAndMoney</td>\n",
       "      <td>newjersey</td>\n",
       "      <td>5101760.0</td>\n",
       "      <td>14</td>\n",
       "    </tr>\n",
       "    <tr>\n",
       "      <th>...</th>\n",
       "      <td>...</td>\n",
       "      <td>...</td>\n",
       "      <td>...</td>\n",
       "      <td>...</td>\n",
       "    </tr>\n",
       "    <tr>\n",
       "      <th>64</th>\n",
       "      <td>tonybeme</td>\n",
       "      <td>tyson</td>\n",
       "      <td>5310183.0</td>\n",
       "      <td>1</td>\n",
       "    </tr>\n",
       "    <tr>\n",
       "      <th>65</th>\n",
       "      <td>JoeThankYou</td>\n",
       "      <td>China</td>\n",
       "      <td>1814991.0</td>\n",
       "      <td>1</td>\n",
       "    </tr>\n",
       "    <tr>\n",
       "      <th>66</th>\n",
       "      <td>EsotericMirror</td>\n",
       "      <td>Africa</td>\n",
       "      <td>2473572.0</td>\n",
       "      <td>1</td>\n",
       "    </tr>\n",
       "    <tr>\n",
       "      <th>67</th>\n",
       "      <td>JoeThankYou</td>\n",
       "      <td>gaming</td>\n",
       "      <td>7871899.0</td>\n",
       "      <td>1</td>\n",
       "    </tr>\n",
       "    <tr>\n",
       "      <th>68</th>\n",
       "      <td>EdgarSPenn</td>\n",
       "      <td>iran</td>\n",
       "      <td>130758.0</td>\n",
       "      <td>1</td>\n",
       "    </tr>\n",
       "  </tbody>\n",
       "</table>\n",
       "<p>69 rows × 4 columns</p>\n",
       "</div>"
      ],
      "text/plain": [
       "                 author   subreddit  geolocation  count\n",
       "0   TreeGrowsInBrooklyn  Republican    4514438.0     34\n",
       "1              tonybeme     economy    5188236.0     30\n",
       "2             wvoutpost  reddit.com    6542055.0     25\n",
       "3   LawyersGunsAndMoney       China    1814991.0     16\n",
       "4   LawyersGunsAndMoney   newjersey    5101760.0     14\n",
       "..                  ...         ...          ...    ...\n",
       "64             tonybeme       tyson    5310183.0      1\n",
       "65          JoeThankYou       China    1814991.0      1\n",
       "66       EsotericMirror      Africa    2473572.0      1\n",
       "67          JoeThankYou      gaming    7871899.0      1\n",
       "68           EdgarSPenn        iran     130758.0      1\n",
       "\n",
       "[69 rows x 4 columns]"
      ]
     },
     "execution_count": 8,
     "metadata": {},
     "output_type": "execute_result"
    }
   ],
   "source": [
    "pd.read_csv(cu.data_path + \"geolocated_comments_users_subreddit/strong_RS_2013_03.csv\")"
   ]
  },
  {
   "cell_type": "markdown",
   "metadata": {},
   "source": [
    "### Remove mismatches"
   ]
  },
  {
   "cell_type": "code",
   "execution_count": null,
   "metadata": {},
   "outputs": [],
   "source": [
    "mismatches = [\"MMA\",\"DIY\",\"AMA\", \"rage\",\"civ\", \"scifi\",\"guns\", \"CFB\", \"Pure\", \"google\", \"Liberal\", \"RaIn\", \"pol\", \"police\", \"Republican\", \"Jung\",\"dogs\", \"cars\", \"homestead\", \"wow\", \"Battlefield\", \"economy\", \"DnD\", \"energy\",\"Ubuntu\", \"firefly\",\"test\",\"Kanye\", \"Hunting\", \"ios\", \"Green\", \"vita\",\"GFD\",\n",
    "       \"gif\", \"Vive\",\"Drama\",\"Cricket\",\"ADHD\", \"Diablo\",\"Coffee\",\"batman\",\"disney\",\"de\",\n",
    "       \"ass\", \"ARK\", \"EDM\", \"zen\", \"gis\", \"snowden\", \"Amd\", \"Metal\",\"gwent\",\"MTB\",\"manga\", \"Sherlock\",\"hacking\",\"Canning\",\"btc\",\"nova\",\"pens\", \"tall\",\"Vue\",\"mlb\",\"CCW\",\"DMT\",\"SQL\",\"kotor\", \"BSG\",\"Naruto\", \"tea\", \"happy\", \"arduino\",\"SCP\",\"Spanish\",\"Gotham\",\"scala\",\"MRW\",\"cactus\",\"PKA\",\"McDonalds\",\"git\",\n",
    "       \"Anger\",\"amazon\",\"boulder\", \"gay\",\"Bass\",\"Equality\",\"analog\",\"turn\",\"ramen\",\"OSU\", \"FIFA\", \"SWORDS\", \"dune\", \"whitewater\",\"STO\", \"Cascadia\", \"EBEs\",\"Velo\", \"kings\", \"bigfoot\", \"Columbus\",\"see\",\"Cisco\",\"lol\", \"army\", \"sto\",\"beta\", \"wex\", \"ask\", \"homeland\", \"MtF\", \"YMS\", \"camping\", \"MLS\", \"soma\",\n",
    "       \"kodi\",\"VPN\", \"Vent\", \"rap\", \"law\", \"coys\", \"short\", \"osx\", \"TZM\",\"Steep\",\"swift\",\"moab\",\"christmas\",\"arma\",\"Walker\", \"wec\",\"hbo\",\"luke\",\"SWN\", \"Portal\",\"FRC\", \"redstone\",\"Zappa\", \"KeyWest\",\"lazy\",\"GNV\", \"Pandora\", \"kotk\", \"Bernie\",\"mmo\", \"mead\", \"fireworks\", \"Dell\",\n",
    "       \"hydro\", \"ATT\", \"plano\", \"UCI\", \"Ferrari\", \"Sissy\",\"live\", \"Sake\",\"gog\",\"blender\", \"rct\",\"pepe\",\"Lawrence\",\"Honda\",\"MRA\",\"college\",\"sad\",\"magi\", \"PSP\",\"brass\", \"Snek\", \"MMJ\", \"POF\", \"canon\",\"drone\",\"mensa\", \"hum\", \"pasta\",\"funk\",\"botany\",\"Bamboo\",\"folk\",\"java\",\n",
    "       \"Koans\", \"vine\", \"ASU\", \"Incel\", \"bose\", \"TARS\", \"Ultima\",\"anno\", \"Brush\", \"gba\",\"brush\", \"Durango\", \"Polit\", \"Bend\",\"Browns\",\"Toyota\",\"kik\",\"ems\",\"vice\",\"elm\", \"poop\", \"bernie\",\"rva\",\"demons\",\"kingkong\",\"basset\",\"AZURE\", \"ISS\",\"IBM\", \"Bellingham\", \"eu\", \"Cosmos\",\n",
    "       \"piano\", \"USC\", \"wedding\",\"Grimes\", \"Everest\", \"PHP\", \"GLI\", \"Constitution\",\"TWD\", \"rem\", \"rum\", \"French\", \"Africa\", \"max\", \"weed\", \"lupus\", \"Nissan\",\"PBS\", \"CMH\",\"bach\", \"ames\",\"svg\",\"latin\",\"SoSE\", \"dgu\",\"kol\", \"horn\",\"Catan\",\"rush\", \"led\", \"matt\",\"cnn\", \"Mustang\",\"ted\",'Candida','CoonTown','Viking', 'ting',\n",
    "       \"llama\", \"kitchener\", \"jmu\", \"Palestine\", \"Eve\", \"nfl\", \"gaming\", \"tifu\", \"Art\", \"war\", \"startup\",'fsm', 'Quantico', 'obama','moba', 'ech','Fukushima', 'VPS','sales','peeling','Acme',\n",
    "       'TCU', 'Dance', 'Staples', 'meta', 'Braunschweig', 'nook','TOR', 'gossip','JMT', 'NIU','NPD', 'Pets', 'TNG','Michael', 'psx',\n",
    "       'SEO', 'excel','Barca','GRE', 'Rapids','labor', 'Saints','Kappa', 'redhead','Harley', 'golf', 'BBW', 'paragon', 'NEO','RWBY', 'Sat', 'Contest',  'sunset', 'yuri', 'bjj', 'nin',  'bois', 'sph','Maya', 'hmm', 'mfm', 'WRX','EDH', 'Emo', 'DOG', 'orioles', 'trap', 'Chihuahua','ACT', 'Hue', 'Target',  'MINI', 'Everton','ARG', 'Brewers', 'Draven', 'Supreme', 'Triumph', 'Vans','canes', 'mcgill', 'cade', 'oasis','eos', 'Ozark', 'FMN', 'cat', 'hammer', 'Coyotes', 'EHM','Coachella', 'css',  'vba', 'joi', 'mormon',  'Vore', 'lux', 'dxm', 'PAX', 'German','Sup', 'Bacon',  'tales', 'astoria', 'DarK','BBB',  'sabres', 'Broadway', 'liberta',\n",
    "       'ColoradoSprings', 'psx''Astros', 'plants', 'SFM', 'dicks', 'UMD','pug', 'Lyme', 'Nokia', 'fonts',  'mwo','rust',  'bih',  'rat', 'doge',\n",
    "       'CFD', 'jordan',  'NEU',  'tfc', 'Kos','PLC',  'Vivarium', 'fsu', 'Catahoula','dayton', 'baylor', 'Agos', 'MUN','bridge','reading', 'YMatA','Soto','gate','landmark', 'utc', 'SNL','und','bats', 'CLT', 'Billings', 'dtm','TNA','crouch','Aledo', 'telemark','kot', 'Iron', 'sas','Daniel','Defiance', 'luther','SCT',\n",
    "       'MAME', 'marciel',  'lepin', 'crows', 'cky',       'davao', 'deadwood', 'dear', 'dev',  'Carcassonne', 'Celebration','Chinchina', 'Chucky', 'irl',  'jardin', 'jgb', 'jira','kakinada', 'kandi', 'caran', 'cayman',  'chili','chunky', 'cicada', 'cmd', 'cmu',  'Ibanez',\n",
    "        'capoeira', 'car', 'kritika', 'ksi', 'labyrinth', 'lafayette',  'laredo', 'GodField', 'City', 'Collie','kosher',  'kot''midori', 'mii', 'mining',  'CME', 'CPA','transit','BDS','trans','sfc', 'milwaukee','Kava','dnc','SNP','TEFL','tiling','PEI', 'midi','chernobyl','bond', 'place', 'Nolan','fail'\n",
    "       'mechanic', 'loss', 'maia',  'marbel','marines', 'Blades', 'Bong', 'Booze', 'conan','RiL', 'HGD', 'House','TBI','hsx', 'hsp','BSA', 'SEGA','tamil', 'irc', 'grimm','MTU','bash','byu', 'paint','ETE','GMO', 'Troy','Tavor',\n",
    "        'Hitchcock', 'IGN', 'IST','pedale','Pitt', 'ebola', 'SRS','ben','media','restaurant', 'NOG', 'utopia', 'CBS', 'podio','PhD', 'poi','Wool','sims','ferguson','Gore', 'Pink', 'lds', 'raw','pressy','ANGEL', 'huty','BTS',  'candy',   'HGH','ula', 'MIne', 'Pee', 'hbt', 'Astros', 'UNU', 'Tanner', 'Nagato','latinas', 'lena','ACK', 'panda','Barbara', 'penguin', 'UCA', 'cum', 'cuse', 'tiger', 'slup','tongue',\n",
    "       'MAA','Ryan', 'dam', 'Mars', 'Fun','Sumo', 'miran', 'tornado', 'Laina', 'tango', 'tsu','wft', 'mgw', 'TYT', 'silly', 'kense', 'hmb', 'gross','chen', 'ERB', 'banana', 'asia', 'STEM','HOLO',   'bulldog', 'bully', 'labrador',\n",
    "       'aquarium',  'Lottery','Ishii', 'u_The-Oceans-Gay-Waves', 'nbn', 'lacrosse', 'Christian', 'haskell', 'DACA', 'karma',  'fea', 'Gin', 'Jindo', 'Celica', 'benfica','besiktas', 'tron','twilight', 'rance', 'akita', 'Shen','arcade', 'asl', 'Salvia', 'KTM',  'SBU',  'marton', 'logh', 'BoBoLA',  'slp','Home', 'msp',  'Concordia', 'Concrete',\n",
    "       'Cow',  'flint', 'Eustis', 'Viola','Brentford', 'Bryce',  'mercedes', 'Lain','Lamia',  'Trombone', 'UGA', 'tequila','sesame', 'cognac', 'corpus', 'chivas', 'chocolate', 'abv','Lubbock', 'wood', 'cfs', 'ruby',  'Koi','bch', 'triangle', 'GED', 'kof', 'blackjack', 'dolan', 'Cardiff','aurora', 'KSU',  'Kawasaki',  'Ska',\n",
    "       'SLO', 'SPG', 'perl', 'api',  'Dimon', 'evergreen','fivehead',  'PSW', 'enf', 'Pohja', 'Queens','ski',  'cafe', 'Pontiac', 'Pristin', 'QRL', 'PRINCE',  'ALS',  'psg', 'patreon', 'Juniper', 'banjo','Irma', 'JWs',  'avb', 'apollo', 'pagan','opera', 'orange', 'osr', 'ota', 'ATC','bronco', 'bim', 'beg',  'Khan', 'ropes',  'amv', 'anchorage', 'MBA',\n",
    "       'smart', 'saw', 'santa','Wake',  'murakami',  'Hulu', 'IOT','BELGICA',  'mobile', 'momo', 'mets','Cadillac', 'Tivo', 'Toes', 'Tree', 'Tegu', 'Temple', 'Suomi','shine',  'CISA', 'mahwah', 'lua', 'clans',  'lean', 'vtl','virgin',  'u_sexual-sinning', 'knolling','Font', 'Forth', 'delta', 'dnp', 'docker', \n",
    "       'Citra', 'Monsanto', 'Siri',  'Orania', 'Orton','SALEM', 'SAP', 'Rime', 'Cebu', 'Diamond',  'DOTA',  'Panorama','Papa',  'Pecs', 'Outlook','PAPU', 'Salsa',  'Ebony', 'Pain', 'gun','hemp','frl', 'gibson', 'gill', 'gorn',  'gtd', 'Elkhart','Emmen',  'Erie',  'cults', 'ECG', 'Commodore', 'Covina',\n",
    "       'ENGLISH',  'Dobro', 'ichu', 'illuminati', 'edmundston', 'elo', 'esa', 'fanshawe', 'DSM', 'DYR', 'Gold', 'dui', 'DECA', 'DMB', 'dns', 'Fairbanks', 'Fez',  'Fude',  'Gemini', 'crv', 'crx', 'dad','dase''maille',  'Bear', 'RBA','orks', 'Converse', 'Cornell', 'Hamilton', 'Fedora','SkyLine', 'pigeon', 'Bowling','MoonCoin', 'ico', 'GAA', 'wls', 'butts', 'bourbon', 'Dodge',\n",
    "       'Drag', 'greenville', 'Brompton', 'Bier','duck', 'msu', 'OCD', 'ATV', 'SKS''labrador',  'Kirby', 'zec', 'prey','CLG', 'hawks', 'ARAM','riddles', 'vim', 'cad', 'Sino', 'jav', 'Briggs',\n",
    "       'bird', 'Stellar', 'agt',  'Ford','Kindred','HWYA','obs', 'Muse',  'Kingdom', 'Iota', 'cardano', 'cavaliers','nes',  'chinchilla', 'soles','Jibo','Madonna', 'gnu', 'SGU','sva', 'mit', 'wakarusa', 'maille','Comet','ion', 'Barber','Mike', 'GERD', 'hsv','byzantium','hab', 'KANOA', 'bismarck', 'Disco', 'GYM','cassandra','turku', 'ARL','Williamsport', 'Northwestern','indie']\n",
    "\n",
    "good_matches = ['argentina', 'boston', 'unitedkingdom', 'northernireland', 'Miami','Denver', 'canada', 'saskatchewan', 'Thailand', 'Portland','Kamloops','Indiana', 'California', 'nyc', 'newzealand', 'Colorado', 'sydney',\n",
    "       'australia', 'philadelphia', 'ottawa', 'melbourne', 'france','ireland', 'japan', 'chicago', 'indianapolis', 'Sacramento','Scotland', 'norge', 'Israel', 'london', 'StLouis', \n",
    "       'Atlanta', 'houston', 'Virginia', 'kurdistan', 'oklahoma','massachusetts', 'ontario', 'illinois', 'Cleveland', 'Quebec','sanfrancisco', 'orangecounty', 'arizona', 'texas', 'Calgary',\n",
    "       'Turkey', 'Maine', 'vermont', 'newhampshire', 'york', 'india', 'China', 'alberta', 'sweden','saskatoon', 'fresno', 'galapagos', 'yorkshire', 'Austin','Denton', 'FortWorth', 'orlando', 'newyork', 'kansas',\n",
    "       'Tennessee', 'brisbane', 'minnesota',  'Denmark','mexico',  'Malibu', 'germany','newcastle', 'Belfast', 'NovaScotia', \n",
    "       'Breckenridge', 'gloucester', 'newengland', 'NorthCarolina','PuertoRico', 'maryland', 'florida', 'Connecticut', 'Harvard','Iceland',  'spain', 'Charlotte','aves', 'penticton',  'phoenix', 'Detroit', 'goodnews',\n",
    "        'Philippines',  'Kazakhstan','BuenosAires', 'Colombia',  'iran', 'Brooklyn','russia', 'sandiego',  'VirginiaBeach','cincinnati', 'Hawaii', 'Seattle', 'Michigan', 'SaltLakeCity',\n",
    "       'Naperville', 'yellowstone', 'wyoming','stanford', 'berkeley', 'forge', 'newjersey', 'vancouver','latvia', 'Norway', 'Kentucky', 'Ohio', 'LosAngeles', 'providence', 'Edmonton', 'shreveport', 'okc',\n",
    "       'montreal', 'Acadiana', 'oregon', 'WestVirginia', 'Louisiana','indonesia', 'capetown', 'HongKong', 'Adelaide', 'Iowa', 'Alabama','baltimore', 'deutschland', 'Dallas', 'auckland', \n",
    "       'northdakota', 'toronto', 'lincoln', 'tampa', 'Pennsylvania','korea', 'bangalore', 'Charlottesville', 'abbotsford', 'usa','ElPaso', 'pittsburgh', 'Syria', 'McKinney', 'maui', 'brussels','Utah', 'NewOrleans', 'frankfurt', 'Rochester', 'greece',\n",
    "       'belgium', 'columbia', 'missouri', 'copenhagen', 'desmoines','kelowna', 'Eugene', 'ukraine', 'Reno', 'Kenya', 'Kerala','portugal', 'Brazil', 'Nicaragua', 'riodejaneiro', 'Aleppo', 'Washington','singapore', 'Georgia', 'bali', 'sanantonio', 'vegas', 'Tiburon',\n",
    "       'SantaFe', 'dubai', 'Cheyenne', 'italy', 'halifax', 'Polska', 'Peterborough', 'batonrouge','britishcolumbia', 'Tacoma', 'azores',  'Rhodesia',\n",
    "       'greensburg', 'fredericton', 'Amsterdam', 'johnstown', 'memphis','NewcastleUponTyne', 'Albany', 'Bahrain', 'nashville', 'oslo','princeton', 'sanmarcos', 'Prague', 'clarkson', 'Letterkenny','bahamas', 'Wales', 'guam',  'longbeach', 'Nevada',\n",
    "       'Omaha', 'Syracuse', 'Dublin', 'lynchburg', 'galway', 'canberra', 'Rolla', 'Tuebingen','bloomington', 'auburn', 'jerseycity', 'toledo','Montana',  'brasil', 'chile', 'serbia','Athens','malaysia', 'norfolk','perth', 'Winnipeg', 'kansascity', 'ukraina','Minneapolis','paris',\n",
    "       'hungary','Brunei', 'Nepal', 'Sverige', 'Charleston', 'longisland', 'grandrapids', 'VietNam','manchester','Austria', 'Louisville', 'poland','raleigh', 'Slovenia','statenisland', 'SantaBarbara','bulgaria',  'uruguay','riverdale','lebanon','tulsa', 'Egypt','Edinburgh','Tokyo','lexington','Birmingham', 'Wellington', 'Barcelona', 'Spokane', 'SanJose', 'glasgow','mumbai', 'Tucson', 'fargo','Arkansas', 'Knoxville', \n",
    "       'Eesti','jacksonville', 'Finland','asheville', 'saudiarabia','Honolulu','FortCollins', 'Chattanooga', 'wien','SouthBend',  'Wolfenstein','albania','mississauga', 'Wilmington','Buffalo', 'berlin','lithuania', 'alaska', 'RhodeIsland','newfoundland',    'Delaware', 'santarosa',  'shanghai', 'olympia','Pensacola','Kuwait','santacruz','Sakartvelo', 'waterloo', 'wichita','evansville','brighton','stockholm','manhattan',\n",
    "       'tijuana', 'Dexter','roanoke','moncton', 'mongolia', 'Brest', 'Broward','newhampton',  'Morocco','armenia', 'wisconsin', 'zurich','plattsburgh','qatar','cedarrapids', 'Boise','Brampton', 'Tempe', 'Utrecht',\n",
    "       'Bakersfield', 'hrvatska','hobart','brum','Liverpool','Tallahassee', 'Bozeman','cambodia', 'Gothenburg', 'duluth',\n",
    "       'pakistan','Madrid','firenze', 'hamburg','dundee', 'NewMexico','Somalia','Oahu','Harrisburg','LasVegas' ,'dunedin', 'guatemala'\n",
    "       'cologne', 'PacificNorthwest','graz', 'guangzhou','frisco', 'galveston', 'Essex','fortwayne','Logan', 'LittleRock', 'Kotlin','VancouverIsland', 'Libya',\n",
    "       'newhaven', 'newtown','Hoboken','cambridge','mississippi','minot','tasmania', 'southcarolina', 'srilanka','burbank', 'burma'\n",
    "       'PERU','Jamaica', 'pasadena','oakland', 'Annapolis', 'beaverton','Kenosha','Kochen','regina', 'rome','algeria', 'sarasota', 'Lethbridge','Tianjin','sheffield','catalonia', 'catalunya','savannah','chapelhill', 'laos','venice', 'venturacounty','Mosses', 'Sondheim',\n",
    "       'Southampton', 'lakeland','Genova','Slovakia','cuba','Nebraska', 'Newbridge', 'Rotterdam','Osaka','Drexel','Wiesbaden','Panama','Parkdale', 'Pearland', 'Owasso','Owensboro','hanoi', 'harrisonburg', 'hattiesburg', 'helsinki','hillsboro', 'freiburg''greenland','Enumclaw','fortlauderdale','fayetteville','Dalhousie', 'Danbury','duke', 'huddersfield','Dunkirk', 'huntingtonbeach','Guelph', 'Gujarati',\n",
    "       'Flagstaff','karlsruhe', 'kauai','Campbellton', 'Chengdu','irvine','leicester', 'ITAGLIA','krakow','Hannover', 'Hartford', 'Heidelberg','lakewood', 'Clemson','lancaster','kosovo','missoula', 'moana', 'moldova','croatia', 'linkoping', 'lisboa', 'livonia', 'longmire',\n",
    "        'corvallis', 'menorca', 'Cairns','Hagen','buda','Albuquerque', 'niagara', 'ithaca',  'bristol','Binghamton', 'Somerville', 'palmsprings', 'Manitoba', 'Fredonia', 'Geelong', 'Utica', 'Emory', \n",
    "       'nanaimo', 'Squamish',  'Sunnyvale',  'Idaho','Corning', 'Orillia',  'wayland',  'burnaby','coquitlam', 'Parksville', 'Sarnia','Invermere', 'Langley',  'bellevue', 'princegeorge','Tonawanda', 'Welland',  'Korn',  'PERU', 'cologne',\n",
    "       'Iraq',  'AnnArbor',  'Poznan','fukuoka', 'Longmont', 'Hastings', 'Switzerland', 'Senegal',  'hertfordshire', 'evanston','mountainview', 'Pyongyang', 'ghana',  'Temecula', 'Winchester', 'saintcloud',  'Samoa', 'Romania', 'taiwan', 'cyprus', 'fiji', 'glacier'\n",
    "       'Sudbury',  'Brickton', 'Burnley',  'Chennai', 'seoul', 'burlington',       'Transnistria',  'Zwolle', 'nottingham', 'clearlake',       'stuttgart',  'istanbul', 'notredame',\n",
    "       'Rockwall', 'basel', 'Ethiopia', 'Munich', 'pueblo', 'akron', 'colony',  'Leiden',  'Norwich','lansing', 'Gwinnett', 'Honesdale', 'bronx', 'ballarat',  'Constantine', 'cork',  'ecuador', 'Aberdeen', 'bangladesh',   'murfreesboro', 'beijing', 'greenland','barrie',  'Whistler',  'odense', 'lucknow',  'cymru','shenzhen',  'okinawa', 'Helix',  'amarillo', 'montgomery', 'Leeds', 'maastricht','macedonia', 'Salisbury', 'ventura', 'SiouxFalls', 'oxford',   'Leuven',\n",
    "       'Aarhus', 'wroclaw', 'Waltham', 'Lyon', 'Bangkok', 'fredericksburg',\n",
    "       'Netherlands',  'thousandoaks', 'Convoy',\n",
    "       'SouthDakota', 'Westchester', \n",
    "       'Luxembourg',  'glendale', 'Humboldt', \n",
    "        'SantaMaria',  'Worcester',\n",
    "       'nashua', 'tuscaloosa', \n",
    "       'england',  'Issaquah', \n",
    "        'dresden', 'guatemala',\n",
    "       'Yellowknife', 'Campbell', 'Hosting', \n",
    "       ]\n",
    "\n",
    "\n",
    "# len(geolocations_strong.query(\"subreddit not in @mismatches\")[\"author\"].unique())"
   ]
  },
  {
   "cell_type": "code",
   "execution_count": 7,
   "metadata": {},
   "outputs": [
    {
     "data": {
      "text/plain": [
       "110123"
      ]
     },
     "execution_count": 7,
     "metadata": {},
     "output_type": "execute_result"
    }
   ],
   "source": [
    "# sorted(glob(cu.data_path + \"author_strong_activation_date\"))\n",
    "these_months = np.arange(1,13)\n",
    "year = 2016\n",
    "len(pd.read_csv(cu.data_path + \"author_weak_activation_date.csv\").query(\"(year == @year)&(month in @these_months)\"))"
   ]
  },
  {
   "cell_type": "code",
   "execution_count": 8,
   "metadata": {},
   "outputs": [],
   "source": [
    "geolocations_strong = pd.concat([pd.read_csv(cu.data_path + f\"geolocated_comments_users_subreddit/weak_RC_{year}_{(month):02d}.csv\") for month in these_months]).assign(mismatch = lambda x: [u in mismatches for u in x[\"subreddit\"]], good_match = lambda x: [u in good_matches for u in x[\"subreddit\"]])\n",
    "all_authors = pd.concat([pd.read_csv(cu.data_path + f\"geolocated_comments_users_subreddit/weak_RC_{year}_{(month):02d}.csv\") for month in these_months])"
   ]
  },
  {
   "cell_type": "code",
   "execution_count": 9,
   "metadata": {},
   "outputs": [
    {
     "data": {
      "text/plain": [
       "mismatch      213586\n",
       "good_match     84700\n",
       "dtype: int64"
      ]
     },
     "execution_count": 9,
     "metadata": {},
     "output_type": "execute_result"
    }
   ],
   "source": [
    "geolocations_strong[[\"mismatch\", \"good_match\"]].sum()"
   ]
  },
  {
   "cell_type": "code",
   "execution_count": 10,
   "metadata": {},
   "outputs": [
    {
     "name": "stdout",
     "output_type": "stream",
     "text": [
      "Proportion of labelled subreddit 0.3905044510385757\n",
      "Proportion of labelled authors 0.9963825428519565\n"
     ]
    }
   ],
   "source": [
    "print(\"Proportion of labelled subreddit\", len(geolocations_strong.query(\"good_match|mismatch\").subreddit.unique()) / len(geolocations_strong.subreddit.unique()))\n",
    "print(\"Proportion of labelled authors\", len(geolocations_strong.query(\"good_match|mismatch\").author.unique()) / len(geolocations_strong.author.unique()))"
   ]
  },
  {
   "cell_type": "code",
   "execution_count": 11,
   "metadata": {},
   "outputs": [
    {
     "name": "stdout",
     "output_type": "stream",
     "text": [
      "Proportion of users with at least one good location\n"
     ]
    },
    {
     "data": {
      "text/plain": [
       "29.340862422997947"
      ]
     },
     "execution_count": 11,
     "metadata": {},
     "output_type": "execute_result"
    }
   ],
   "source": [
    "print(\"Proportion of users with at least one good location\")\n",
    "len(geolocations_strong.query(\"good_match\").author.unique()) / len(pd.read_csv(cu.data_path + \"author_strong_activation_date.csv\").query(\"(year == @year)&(month in @these_months)\"))"
   ]
  },
  {
   "cell_type": "code",
   "execution_count": 13,
   "metadata": {},
   "outputs": [],
   "source": [
    "# with open(cu.data_path + \"good_matches_subreddit_ceolocation.txt\", \"w\") as f:\n",
    "#     for subreddit in good_matches:\n",
    "#         f.write(subreddit + \"\\n\")\n",
    "\n",
    "# with open(cu.data_path + \"bad_matches_subreddit_ceolocation.txt\", \"w\") as f:\n",
    "#     for subreddit in mismatches:\n",
    "#         f.write(subreddit + \"\\n\")\n"
   ]
  },
  {
   "cell_type": "code",
   "execution_count": 14,
   "metadata": {},
   "outputs": [],
   "source": [
    "read_good_matches = []\n",
    "\n",
    "with open(cu.data_path + \"good_matches_subreddit_ceolocation.txt\", \"r\") as f:\n",
    "    for l in f.readlines():\n",
    "        read_good_matches.append(l.rstrip(\"\\n\"))\n",
    "\n",
    "\n",
    "read_bad_matches = []\n",
    "\n",
    "with open(cu.data_path + \"bad_matches_subreddit_ceolocation.txt\", \"r\") as f:\n",
    "    for l in f.readlines():\n",
    "        read_bad_matches.append(l.rstrip(\"\\n\"))\n"
   ]
  },
  {
   "cell_type": "code",
   "execution_count": 15,
   "metadata": {},
   "outputs": [
    {
     "name": "stdout",
     "output_type": "stream",
     "text": [
      "geolocated subreddit 567\n"
     ]
    }
   ],
   "source": [
    "print(\"geolocated subreddit\", len(read_good_matches))"
   ]
  },
  {
   "cell_type": "code",
   "execution_count": 16,
   "metadata": {},
   "outputs": [],
   "source": [
    "# geolocated_authors = geolocations_strong.query(\"subreddit not in @mismatches\")[\"author\"].unique()\n",
    "geolocated_subreddit = geolocations_strong.query(\"~(mismatch|good_match)\").subreddit.unique()"
   ]
  },
  {
   "cell_type": "code",
   "execution_count": 17,
   "metadata": {},
   "outputs": [
    {
     "data": {
      "text/plain": [
       "array(['titanic', 'NAU', 'Imperial', 'Paul', 'Destin', 'kendo',\n",
       "       'arlington', 'Tyr', 'Gaithersburg', 'RoundRock', 'Julia', 'Sierra',\n",
       "       'huntersville', 'porto', 'fail', 'Hindi', 'Darmstadt',\n",
       "       'stephenville', 'wollongong', 'David', 'Vasteras', 'yale',\n",
       "       'Holden', 'haiti', 'Moscow', 'dci', 'gso', 'alpharetta', 'vala',\n",
       "       'SantaClarita', 'Democrat', 'TAS', 'geneva', 'gary', 'Malawi',\n",
       "       'LPC', 'eindhoven', 'Towson', 'uppsala', 'DEG', 'chico', 'Blue',\n",
       "       'Kirkland', 'Montevallo', 'kerry', 'ferret', 'Lincolnshire',\n",
       "       'arab', 'Artemis', 'Oman'], dtype=object)"
      ]
     },
     "execution_count": 17,
     "metadata": {},
     "output_type": "execute_result"
    }
   ],
   "source": [
    "geolocated_subreddit[:50]"
   ]
  },
  {
   "cell_type": "code",
   "execution_count": 18,
   "metadata": {},
   "outputs": [
    {
     "data": {
      "text/plain": [
       "name                                                             Troy\n",
       "asciiname                                                        Troy\n",
       "alternatenames      ['Troy', 'Ashleys Ferry', 'Ferry Hook', 'Traj'...\n",
       "latitude                                                     42.72841\n",
       "longitude                                                   -73.69179\n",
       "featureclass                                                        P\n",
       "featurecode                                                     PPLA2\n",
       "countrycode                                                        US\n",
       "cc2                                                               NaN\n",
       "admin1code                                                         NY\n",
       "admin2code                                                        083\n",
       "admin3code                                                    75484.0\n",
       "admin4code                                                        NaN\n",
       "population                                                      49906\n",
       "elevation                                                        10.0\n",
       "dem                                                                17\n",
       "timezone                                             America/New_York\n",
       "modificationdate                                           2017-05-23\n",
       "Name: 5141502, dtype: object"
      ]
     },
     "execution_count": 18,
     "metadata": {},
     "output_type": "execute_result"
    }
   ],
   "source": [
    "geolocator.locationdata.loc[geolocator.find_best_match(\"Troy NY\")]"
   ]
  },
  {
   "cell_type": "code",
   "execution_count": 19,
   "metadata": {},
   "outputs": [],
   "source": [
    "good_geolocations = geolocations_strong.query(\"good_match\").assign(countrycode = lambda x: [geolocator.locationdata.loc[u].countrycode for u in x[\"geolocation\"]], admin1code = lambda x: [geolocator.locationdata.loc[u].admin1code for u in x[\"geolocation\"]])"
   ]
  },
  {
   "cell_type": "code",
   "execution_count": 24,
   "metadata": {},
   "outputs": [],
   "source": [
    "one_country_authors = list(good_geolocations.groupby([\"author\", \"countrycode\"]).count().reset_index()[\"author\"].value_counts().reset_index().query(\"count == 1\")[\"author\"])\n",
    "one_admin = list(good_geolocations.groupby([\"author\", \"countrycode\", \"admin1code\"]).count().reset_index()[\"author\"].value_counts().reset_index().query(\"count == 1\")[\"author\"])"
   ]
  },
  {
   "cell_type": "code",
   "execution_count": 17,
   "metadata": {},
   "outputs": [
    {
     "name": "stdout",
     "output_type": "stream",
     "text": [
      "Proportion of authors that wrote in a single country (among all authors) 21.636550308008214\n",
      "Proportion of authors that wrote in a single admin (among all authors) 16.87337440109514\n"
     ]
    }
   ],
   "source": [
    "print(\"Proportion of authors that wrote in a single country (among all authors)\", len(one_country_authors) / len(pd.read_csv(cu.data_path + \"author_strong_activation_date.csv\").query(\"(year == @year)&(month in @these_months)\")))\n",
    "print(\"Proportion of authors that wrote in a single admin (among all authors)\", len(one_admin) / len(pd.read_csv(cu.data_path + \"author_strong_activation_date.csv\").query(\"(year == @year)&(month in @these_months)\")))\n"
   ]
  },
  {
   "cell_type": "code",
   "execution_count": 18,
   "metadata": {},
   "outputs": [
    {
     "data": {
      "image/png": "[encoded data removed]",
      "text/plain": [
       "<Figure size 1200x340 with 2 Axes>"
      ]
     },
     "metadata": {},
     "output_type": "display_data"
    }
   ],
   "source": [
    "fig, axes = sbp(ncols = 2, figsize = (12, 3.4), sharey = True)\n",
    "sns.barplot(data = (good_geolocations[\"countrycode\"].value_counts() / good_geolocations[\"countrycode\"].value_counts().sum())[:20].reset_index(), x = \"countrycode\", y = \"count\", ax = axes[0])\n",
    "sns.barplot(data = (good_geolocations.query(\"author in @one_admin\")[\"countrycode\"].value_counts() / good_geolocations.query(\"author in @one_admin\")[\"countrycode\"].value_counts().sum())[:20].reset_index(), x = \"countrycode\", y = \"count\", ax = axes[1])\n",
    "\n",
    "axes[0].set_title(\"Proportion of users writing in each country\")\n",
    "axes[1].set_title(\"Filtering users that wrote in a single admin\")\n",
    "axes[0].set_ylabel(\"\")\n",
    "axes[1].set_ylabel(\"\")\n",
    "fig.show()"
   ]
  },
  {
   "cell_type": "code",
   "execution_count": 19,
   "metadata": {},
   "outputs": [
    {
     "data": {
      "text/plain": [
       "countrycode\n",
       "US    0.566874\n",
       "CA    0.093551\n",
       "GB    0.068780\n",
       "AU    0.036534\n",
       "SE    0.027483\n",
       "IE    0.013631\n",
       "IN    0.013448\n",
       "Name: count, dtype: float64"
      ]
     },
     "execution_count": 19,
     "metadata": {},
     "output_type": "execute_result"
    }
   ],
   "source": [
    "(good_geolocations.query(\"author in @one_admin\")[\"countrycode\"].value_counts() / good_geolocations.query(\"author in @one_admin\")[\"countrycode\"].value_counts().sum())[:7]"
   ]
  },
  {
   "cell_type": "code",
   "execution_count": 20,
   "metadata": {},
   "outputs": [
    {
     "data": {
      "text/plain": [
       "subreddit        admin1code\n",
       "canada           0.0           5588\n",
       "toronto          8.0           1384\n",
       "vancouver        2.0            830\n",
       "Calgary          1.0            654\n",
       "ontario          8.0            453\n",
       "alberta          1.0            426\n",
       "ottawa           8.0            404\n",
       "Edmonton         1.0            397\n",
       "montreal         10.0           308\n",
       "Winnipeg         3.0            240\n",
       "Quebec           10.0           206\n",
       "halifax          7.0            198\n",
       "britishcolumbia  2.0            178\n",
       "saskatoon        11.0           127\n",
       "saskatchewan     11.0            97\n",
       "mississauga      8.0             66\n",
       "newfoundland     5.0             62\n",
       "Brampton         8.0             60\n",
       "NovaScotia       7.0             57\n",
       "regina           11.0            56\n",
       "kelowna          2.0             48\n",
       "Guelph           8.0             37\n",
       "Manitoba         3.0             35\n",
       "moncton          4.0             26\n",
       "fredericton      4.0             22\n",
       "nanaimo          2.0             21\n",
       "barrie           8.0             18\n",
       "Lethbridge       1.0             17\n",
       "Whistler         2.0             16\n",
       "VancouverIsland  2.0             16\n",
       "Kamloops         2.0             14\n",
       "burnaby          2.0             12\n",
       "niagara          8.0             10\n",
       "Squamish         2.0              5\n",
       "abbotsford       2.0              5\n",
       "coquitlam        2.0              5\n",
       "Langley          2.0              4\n",
       "Sarnia           8.0              4\n",
       "Yellowknife      13.0             4\n",
       "penticton        2.0              3\n",
       "Welland          8.0              1\n",
       "Name: count, dtype: int64"
      ]
     },
     "execution_count": 20,
     "metadata": {},
     "output_type": "execute_result"
    }
   ],
   "source": [
    "good_geolocations.query(\"countrycode == 'CA'\")[[\"subreddit\", \"admin1code\"]].value_counts()"
   ]
  },
  {
   "cell_type": "code",
   "execution_count": 35,
   "metadata": {},
   "outputs": [
    {
     "data": {
      "text/plain": [
       "(featureclass                       A\n",
       " featurecode                     ADM1\n",
       " countrycode                       CA\n",
       " cc2                              NaN\n",
       " admin1code                       3.0\n",
       " admin2code                       NaN\n",
       " admin3code                       NaN\n",
       " admin4code                       NaN\n",
       " population                   1193566\n",
       " elevation                        NaN\n",
       " dem                              204\n",
       " timezone            America/Winnipeg\n",
       " modificationdate          2019-12-20\n",
       " Name: 6065171, dtype: object,\n",
       " featureclass                       P\n",
       " featurecode                     PPLA\n",
       " countrycode                       CA\n",
       " cc2                              NaN\n",
       " admin1code                       3.0\n",
       " admin2code                       NaN\n",
       " admin3code                       NaN\n",
       " admin4code                       NaN\n",
       " population                    632063\n",
       " elevation                        NaN\n",
       " dem                              245\n",
       " timezone            America/Winnipeg\n",
       " modificationdate          2019-09-05\n",
       " Name: 6183235, dtype: object)"
      ]
     },
     "execution_count": 35,
     "metadata": {},
     "output_type": "execute_result"
    }
   ],
   "source": [
    "geolocator.locationdata.loc[geolocator.find_best_match(\"Manitoba\")][5:], geolocator.locationdata.loc[geolocator.find_best_match(\"winnipeg\")][5:]"
   ]
  },
  {
   "cell_type": "code",
   "execution_count": 21,
   "metadata": {},
   "outputs": [],
   "source": [
    "df_canada_provinces = pd.DataFrame([row.split('\"')[:2] for row in pd.read_csv(\"/data/big/xxx/climact/data/canada_population_provinces.csv\", header = 8, sep = \";\", names = [\"cols\"])[\"cols\"][:14]], columns = [\"PROVINCE\", \"POPULATION\"])\n",
    "df_canada_provinces = df_canada_provinces.assign(PROVINCE = lambda x: [u[:-3] if \"2\" in u else u[:-1] for u in x[\"PROVINCE\"]],\n",
    "                           POPULATION = lambda x: [int(\"\".join([k for k in u if k != \",\"])) for u in list(x[\"POPULATION\"])])\\\n",
    "                            .merge(pd.DataFrame([{\n",
    "                                'Newfoundland and Labrador':5,\n",
    "                                'Nova Scotia':7,\n",
    "                                'New Brunswick':4,\n",
    "                                'Quebec': 10,\n",
    "                                'Ontario':8,\n",
    "                                'Manitoba':3,\n",
    "                                'Saskatchewan':11,\n",
    "                                'Alberta':1, \n",
    "                                'British Columbia':2,\n",
    "                                'Northwest Territories':13}]).T.reset_index().rename(columns = {\"index\": \"PROVINCE\",0: \"admin1code\"}))"
   ]
  },
  {
   "cell_type": "code",
   "execution_count": 22,
   "metadata": {},
   "outputs": [
    {
     "data": {
      "text/html": [
       "<div>\n",
       "<style scoped>\n",
       "    .dataframe tbody tr th:only-of-type {\n",
       "        vertical-align: middle;\n",
       "    }\n",
       "\n",
       "    .dataframe tbody tr th {\n",
       "        vertical-align: top;\n",
       "    }\n",
       "\n",
       "    .dataframe thead th {\n",
       "        text-align: right;\n",
       "    }\n",
       "</style>\n",
       "<table border=\"1\" class=\"dataframe\">\n",
       "  <thead>\n",
       "    <tr style=\"text-align: right;\">\n",
       "      <th></th>\n",
       "      <th>PROVINCE</th>\n",
       "      <th>POPULATION</th>\n",
       "      <th>admin1code</th>\n",
       "    </tr>\n",
       "  </thead>\n",
       "  <tbody>\n",
       "    <tr>\n",
       "      <th>0</th>\n",
       "      <td>Newfoundland and Labrador</td>\n",
       "      <td>510550</td>\n",
       "      <td>5</td>\n",
       "    </tr>\n",
       "    <tr>\n",
       "      <th>1</th>\n",
       "      <td>Nova Scotia</td>\n",
       "      <td>969383</td>\n",
       "      <td>7</td>\n",
       "    </tr>\n",
       "    <tr>\n",
       "      <th>2</th>\n",
       "      <td>New Brunswick</td>\n",
       "      <td>775610</td>\n",
       "      <td>4</td>\n",
       "    </tr>\n",
       "    <tr>\n",
       "      <th>3</th>\n",
       "      <td>Quebec</td>\n",
       "      <td>8501833</td>\n",
       "      <td>10</td>\n",
       "    </tr>\n",
       "    <tr>\n",
       "      <th>4</th>\n",
       "      <td>Ontario</td>\n",
       "      <td>14223942</td>\n",
       "      <td>8</td>\n",
       "    </tr>\n",
       "    <tr>\n",
       "      <th>5</th>\n",
       "      <td>Manitoba</td>\n",
       "      <td>1342153</td>\n",
       "      <td>3</td>\n",
       "    </tr>\n",
       "    <tr>\n",
       "      <th>6</th>\n",
       "      <td>Saskatchewan</td>\n",
       "      <td>1132505</td>\n",
       "      <td>11</td>\n",
       "    </tr>\n",
       "    <tr>\n",
       "      <th>7</th>\n",
       "      <td>Alberta</td>\n",
       "      <td>4262635</td>\n",
       "      <td>1</td>\n",
       "    </tr>\n",
       "    <tr>\n",
       "      <th>8</th>\n",
       "      <td>British Columbia</td>\n",
       "      <td>5000879</td>\n",
       "      <td>2</td>\n",
       "    </tr>\n",
       "    <tr>\n",
       "      <th>9</th>\n",
       "      <td>Northwest Territories</td>\n",
       "      <td>41070</td>\n",
       "      <td>13</td>\n",
       "    </tr>\n",
       "  </tbody>\n",
       "</table>\n",
       "</div>"
      ],
      "text/plain": [
       "                    PROVINCE  POPULATION  admin1code\n",
       "0  Newfoundland and Labrador      510550           5\n",
       "1                Nova Scotia      969383           7\n",
       "2              New Brunswick      775610           4\n",
       "3                     Quebec     8501833          10\n",
       "4                    Ontario    14223942           8\n",
       "5                   Manitoba     1342153           3\n",
       "6               Saskatchewan     1132505          11\n",
       "7                    Alberta     4262635           1\n",
       "8           British Columbia     5000879           2\n",
       "9      Northwest Territories       41070          13"
      ]
     },
     "execution_count": 22,
     "metadata": {},
     "output_type": "execute_result"
    }
   ],
   "source": [
    "df_canada_provinces"
   ]
  },
  {
   "cell_type": "code",
   "execution_count": 25,
   "metadata": {},
   "outputs": [],
   "source": [
    "users_canada = good_geolocations.query(\"(author in @one_admin)&(countrycode == 'CA')\").groupby([\"author\", \"admin1code\"]).first().reset_index().groupby(\"admin1code\").sum()[\"good_match\"].reset_index().rename(columns = {\"good_match\": \"NUM_USERS\"})\n",
    "users_canada = users_canada.assign(admin1code = lambda x: [int(u[:-2]) for u in x[\"admin1code\"]]).merge(df_canada_provinces)"
   ]
  },
  {
   "cell_type": "code",
   "execution_count": 27,
   "metadata": {},
   "outputs": [],
   "source": [
    "import geopandas as gpd\n",
    "import climact_utils as cu"
   ]
  },
  {
   "cell_type": "code",
   "execution_count": 28,
   "metadata": {},
   "outputs": [],
   "source": [
    "excluded_admin = ['VI','MP','GU','AS','PR']\n",
    "non_continental_admin = ['HI','AK']\n",
    "us_shape = gpd.read_file(cu.data_path + \"geo_data/tl_2023_us_state/tl_2023_us_state.shp\").to_crs(\"EPSG:4326\").query(\"STUSPS not in @excluded_admin\").sort_values(\"STUSPS\")\n",
    "pop_data = pd.read_csv(cu.data_path + \"geo_data/US_POPULATION_STATE.csv\", sep = \";\")[[\"State\", \"01/07/23\"]].rename(columns = {\"01/07/23\": \"Population\"}).iloc[:51].assign(State = lambda x: [u[1:] for u in x[\"State\"]], Population = lambda x: [int(\"\".join(u.split(\".\"))) for u in x[\"Population\"]])"
   ]
  },
  {
   "cell_type": "code",
   "execution_count": 29,
   "metadata": {},
   "outputs": [],
   "source": [
    "us_shape = us_shape.merge(good_geolocations.query(\"(author in @one_admin)&(countrycode == 'US')&(admin1code != '00')\")[\"admin1code\"].value_counts().reset_index().reset_index().rename(columns = {\"admin1code\": \"STUSPS\", \"count\": \"NUM_USERS\"}), how = \"left\")"
   ]
  },
  {
   "cell_type": "code",
   "execution_count": 30,
   "metadata": {},
   "outputs": [],
   "source": [
    "us_shape = us_shape.merge(pop_data.rename(columns = {\"Population\": \"POPULATION\", \"State\": \"NAME\"}), how = \"left\")"
   ]
  },
  {
   "cell_type": "code",
   "execution_count": 179,
   "metadata": {},
   "outputs": [
    {
     "data": {
      "text/plain": [
       "<Axes: >"
      ]
     },
     "execution_count": 179,
     "metadata": {},
     "output_type": "execute_result"
    },
    {
     "data": {
      "image/png": "[encoded data removed]",
      "text/plain": [
       "<Figure size 640x480 with 2 Axes>"
      ]
     },
     "metadata": {},
     "output_type": "display_data"
    }
   ],
   "source": [
    "us_shape.query(\"STUSPS  not in @non_continental_admin\").plot(\"NUM_USERS\", legend = True, cmap = \"inferno\")"
   ]
  },
  {
   "cell_type": "code",
   "execution_count": 180,
   "metadata": {},
   "outputs": [
    {
     "data": {
      "text/plain": [
       "<Axes: >"
      ]
     },
     "execution_count": 180,
     "metadata": {},
     "output_type": "execute_result"
    },
    {
     "data": {
      "image/png": "[encoded data removed]",
      "text/plain": [
       "<Figure size 640x480 with 2 Axes>"
      ]
     },
     "metadata": {},
     "output_type": "display_data"
    }
   ],
   "source": [
    "us_shape.query(\"STUSPS  not in @non_continental_admin\").plot(\"POPULATION\", legend = True, cmap = \"inferno\")"
   ]
  },
  {
   "cell_type": "code",
   "execution_count": 33,
   "metadata": {},
   "outputs": [
    {
     "data": {
      "text/html": [
       "<div>\n",
       "<style scoped>\n",
       "    .dataframe tbody tr th:only-of-type {\n",
       "        vertical-align: middle;\n",
       "    }\n",
       "\n",
       "    .dataframe tbody tr th {\n",
       "        vertical-align: top;\n",
       "    }\n",
       "\n",
       "    .dataframe thead th {\n",
       "        text-align: right;\n",
       "    }\n",
       "</style>\n",
       "<table border=\"1\" class=\"dataframe\">\n",
       "  <thead>\n",
       "    <tr style=\"text-align: right;\">\n",
       "      <th></th>\n",
       "      <th>admin1code</th>\n",
       "      <th>NUM_USERS</th>\n",
       "      <th>PROVINCE</th>\n",
       "      <th>POPULATION</th>\n",
       "    </tr>\n",
       "  </thead>\n",
       "  <tbody>\n",
       "    <tr>\n",
       "      <th>0</th>\n",
       "      <td>1</td>\n",
       "      <td>255</td>\n",
       "      <td>Alberta</td>\n",
       "      <td>4262635</td>\n",
       "    </tr>\n",
       "    <tr>\n",
       "      <th>1</th>\n",
       "      <td>10</td>\n",
       "      <td>92</td>\n",
       "      <td>Quebec</td>\n",
       "      <td>8501833</td>\n",
       "    </tr>\n",
       "    <tr>\n",
       "      <th>2</th>\n",
       "      <td>11</td>\n",
       "      <td>47</td>\n",
       "      <td>Saskatchewan</td>\n",
       "      <td>1132505</td>\n",
       "    </tr>\n",
       "    <tr>\n",
       "      <th>3</th>\n",
       "      <td>13</td>\n",
       "      <td>1</td>\n",
       "      <td>Northwest Territories</td>\n",
       "      <td>41070</td>\n",
       "    </tr>\n",
       "    <tr>\n",
       "      <th>4</th>\n",
       "      <td>2</td>\n",
       "      <td>187</td>\n",
       "      <td>British Columbia</td>\n",
       "      <td>5000879</td>\n",
       "    </tr>\n",
       "    <tr>\n",
       "      <th>5</th>\n",
       "      <td>3</td>\n",
       "      <td>45</td>\n",
       "      <td>Manitoba</td>\n",
       "      <td>1342153</td>\n",
       "    </tr>\n",
       "    <tr>\n",
       "      <th>6</th>\n",
       "      <td>4</td>\n",
       "      <td>11</td>\n",
       "      <td>New Brunswick</td>\n",
       "      <td>775610</td>\n",
       "    </tr>\n",
       "    <tr>\n",
       "      <th>7</th>\n",
       "      <td>5</td>\n",
       "      <td>11</td>\n",
       "      <td>Newfoundland and Labrador</td>\n",
       "      <td>510550</td>\n",
       "    </tr>\n",
       "    <tr>\n",
       "      <th>8</th>\n",
       "      <td>7</td>\n",
       "      <td>35</td>\n",
       "      <td>Nova Scotia</td>\n",
       "      <td>969383</td>\n",
       "    </tr>\n",
       "    <tr>\n",
       "      <th>9</th>\n",
       "      <td>8</td>\n",
       "      <td>412</td>\n",
       "      <td>Ontario</td>\n",
       "      <td>14223942</td>\n",
       "    </tr>\n",
       "  </tbody>\n",
       "</table>\n",
       "</div>"
      ],
      "text/plain": [
       "   admin1code  NUM_USERS                   PROVINCE  POPULATION\n",
       "0           1        255                    Alberta     4262635\n",
       "1          10         92                     Quebec     8501833\n",
       "2          11         47               Saskatchewan     1132505\n",
       "3          13          1      Northwest Territories       41070\n",
       "4           2        187           British Columbia     5000879\n",
       "5           3         45                   Manitoba     1342153\n",
       "6           4         11              New Brunswick      775610\n",
       "7           5         11  Newfoundland and Labrador      510550\n",
       "8           7         35                Nova Scotia      969383\n",
       "9           8        412                    Ontario    14223942"
      ]
     },
     "execution_count": 33,
     "metadata": {},
     "output_type": "execute_result"
    }
   ],
   "source": [
    "users_canada"
   ]
  },
  {
   "cell_type": "code",
   "execution_count": 36,
   "metadata": {},
   "outputs": [
    {
     "data": {
      "image/png": "[encoded data removed]",
      "text/plain": [
       "<Figure size 1000x400 with 2 Axes>"
      ]
     },
     "metadata": {},
     "output_type": "display_data"
    }
   ],
   "source": [
    "fig, axes = sbp(ncols = 2, figsize = (10, 4))\n",
    "sns.scatterplot(data = us_shape, x = \"POPULATION\", y = \"NUM_USERS\", ax = axes[0])\n",
    "sns.scatterplot(data = users_canada, x = \"POPULATION\", y = \"NUM_USERS\", color= \"red\", ax = axes[0])\n",
    "sns.regplot(data = pd.concat([us_shape[[\"POPULATION\",\"NUM_USERS\"]].assign(COUNTRY = \"US\"), users_canada[[\"POPULATION\",\"NUM_USERS\"]].assign(COUNTRY = \"CA\")]), x = \"POPULATION\", y = \"NUM_USERS\", \n",
    "            ax = axes[1], scatter_kws = {\"alpha\": 0}, line_kws = {\"alpha\": 0.2, \"color\": \"grey\"})\n",
    "sns.scatterplot(data = us_shape, x = \"POPULATION\", y = \"NUM_USERS\", ax = axes[1])\n",
    "sns.scatterplot(data = users_canada, x = \"POPULATION\", y = \"NUM_USERS\", color= \"red\", ax = axes[1])\n",
    "# sns.regplot(data = users_canada, x = \"POPULATION\", y = \"NUM_USERS\", color= \"red\", ax = axes[1])\n",
    "axes[0].set_xscale(\"log\")\n",
    "axes[0].set_yscale(\"log\")\n",
    "# axes[1].set_xscale(\"log\")\n",
    "# axes[1].set_yscale(\"log\")\n",
    "\n",
    "\n"
   ]
  },
  {
   "cell_type": "code",
   "execution_count": null,
   "metadata": {},
   "outputs": [],
   "source": []
  },
  {
   "cell_type": "code",
   "execution_count": null,
   "metadata": {},
   "outputs": [],
   "source": []
  }
 ],
 "metadata": {
  "kernelspec": {
   "display_name": "climact_env",
   "language": "python",
   "name": "python3"
  },
  "language_info": {
   "codemirror_mode": {
    "name": "ipython",
    "version": 3
   },
   "file_extension": ".py",
   "mimetype": "text/x-python",
   "name": "python",
   "nbconvert_exporter": "python",
   "pygments_lexer": "ipython3",
   "version": "3.9.19"
  },
  "orig_nbformat": 4
 },
 "nbformat": 4,
 "nbformat_minor": 2
}
