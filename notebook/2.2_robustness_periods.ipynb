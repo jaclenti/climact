{
 "cells": [
  {
   "cell_type": "code",
   "execution_count": 1,
   "metadata": {},
   "outputs": [],
   "source": [
    "import sys\n",
    "import matplotlib.pyplot as plt\n",
    "import numpy as np\n",
    "import pandas as pd\n",
    "import seaborn as sns\n",
    "sys.path += [\"../src\"]\n",
    "import causal_model\n",
    "from matplotlib.pyplot import subplots as sbp\n",
    "from importlib import reload\n",
    "from glob import glob\n",
    "import climact_utils as cu"
   ]
  },
  {
   "cell_type": "code",
   "execution_count": 3,
   "metadata": {},
   "outputs": [],
   "source": [
    "path_to_data = \"/data/shared/xxx/climact/experiments/\""
   ]
  },
  {
   "cell_type": "markdown",
   "metadata": {},
   "source": [
    "### Utils"
   ]
  },
  {
   "cell_type": "code",
   "execution_count": 5,
   "metadata": {},
   "outputs": [],
   "source": [
    "df = causal_model.load_dataframe(\"activism\")\n"
   ]
  },
  {
   "cell_type": "code",
   "execution_count": 96,
   "metadata": {},
   "outputs": [],
   "source": [
    "def weighted_avg_cols(df, col1, col2, w1, w2):\n",
    "    \n",
    "    return (df[col1] * w1 + df[col2] * w2) / (w1 + w2)\n",
    "\n",
    "def subreddits_union(df, col1, col2):\n",
    "    return df[col1]|df[col2]\n",
    "\n",
    "def create_df_merge_longmedium(df):\n",
    "    subreddit_list = [u for u in sorted(cu.subreddits) if (f\"r{u}_long\" in df.columns)&(f\"r{u}_medium\" in df.columns)&(f\"r{u}_short\" in df.columns)]\n",
    "    df_longmedium = pd.concat([\n",
    "    df[cu.features_join[\"interaction_short\"] + cu.features_join[\"norm_news_short\"] + cu.features_join[\"control_short\"] + [f\"r{u}_short\" for u in subreddit_list]],\n",
    "    pd.DataFrame([weighted_avg_cols(df, u + \"_medium\", u + \"_long\", 4, 47) for u in (cu.features[\"norm_news\"] + cu.features[\"control\"])],\n",
    "                 index = cu.features_join[\"norm_news_long\"] + cu.features_join[\"control_long\"]).T,\n",
    "    pd.DataFrame([subreddits_union(df, f\"r{u}_medium\", f\"r{u}_long\") for u in subreddit_list], index = [f\"r{u}_long\" for u in subreddit_list]).T\n",
    "                 ], axis = 1).assign(activation = df[\"activation\"])\n",
    "    return df_longmedium\n",
    "\n",
    "def create_df_merge_shortmedium(df):\n",
    "    subreddit_list = [u for u in sorted(cu.subreddits) if (f\"r{u}_long\" in df.columns)&(f\"r{u}_medium\" in df.columns)&(f\"r{u}_short\" in df.columns)]\n",
    "    df_shortmedium = pd.concat([\n",
    "    df[cu.features_join[\"interaction_long\"] + cu.features_join[\"norm_news_long\"] + cu.features_join[\"control_long\"] + [f\"r{u}_long\" for u in subreddit_list]],\n",
    "    pd.DataFrame([weighted_avg_cols(df, u + \"_medium\", u + \"_short\", 4, 1) for u in (cu.features[\"interaction\"] + cu.features[\"norm_news\"] + cu.features[\"control\"])],\n",
    "                 index = cu.features_join[\"interaction_short\"] + cu.features_join[\"norm_news_short\"] + cu.features_join[\"control_short\"]).T,\n",
    "    pd.DataFrame([subreddits_union(df, f\"r{u}_medium\", f\"r{u}_short\") for u in subreddit_list], index = [f\"r{u}_short\" for u in subreddit_list]).T\n",
    "                 ], axis = 1).assign(activation = df[\"activation\"])\n",
    "    df_shortmedium[cu.features_join[\"interaction_short\"]] = df_shortmedium[cu.features_join[\"interaction_short\"]] > 0\n",
    "    return df_shortmedium\n",
    "\n",
    "\n"
   ]
  },
  {
   "cell_type": "code",
   "execution_count": 97,
   "metadata": {},
   "outputs": [],
   "source": [
    "model_settings = {\n",
    "    \"lr\": 0.01,\n",
    "    \"n_epochs\": 200,\n",
    "    \"subreddit_class\": \"activism\",\n",
    "    \"var_opinions\": 0.1\n",
    "                  }"
   ]
  },
  {
   "cell_type": "code",
   "execution_count": 98,
   "metadata": {},
   "outputs": [],
   "source": [
    "subreddit_list = [u for u in sorted(cu.subreddits) if (f\"r{u}_long\" in df.columns)&(f\"r{u}_medium\" in df.columns)&(f\"r{u}_short\" in df.columns)]"
   ]
  },
  {
   "cell_type": "code",
   "execution_count": 99,
   "metadata": {},
   "outputs": [],
   "source": [
    "data, data_obs = causal_model.get_data(create_df_merge_shortmedium(df), causal_model.scores)\n",
    "subreddit_list = data[-1]\n",
    "init_params_normal, init_params_multivariatenormal = causal_model.get_init_params(len(df))\n",
    "init_params = causal_model.initialize_params(init_params_normal, init_params_multivariatenormal)\n",
    "guide, svi = causal_model.get_guide(causal_model.model, model_settings, data, data_obs,\n",
    "                                    init_params_normal, init_params_multivariatenormal, multivariate = True)\n"
   ]
  },
  {
   "cell_type": "code",
   "execution_count": 100,
   "metadata": {},
   "outputs": [
    {
     "name": "stderr",
     "output_type": "stream",
     "text": [
      "100%|██████████| 200/200 [00:40<00:00,  4.93it/s, init loss: 4776011.0000, avg. loss [191-200]: 1724462.7500]\n"
     ]
    },
    {
     "name": "stdout",
     "output_type": "stream",
     "text": [
      "1727013.9\n"
     ]
    },
    {
     "data": {
      "image/png": "[encoded data removed]",
      "text/plain": [
       "<Figure size 400x200 with 2 Axes>"
      ]
     },
     "metadata": {},
     "output_type": "display_data"
    }
   ],
   "source": [
    "guide, svi_results, betas = causal_model.train(svi, guide, data, data_obs, model_settings,\n",
    "                                               init_params_normal, init_params_multivariatenormal,\n",
    "                                                 progress_bar = True, path = None, print_loss = True)"
   ]
  },
  {
   "cell_type": "code",
   "execution_count": 80,
   "metadata": {},
   "outputs": [
    {
     "data": {
      "text/plain": [
       "{'beta_to_opinions': age                                          0.0\n",
       " gender                                       0.0\n",
       " partisan                              -0.6449502\n",
       " affluence                             -0.4215549\n",
       " avg_comments_per_thread_long                 0.0\n",
       " n_submissions_author_week_long               0.0\n",
       " n_active_days_author_week_long               0.0\n",
       " n_comments_author_week_long                  0.0\n",
       " n_different_subreddits_long                  0.0\n",
       " log_avg_comments_per_thread_long             0.0\n",
       " log_n_submissions_author_week_long           0.0\n",
       " log_n_active_days_author_week_long           0.0\n",
       " log_n_comments_author_week_long              0.0\n",
       " log_n_different_subreddits_long              0.0\n",
       " norm_climate_long                            0.0\n",
       " norm_climate_action_long                     0.0\n",
       " norm_natural_disaster_long                   0.0\n",
       " intercept                                    0.0\n",
       " dtype: object,\n",
       " 'beta_to_activity_ST': avg_comments_per_thread_long                  0.2728371\n",
       " n_submissions_author_week_long                0.6749922\n",
       " n_active_days_author_week_long               0.60971355\n",
       " n_comments_author_week_long                  0.65597546\n",
       " n_different_subreddits_long                   0.7148686\n",
       " intercept_avg_comments_per_thread_short             0.0\n",
       " intercept_n_submissions_author_week_short           0.0\n",
       " intercept_n_active_days_author_week_short           0.0\n",
       " intercept_n_comments_author_week_short              0.0\n",
       " intercept_n_different_subreddits_short              0.0\n",
       " dtype: object,\n",
       " 'beta_to_subreddit_LT': age                                    8.6375885\n",
       " gender                                  8.573463\n",
       " partisan                                8.766709\n",
       " affluence                               8.742389\n",
       " avg_comments_per_thread_long                 0.0\n",
       " n_submissions_author_week_long               0.0\n",
       " n_active_days_author_week_long               0.0\n",
       " n_comments_author_week_long                  0.0\n",
       " n_different_subreddits_long                  0.0\n",
       " log_avg_comments_per_thread_long             0.0\n",
       " log_n_submissions_author_week_long           0.0\n",
       " log_n_active_days_author_week_long           0.0\n",
       " log_n_comments_author_week_long              0.0\n",
       " log_n_different_subreddits_long              0.0\n",
       " popularity                             0.6040769\n",
       " log_popularity                        0.10635074\n",
       " intercept                             -3.3434615\n",
       " dtype: object,\n",
       " 'beta_to_subreddit_ST': age                                            0.0\n",
       " gender                                         0.0\n",
       " partisan                               -0.41229245\n",
       " affluence                                      0.0\n",
       " retention                                 0.571132\n",
       " avg_comments_per_thread_short                  0.0\n",
       " n_submissions_author_week_short                0.0\n",
       " n_active_days_author_week_short                0.0\n",
       " n_comments_author_week_short                   0.0\n",
       " n_different_subreddits_short                   0.0\n",
       " log_avg_comments_per_thread_short              0.0\n",
       " log_n_submissions_author_week_short            0.0\n",
       " log_n_active_days_author_week_short            0.0\n",
       " log_n_comments_author_week_short               0.0\n",
       " log_n_different_subreddits_short               0.0\n",
       " popularity                              0.13816644\n",
       " log_popularity                                 0.0\n",
       " intercept                               -3.4155195\n",
       " dtype: object,\n",
       " 'beta_to_interaction': opinion                                        0.0\n",
       " avg_comments_per_thread_short                  0.0\n",
       " n_submissions_author_week_short         0.57017964\n",
       " n_active_days_author_week_short                0.0\n",
       " n_comments_author_week_short            0.42441875\n",
       " n_different_subreddits_short                   0.0\n",
       " log_avg_comments_per_thread_short              0.0\n",
       " log_n_submissions_author_week_short     0.39853737\n",
       " log_n_active_days_author_week_short            0.0\n",
       " log_n_comments_author_week_short         0.3811031\n",
       " log_n_different_subreddits_short               0.0\n",
       " age                                     0.81181145\n",
       " gender                                 -0.86934745\n",
       " partisan                               -0.69779634\n",
       " affluence                               -0.9081873\n",
       " intercept                               -1.1268727\n",
       " dtype: object,\n",
       " 'beta_to_activation': opinion                                   0.677908\n",
       " norm_climate_long                              0.0\n",
       " norm_climate_action_long                       0.0\n",
       " norm_natural_disaster_long                     0.0\n",
       " norm_climate_short                             0.0\n",
       " norm_climate_action_short                0.3572761\n",
       " norm_natural_disaster_short                    0.0\n",
       " interaction_short                        0.9106905\n",
       " avg_comments_per_thread_short                  0.0\n",
       " n_submissions_author_week_short                0.0\n",
       " n_active_days_author_week_short                0.0\n",
       " n_comments_author_week_short                   0.0\n",
       " n_different_subreddits_short                   0.0\n",
       " log_avg_comments_per_thread_short              0.0\n",
       " log_n_submissions_author_week_short            0.0\n",
       " log_n_active_days_author_week_short            0.0\n",
       " log_n_comments_author_week_short               0.0\n",
       " log_n_different_subreddits_short               0.0\n",
       " intercept                              -0.18174838\n",
       " dtype: object,\n",
       " 'opinions_users': 0      -0.277623\n",
       " 1       0.714017\n",
       " 2      -0.151860\n",
       " 3      -0.458247\n",
       " 4       0.828612\n",
       "           ...   \n",
       " 8221    0.089327\n",
       " 8222   -0.076253\n",
       " 8223   -0.629721\n",
       " 8224    0.864748\n",
       " 8225   -0.136742\n",
       " Length: 8226, dtype: float32,\n",
       " 'sociodemo_users':            age    gender  partisan  affluence\n",
       " 0    -0.426312  0.501181 -0.050618   0.634344\n",
       " 1     0.422849  1.387986  1.272395  -0.644450\n",
       " 2     0.766165  1.014242  0.934748  -0.409565\n",
       " 3     1.695947  0.203201  0.702368  -1.934076\n",
       " 4     2.178189  0.923657  1.267627  -2.072310\n",
       " ...        ...       ...       ...        ...\n",
       " 8221  0.318070  0.964457  1.083668  -0.175537\n",
       " 8222 -0.190049 -0.472501 -0.325795   0.489150\n",
       " 8223 -0.525541 -0.087917 -0.344977   0.387201\n",
       " 8224  1.372191  1.353078  1.414829  -1.063462\n",
       " 8225  0.536843  1.084007  1.247086  -0.788128\n",
       " \n",
       " [8226 rows x 4 columns]}"
      ]
     },
     "execution_count": 80,
     "metadata": {},
     "output_type": "execute_result"
    }
   ],
   "source": [
    "betas"
   ]
  },
  {
   "cell_type": "markdown",
   "metadata": {},
   "source": [
    "### Robustness Analysis"
   ]
  },
  {
   "cell_type": "code",
   "execution_count": 4,
   "metadata": {},
   "outputs": [
    {
     "name": "stdout",
     "output_type": "stream",
     "text": [
      "save_csv 10\n",
      "save_csv 11\n",
      "save_csv 12\n",
      "save_csv 13\n",
      "save_csv 14\n",
      "save_csv 15\n",
      "save_csv 16\n",
      "save_csv 17\n",
      "save_csv 18\n",
      "save_csv 19\n"
     ]
    }
   ],
   "source": [
    "for u in range(10,20):\n",
    "    files = sorted(glob(causal_model.path_to_exp + f\"*_robustness_241009*k{u}*\"))\n",
    "    pickles = [causal_model.read_pkl(file) for file in files]\n",
    "    df_robustness = pd.DataFrame([causal_model.get_experiments_data(pickle, other_vars_settings = [\"merge\"]) for pickle in pickles])\n",
    "    df_robustness.to_csv(causal_model.path_to_exp + f\"activism_robustness_exp_241009_k{u}.csv\")\n",
    "    print(\"save_csv\", u)"
   ]
  },
  {
   "cell_type": "code",
   "execution_count": 4,
   "metadata": {},
   "outputs": [],
   "source": [
    "df_robustness = pd.concat([pd.read_csv(causal_model.path_to_exp + f\"activism_robustness_exp_241009_k{u}.csv\", index_col = 0) for u in range(10, 20)])"
   ]
  },
  {
   "cell_type": "code",
   "execution_count": 5,
   "metadata": {},
   "outputs": [],
   "source": [
    "df = df_robustness.sort_values(\"accuracy_mean\", ascending = False).groupby([\"merge\", \"var_opinions\"]).first().reset_index()"
   ]
  },
  {
   "cell_type": "code",
   "execution_count": 9,
   "metadata": {},
   "outputs": [],
   "source": [
    "mypalette = sns.color_palette(\"colorblind\")"
   ]
  },
  {
   "cell_type": "code",
   "execution_count": 10,
   "metadata": {},
   "outputs": [],
   "source": [
    "mypalette[0] = mypalette[6]\n",
    "mypalette[1] = mypalette[8]\n",
    "mypalette[2] = mypalette[9]"
   ]
  },
  {
   "cell_type": "code",
   "execution_count": 10,
   "metadata": {},
   "outputs": [],
   "source": [
    "# selected_var_opinion = [\"1e-09\", \"0.001\", \"0.01\", \"0.1\", \"1.0\", \"10.0\", \"100.0\", \"1000.0\", \"10000000.0\"]\n",
    "selected_var_opinion = [\"0.01\", \"1.0\", \"100.0\"]\n",
    "# selected_var_opinion = [\"0.001\", \"0.1\", \"10.0\", \"1000.0\"]\n",
    "selected_var_opinion = [float(u) for u in selected_var_opinion]"
   ]
  },
  {
   "cell_type": "code",
   "execution_count": 7,
   "metadata": {},
   "outputs": [],
   "source": [
    "mypalette = mypalette = [sns.color_palette(\"YlGn\", n_colors = 20)[u] for u in [6,11,16]]"
   ]
  },
  {
   "cell_type": "code",
   "execution_count": 8,
   "metadata": {},
   "outputs": [],
   "source": [
    "condition = \"var_opinions in @selected_var_opinion\""
   ]
  },
  {
   "cell_type": "code",
   "execution_count": 94,
   "metadata": {},
   "outputs": [
    {
     "data": {
      "image/png": "[encoded data removed]",
      "text/plain": [
       "<Figure size 600x260 with 2 Axes>"
      ]
     },
     "metadata": {},
     "output_type": "display_data"
    }
   ],
   "source": [
    "fig, axes = sbp(ncols = 2, figsize = (6, 2.6), sharey = True)\n",
    "# fig.tight_layout()\n",
    "\n",
    "for j, x in enumerate([\"longmedium\", \"shortmedium\"]):\n",
    "    sns.scatterplot(data = df.query(condition).set_index([\"merge\", \"var_opinions\"]).iloc[:,9:].unstack().T.reset_index().assign(var_opinions = lambda x: x[\"var_opinions\"].astype(str)),\n",
    "                    x = x, y = \"no_merge\", hue = \"var_opinions\", ax = axes[j], palette = mypalette)\n",
    "    axes[j].legend(title = \"$Var(SYM)$\").set_visible(j == 0)\n",
    "    axes[j].set_ylabel(\"No Merge\")\n",
    "    axes[j].set_xlabel([\"Merge Medium-Long\", \"Merge Short-Medium\"][j])\n",
    "    axes[j].spines['top'].set_visible(False)\n",
    "    axes[j].spines['right'].set_visible(False)\n",
    "\n",
    "\n",
    "\n",
    "fig.show()\n",
    "fig.savefig(f\"../paper/robustness_scatterplot.pdf\", format = \"pdf\", bbox_inches = \"tight\")\n"
   ]
  },
  {
   "cell_type": "code",
   "execution_count": 15,
   "metadata": {},
   "outputs": [
    {
     "data": {
      "text/html": [
       "<div>\n",
       "<style scoped>\n",
       "    .dataframe tbody tr th:only-of-type {\n",
       "        vertical-align: middle;\n",
       "    }\n",
       "\n",
       "    .dataframe tbody tr th {\n",
       "        vertical-align: top;\n",
       "    }\n",
       "\n",
       "    .dataframe thead th {\n",
       "        text-align: right;\n",
       "    }\n",
       "</style>\n",
       "<table border=\"1\" class=\"dataframe\">\n",
       "  <thead>\n",
       "    <tr style=\"text-align: right;\">\n",
       "      <th>merge</th>\n",
       "      <th>longmedium</th>\n",
       "      <th>no_merge</th>\n",
       "      <th>shortmedium</th>\n",
       "    </tr>\n",
       "    <tr>\n",
       "      <th>merge</th>\n",
       "      <th></th>\n",
       "      <th></th>\n",
       "      <th></th>\n",
       "    </tr>\n",
       "  </thead>\n",
       "  <tbody>\n",
       "    <tr>\n",
       "      <th>longmedium</th>\n",
       "      <td>1.000000</td>\n",
       "      <td>0.997077</td>\n",
       "      <td>0.818174</td>\n",
       "    </tr>\n",
       "    <tr>\n",
       "      <th>no_merge</th>\n",
       "      <td>0.997077</td>\n",
       "      <td>1.000000</td>\n",
       "      <td>0.806448</td>\n",
       "    </tr>\n",
       "    <tr>\n",
       "      <th>shortmedium</th>\n",
       "      <td>0.818174</td>\n",
       "      <td>0.806448</td>\n",
       "      <td>1.000000</td>\n",
       "    </tr>\n",
       "  </tbody>\n",
       "</table>\n",
       "</div>"
      ],
      "text/plain": [
       "merge        longmedium  no_merge  shortmedium\n",
       "merge                                         \n",
       "longmedium     1.000000  0.997077     0.818174\n",
       "no_merge       0.997077  1.000000     0.806448\n",
       "shortmedium    0.818174  0.806448     1.000000"
      ]
     },
     "execution_count": 15,
     "metadata": {},
     "output_type": "execute_result"
    }
   ],
   "source": [
    "df.query(condition).set_index([\"merge\", \"var_opinions\"]).iloc[:,9:].unstack().T.reset_index().assign(var_opinions = lambda x: x[\"var_opinions\"].astype(str))[[\"longmedium\", \"no_merge\", \"shortmedium\"]].corr()"
   ]
  },
  {
   "cell_type": "code",
   "execution_count": 13,
   "metadata": {},
   "outputs": [
    {
     "data": {
      "image/png": "[encoded data removed]",
      "text/plain": [
       "<Figure size 260x260 with 1 Axes>"
      ]
     },
     "metadata": {},
     "output_type": "display_data"
    }
   ],
   "source": [
    "fig, axes = sbp(ncols = 1, figsize = (2.6, 2.6))\n",
    "# fig.tight_layout()\n",
    "\n",
    "lim0, lim1 = -2.8, 3.5\n",
    "sns.lineplot(x = (lim0, lim1), y = (lim0, lim1), color = \"grey\", alpha = 0.2)\n",
    "\n",
    "sns.scatterplot(data = df.query(condition).set_index([\"merge\", \"var_opinions\"]).iloc[:,9:].unstack().T.reset_index().assign(var_opinions = lambda x: x[\"var_opinions\"].astype(str)),\n",
    "                x = \"longmedium\", y = \"no_merge\", hue = \"var_opinions\", palette = mypalette)\n",
    "axes.legend(title = \"$var(S)$\")#.set_visible(j == 0)\n",
    "axes.set_ylabel(\"Gap\")\n",
    "axes.set_xlabel(\"No Gap\")\n",
    "\n",
    "axes.set_ylim((lim0, lim1))\n",
    "axes.set_xlim((lim0, lim1))\n",
    "\n",
    "\n",
    "axes.spines['top'].set_visible(False)\n",
    "axes.spines['right'].set_visible(False)\n",
    "\n",
    "axes.set_xticks([-2,0,2])\n",
    "axes.set_yticks([-2,0,2])\n",
    "\n",
    "fig.show()\n",
    "fig.savefig(f\"../paper/robustness_scatterplot.pdf\", format = \"pdf\", bbox_inches = \"tight\")\n"
   ]
  },
  {
   "cell_type": "code",
   "execution_count": null,
   "metadata": {},
   "outputs": [],
   "source": []
  },
  {
   "cell_type": "code",
   "execution_count": null,
   "metadata": {},
   "outputs": [],
   "source": []
  }
 ],
 "metadata": {
  "kernelspec": {
   "display_name": "climact_env",
   "language": "python",
   "name": "python3"
  },
  "language_info": {
   "codemirror_mode": {
    "name": "ipython",
    "version": 3
   },
   "file_extension": ".py",
   "mimetype": "text/x-python",
   "name": "python",
   "nbconvert_exporter": "python",
   "pygments_lexer": "ipython3",
   "version": "3.9.19"
  },
  "orig_nbformat": 4
 },
 "nbformat": 4,
 "nbformat_minor": 2
}
