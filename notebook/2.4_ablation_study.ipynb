{
 "cells": [
  {
   "cell_type": "code",
   "execution_count": 1,
   "metadata": {},
   "outputs": [],
   "source": [
    "import sys\n",
    "sys.path += [\"../src\"]\n",
    "import ablation_model\n",
    "import causal_model\n",
    "import climact_utils as cu\n",
    "import matplotlib.pyplot as plt\n",
    "import seaborn as sns\n",
    "from matplotlib.pyplot import subplots as sbp\n",
    "import pandas as pd\n",
    "import numpy as np\n",
    "from importlib import reload\n",
    "from glob import glob\n",
    "import matplotlib.lines as mlines"
   ]
  },
  {
   "cell_type": "code",
   "execution_count": 2,
   "metadata": {},
   "outputs": [],
   "source": [
    "import dill"
   ]
  },
  {
   "cell_type": "markdown",
   "metadata": {},
   "source": [
    "#### Single experiment"
   ]
  },
  {
   "cell_type": "code",
   "execution_count": 3,
   "metadata": {},
   "outputs": [],
   "source": [
    "lr = 0.05\n",
    "subreddit_class = \"activism\"\n",
    "n_epochs = 10000\n",
    "init_scale = 0.1\n",
    "init_scale_opinions = 0.01\n",
    "var_opinions = 0.01"
   ]
  },
  {
   "cell_type": "code",
   "execution_count": 4,
   "metadata": {},
   "outputs": [
    {
     "data": {
      "text/plain": [
       "{'sociodemo_to_opinions': True,\n",
       " 'activity_to_opinions': True,\n",
       " 'news_to_opinions': True,\n",
       " 'interaction_to_activation': True,\n",
       " 'opinion_to_activation': True,\n",
       " 'activity_to_activation': True,\n",
       " 'news_LT_to_activation': True,\n",
       " 'news_ST_to_activation': True,\n",
       " 'intercept_to_activation': True}"
      ]
     },
     "execution_count": 4,
     "metadata": {},
     "output_type": "execute_result"
    }
   ],
   "source": [
    "with_vars = ablation_model.with_vars\n",
    "with_vars"
   ]
  },
  {
   "cell_type": "code",
   "execution_count": 2,
   "metadata": {},
   "outputs": [],
   "source": [
    "complete_exp = ablation_model.full_experiment(subreddit_class, n_epochs, lr, var_opinions = var_opinions, multivariate = True, \n",
    "                                                                           date = \"241002\", progress_bar = False, \n",
    "                                                                           id = \"abl\", print_loss = True, save = False,\n",
    "                                                                           return_res = True, init_scale = init_scale, \n",
    "                                                                           init_scale_opinions = init_scale_opinions, with_vars = with_vars\n",
    "                                                                           )"
   ]
  },
  {
   "cell_type": "code",
   "execution_count": null,
   "metadata": {},
   "outputs": [],
   "source": [
    "with_vars = ablation_model.with_vars\n",
    "with_vars[\"sociodemo_to_opinions\"] = False"
   ]
  },
  {
   "cell_type": "code",
   "execution_count": 22,
   "metadata": {},
   "outputs": [
    {
     "name": "stdout",
     "output_type": "stream",
     "text": [
      "2170\n",
      "1044167.56\n"
     ]
    },
    {
     "data": {
      "image/png": "[encoded data removed]",
      "text/plain": [
       "<Figure size 400x200 with 2 Axes>"
      ]
     },
     "metadata": {},
     "output_type": "display_data"
    }
   ],
   "source": [
    "guide, svi_results, betas, model_settings = ablation_model.full_experiment(subreddit_class, n_epochs, lr, var_opinions = var_opinions, multivariate = True, \n",
    "                               date = \"240904\", progress_bar = False, \n",
    "                               id = \"001\", print_loss = True, save = False,\n",
    "                               return_res = True, init_scale = init_scale, init_scale_opinions = init_scale_opinions, with_vars = with_vars\n",
    "                               )"
   ]
  },
  {
   "cell_type": "code",
   "execution_count": 23,
   "metadata": {},
   "outputs": [],
   "source": [
    "betas_no_sociodemo_to_opinion = betas"
   ]
  },
  {
   "cell_type": "code",
   "execution_count": 34,
   "metadata": {},
   "outputs": [],
   "source": [
    "with_vars = ablation_model.with_vars\n",
    "with_vars[\"activity_to_opinions\"] = False"
   ]
  },
  {
   "cell_type": "code",
   "execution_count": 3,
   "metadata": {},
   "outputs": [],
   "source": [
    "guide, svi_results, betas, model_settings = ablation_model.full_experiment(subreddit_class, n_epochs, lr, var_opinions = var_opinions, multivariate = True, \n",
    "                               date = \"240904\", progress_bar = False, \n",
    "                               id = \"001\", print_loss = True, save = False,\n",
    "                               return_res = True, init_scale = init_scale, init_scale_opinions = init_scale_opinions, with_vars = with_vars\n",
    "                               )"
   ]
  },
  {
   "cell_type": "code",
   "execution_count": null,
   "metadata": {},
   "outputs": [],
   "source": [
    "betas_no_activity_to_opinion = betas"
   ]
  },
  {
   "cell_type": "code",
   "execution_count": 30,
   "metadata": {},
   "outputs": [
    {
     "data": {
      "text/html": [
       "<div>\n",
       "<style scoped>\n",
       "    .dataframe tbody tr th:only-of-type {\n",
       "        vertical-align: middle;\n",
       "    }\n",
       "\n",
       "    .dataframe tbody tr th {\n",
       "        vertical-align: top;\n",
       "    }\n",
       "\n",
       "    .dataframe thead th {\n",
       "        text-align: right;\n",
       "    }\n",
       "</style>\n",
       "<table border=\"1\" class=\"dataframe\">\n",
       "  <thead>\n",
       "    <tr style=\"text-align: right;\">\n",
       "      <th></th>\n",
       "      <th>complete</th>\n",
       "      <th>no_sociodemo</th>\n",
       "    </tr>\n",
       "  </thead>\n",
       "  <tbody>\n",
       "    <tr>\n",
       "      <th>age_to_opinion</th>\n",
       "      <td>0.0</td>\n",
       "      <td>0.0</td>\n",
       "    </tr>\n",
       "    <tr>\n",
       "      <th>gender_to_opinion</th>\n",
       "      <td>0.0</td>\n",
       "      <td>0.0</td>\n",
       "    </tr>\n",
       "    <tr>\n",
       "      <th>partisan_to_opinion</th>\n",
       "      <td>-0.33071604</td>\n",
       "      <td>0.0</td>\n",
       "    </tr>\n",
       "    <tr>\n",
       "      <th>affluence_to_opinion</th>\n",
       "      <td>-0.22275284</td>\n",
       "      <td>0.0</td>\n",
       "    </tr>\n",
       "    <tr>\n",
       "      <th>norm_climate_long_to_opinion</th>\n",
       "      <td>0.0</td>\n",
       "      <td>0.0</td>\n",
       "    </tr>\n",
       "    <tr>\n",
       "      <th>norm_climate_action_long_to_opinion</th>\n",
       "      <td>0.0</td>\n",
       "      <td>0.0</td>\n",
       "    </tr>\n",
       "    <tr>\n",
       "      <th>norm_natural_disaster_long_to_opinion</th>\n",
       "      <td>0.0</td>\n",
       "      <td>0.0</td>\n",
       "    </tr>\n",
       "    <tr>\n",
       "      <th>opinion_to_activation</th>\n",
       "      <td>0.8666549</td>\n",
       "      <td>0.72015506</td>\n",
       "    </tr>\n",
       "    <tr>\n",
       "      <th>norm_climate_long_to_activation</th>\n",
       "      <td>0.36760566</td>\n",
       "      <td>0.0</td>\n",
       "    </tr>\n",
       "    <tr>\n",
       "      <th>norm_climate_action_long_to_activation</th>\n",
       "      <td>-0.48275006</td>\n",
       "      <td>-0.334324</td>\n",
       "    </tr>\n",
       "    <tr>\n",
       "      <th>norm_natural_disaster_long_to_activation</th>\n",
       "      <td>0.0</td>\n",
       "      <td>0.0</td>\n",
       "    </tr>\n",
       "    <tr>\n",
       "      <th>norm_climate_short_to_activation</th>\n",
       "      <td>0.0</td>\n",
       "      <td>0.0</td>\n",
       "    </tr>\n",
       "    <tr>\n",
       "      <th>norm_climate_action_short_to_activation</th>\n",
       "      <td>0.4163472</td>\n",
       "      <td>0.4353425</td>\n",
       "    </tr>\n",
       "    <tr>\n",
       "      <th>norm_natural_disaster_short_to_activation</th>\n",
       "      <td>0.0</td>\n",
       "      <td>0.0</td>\n",
       "    </tr>\n",
       "    <tr>\n",
       "      <th>interaction_short_to_activation</th>\n",
       "      <td>0.9226216</td>\n",
       "      <td>0.93677527</td>\n",
       "    </tr>\n",
       "    <tr>\n",
       "      <th>age_to_interaction</th>\n",
       "      <td>0.60966307</td>\n",
       "      <td>0.6285372</td>\n",
       "    </tr>\n",
       "    <tr>\n",
       "      <th>gender_to_interaction</th>\n",
       "      <td>-0.5225034</td>\n",
       "      <td>-0.51437277</td>\n",
       "    </tr>\n",
       "    <tr>\n",
       "      <th>partisan_to_interaction</th>\n",
       "      <td>-0.91204965</td>\n",
       "      <td>-0.90880466</td>\n",
       "    </tr>\n",
       "    <tr>\n",
       "      <th>affluence_to_interaction</th>\n",
       "      <td>-0.5333537</td>\n",
       "      <td>-0.518693</td>\n",
       "    </tr>\n",
       "  </tbody>\n",
       "</table>\n",
       "</div>"
      ],
      "text/plain": [
       "                                              complete no_sociodemo\n",
       "age_to_opinion                                     0.0          0.0\n",
       "gender_to_opinion                                  0.0          0.0\n",
       "partisan_to_opinion                        -0.33071604          0.0\n",
       "affluence_to_opinion                       -0.22275284          0.0\n",
       "norm_climate_long_to_opinion                       0.0          0.0\n",
       "norm_climate_action_long_to_opinion                0.0          0.0\n",
       "norm_natural_disaster_long_to_opinion              0.0          0.0\n",
       "opinion_to_activation                        0.8666549   0.72015506\n",
       "norm_climate_long_to_activation             0.36760566          0.0\n",
       "norm_climate_action_long_to_activation     -0.48275006    -0.334324\n",
       "norm_natural_disaster_long_to_activation           0.0          0.0\n",
       "norm_climate_short_to_activation                   0.0          0.0\n",
       "norm_climate_action_short_to_activation      0.4163472    0.4353425\n",
       "norm_natural_disaster_short_to_activation          0.0          0.0\n",
       "interaction_short_to_activation              0.9226216   0.93677527\n",
       "age_to_interaction                          0.60966307    0.6285372\n",
       "gender_to_interaction                       -0.5225034  -0.51437277\n",
       "partisan_to_interaction                    -0.91204965  -0.90880466\n",
       "affluence_to_interaction                    -0.5333537    -0.518693"
      ]
     },
     "execution_count": 30,
     "metadata": {},
     "output_type": "execute_result"
    }
   ],
   "source": [
    "pd.DataFrame({\"complete\": causal_model.get_interesting_from_beta(betas_complete),\n",
    "              \"no_sociodemo\": causal_model.get_interesting_from_beta(betas_no_sociodemo_to_opinion)})"
   ]
  },
  {
   "cell_type": "markdown",
   "metadata": {},
   "source": [
    "#### Experiments Analysis"
   ]
  },
  {
   "cell_type": "code",
   "execution_count": 4,
   "metadata": {},
   "outputs": [],
   "source": [
    "def read_pkl(file):\n",
    "    try:\n",
    "        # return pd.read_pickle(file)\n",
    "        with open(file, \"rb\") as f:\n",
    "            data = dill.load(f)\n",
    "        return data\n",
    "    except:\n",
    "        print(file)\n",
    "\n",
    "def get_experiments_data(pickle):\n",
    "    model_settings, betas,  = pickle[\"model_settings\"], pickle[\"betas\"]\n",
    "    model_settings[\"loss\"] = pickle[\"losses\"][-1].item()\n",
    "    model_settings[\"accuracy\"] = pickle[\"model_settings\"][\"accuracy_mean\"]\n",
    "    setting_vars = [\"subreddit_class\", \"lr\", \"var_opinions\", \"init_scale\", \"init_scale_opinions\", \"num_epochs_early_stop\", \"loss\", \"accuracy\", \"time\", \"ablation\"]\n",
    "    settings_s = pd.Series([model_settings[k] for k in setting_vars], index = setting_vars)\n",
    "    opinions_s = betas[\"beta_to_opinions\"][[u for u in betas[\"beta_to_opinions\"].index if (u in cu.sociodemo_classes) or (\"norm\" in u)]].rename(lambda x: x + \"_to_opinion\")\n",
    "    activation_s = betas[\"beta_to_activation\"][:8].rename(lambda x: x + \"_to_activation\")\n",
    "    interaction_s = betas[\"beta_to_interaction\"][cu.sociodemo_classes].rename(lambda x: x + \"_to_interaction\")\n",
    "    output = pd.concat([settings_s, opinions_s, activation_s, interaction_s])\n",
    "    \n",
    "    return output\n"
   ]
  },
  {
   "cell_type": "code",
   "execution_count": null,
   "metadata": {},
   "outputs": [],
   "source": []
  },
  {
   "cell_type": "code",
   "execution_count": 4,
   "metadata": {},
   "outputs": [
    {
     "name": "stdout",
     "output_type": "stream",
     "text": [
      "save_csv 10\n",
      "save_csv 11\n",
      "save_csv 12\n",
      "save_csv 13\n",
      "save_csv 14\n",
      "save_csv 15\n",
      "save_csv 16\n",
      "save_csv 17\n",
      "save_csv 18\n",
      "save_csv 19\n"
     ]
    }
   ],
   "source": [
    "for u in range(10,20):\n",
    "    files = sorted(glob(causal_model.path_to_exp + f\"*_abl_241009*k{u}*\"))\n",
    "    pickles = [causal_model.read_pkl(file) for file in files]\n",
    "    df_ablation = pd.DataFrame([causal_model.get_experiments_data(pickle, other_vars_settings = [\"ablation\"]) for pickle in pickles])\n",
    "    df_ablation.to_csv(causal_model.path_to_exp + f\"activism_abl_exp_241009_k{u}.csv\")\n",
    "    print(\"save_csv\", u)"
   ]
  },
  {
   "cell_type": "code",
   "execution_count": 17,
   "metadata": {},
   "outputs": [],
   "source": [
    "# df_ablation = pd.concat([pd.read_csv(causal_model.path_to_exp + f\"activism_abl_exp_241005_k{u}.csv\", index_col = 0) for u in range(10, 20)])\n",
    "df_ablation = pd.concat([pd.read_csv(causal_model.path_to_exp + f\"activism_abl_exp_241009_k{u}.csv\", index_col = 0).assign(key = u) for u in range(10, 20)])"
   ]
  },
  {
   "cell_type": "code",
   "execution_count": 13,
   "metadata": {},
   "outputs": [],
   "source": [
    "# pickles = [read_pkl(file) for file in sorted(glob(causal_model.path_to_exp + \"*_abl_241003*\"))]\n",
    "# df_ablation = pd.DataFrame([get_experiments_data(pickle) for pickle in pickles])\n",
    "# print(\"save csv\")\n",
    "# df_ablation.to_csv(causal_model.path_to_exp + \"activism_abl_exp_241003.csv\")"
   ]
  },
  {
   "cell_type": "code",
   "execution_count": 54,
   "metadata": {},
   "outputs": [],
   "source": [
    "df = df_ablation.sort_values(\"accuracy_mean\", ascending = False).groupby([\"ablation\", \"var_opinions\"]).first().reset_index().assign(pickle = lambda x: [causal_model.path_to_exp + f\"activism_abl_241009_abl_{ablation}_v{str(var_opinions)}_k{key}.pkl\" for ablation, var_opinions, key in zip(x[\"ablation\"], x[\"var_opinions\"], x[\"key\"])])"
   ]
  },
  {
   "cell_type": "code",
   "execution_count": 6,
   "metadata": {},
   "outputs": [],
   "source": [
    "# selected_var_opinion = [\"1e-09\", \"0.001\", \"0.01\", \"0.1\", \"1.0\", \"10.0\", \"100.0\", \"1000.0\", \"10000000.0\"]\n",
    "selected_var_opinion = [\"0.01\", \"1.0\", \"100.0\"]\n",
    "# selected_var_opinion = [\"0.001\", \"0.1\", \"10.0\", \"1000.0\"]\n",
    "selected_var_opinion = [float(u) for u in selected_var_opinion]\n",
    "\n",
    "marker = ['o', 'x', '^', '+', '*', '8', 's', 'p', 'D', 'V']\n",
    "marker_plot = ['o', 'x', '^', 's', 'D']\n",
    "\n",
    "mypalette = sns.color_palette(\"colorblind\")\n",
    "mypalette = sns.cubehelix_palette(start=2, rot=0, dark=0, light=.9, reverse=False, as_cmap=False)[1:(1 + len(selected_var_opinion))]\n",
    "mypalette = mypalette = [sns.color_palette(\"YlGn\", n_colors = 20)[u] for u in [6,11,16]]\n",
    "\n",
    "n_ablations = len(df[\"ablation\"].unique())"
   ]
  },
  {
   "cell_type": "code",
   "execution_count": 8,
   "metadata": {},
   "outputs": [
    {
     "name": "stderr",
     "output_type": "stream",
     "text": [
      "/tmp/ipykernel_3399976/2585877521.py:5: UserWarning: \n",
      "The palette list has fewer values (3) than needed (5) and will cycle, which may produce an uninterpretable plot.\n",
      "  sp = sns.stripplot(\n"
     ]
    },
    {
     "data": {
      "image/png": "[encoded data removed]",
      "text/plain": [
       "<Figure size 600x240 with 1 Axes>"
      ]
     },
     "metadata": {},
     "output_type": "display_data"
    }
   ],
   "source": [
    "fig, axes = sbp(figsize = (6, 2.4))\n",
    "\n",
    "condition = \"var_opinions in @selected_var_opinion\"\n",
    "\n",
    "sp = sns.stripplot(\n",
    "    data = df.query(condition), x = \"var_opinions\", y = \"accuracy_mean\", hue = \"ablation\", palette = mypalette,\n",
    "    alpha = 0.,\n",
    "    dodge = True,\n",
    "    jitter = False,\n",
    ")\n",
    "\n",
    "\n",
    "xy_coordinates = np.concatenate([u.get_offsets().data for u in sp.collections]) \n",
    "# cols = [u.get_facecolor()[0][:3] for u in sp.collections]\n",
    "# cols = mypalette\n",
    "cols = np.repeat(mypalette, n_ablations, axis=0)\n",
    "axes.axvline(x = 0.5, c = \"grey\", alpha = 0.3, linewidth = 0.5)\n",
    "axes.axvline(x = 1.5, c = \"grey\", alpha = 0.3, linewidth = 0.5)\n",
    "\n",
    "axes.yaxis.grid(False)\n",
    "axes.xaxis.grid(False)\n",
    "\n",
    "for i in range(len(df.query(condition))):\n",
    "  x, y = xy_coordinates[i]\n",
    "  col = cols[i]\n",
    "  # col = cols[i % n_ablations]\n",
    "  axes.errorbar(x = x, y = y, \n",
    "                yerr = df.query(condition).sort_values([\"var_opinions\", \"ablation\"])[\"accuracy_std\"].iloc[i], \n",
    "                marker = marker_plot[i % n_ablations],\n",
    "                c = col)\n",
    "\n",
    "\n",
    "axes.set_ylabel(\"\")\n",
    "axes.set_xlabel(\"\")\n",
    "\n",
    "axes.spines['top'].set_visible(False)\n",
    "axes.spines['right'].set_visible(False)\n",
    "\n",
    "# axes.set_title(\"$\\\\beta_{SYM}$\")\n",
    "# axes.set_yticklabels([str(u).replace(\"_to_opinion\", \"\") for u in df[\"index\"].unique()])\n",
    "\n",
    "# handles, _ = plt.gca().get_legend_handles_labels()\n",
    "remove_str = \"Without\"\n",
    "labels = [\"All variables\", remove_str +  \" $E$\", remove_str +  \" $I$\", remove_str +  \" $M$\", remove_str +  \" $D$\"]\n",
    "\n",
    "handles = [mlines.Line2D([], [], color = \"darkgrey\", marker = marker_plot[u], linestyle='None',\n",
    "                          label = label) for u, label in enumerate(labels)]\n",
    "\n",
    "axes.legend(handles = handles, title = \"\", loc = \"upper right\", bbox_to_anchor=(0.33, 1.1))\n",
    "axes.set_ylabel(\"Accuracy\")\n",
    "axes.set_xlabel(\"$var(S)$\")\n",
    "\n",
    "axes.set_yticks([0.6, 0.7, 0.8])\n",
    "\n",
    "fig.show()\n",
    "fig.savefig(f\"../paper/ablation_errorplot.pdf\", format = \"pdf\", bbox_inches = \"tight\")\n"
   ]
  },
  {
   "cell_type": "markdown",
   "metadata": {},
   "source": [
    "#### CI sociodemo_to_interaction"
   ]
  },
  {
   "cell_type": "code",
   "execution_count": null,
   "metadata": {},
   "outputs": [],
   "source": [
    "pickles = {s: causal_model.read_pkl(s) for s in df[\"pickle\"]}"
   ]
  },
  {
   "cell_type": "code",
   "execution_count": null,
   "metadata": {},
   "outputs": [],
   "source": [
    "from numpyro import distributions\n",
    "from causal_model import PRNGKey\n",
    "interesting_coefs_loc_names = [\"beta_sociodemo_to_opinions_loc\", \"beta_news_to_opinions_loc\", \n",
    "                               \"beta_sociodemo_to_interaction_auto_loc\", \n",
    "                              #  \"beta_sociodemo_to_interaction_loc\", \n",
    "                               \"beta_opinion_to_activation_auto_loc\", \n",
    "                               \"beta_interaction_to_activation_auto_loc\", \n",
    "                               \"beta_news_LT_to_activation_loc\", \n",
    "                               \"beta_news_ST_to_activation_loc\", \n",
    "                               \"beta_sociodemo_to_sub_ST_loc\",\n",
    "                               \"beta_retention_to_sub_ST_auto_loc\"]\n",
    "coefs_index = [\"age_to_opinion\", \"gender_to_opinion\", \"partisan_to_opinion\",  \"affluence_to_opinion\", \n",
    "               \"climate_LT_to_opinion\", \"climate_action_LT_to_opinion\", \"natural_disaster_LT_to_opinion\", \n",
    "               \"age_to_interaction\", \"gender_to_interaction\", \"partisan_to_interaction\",  \"affluence_to_interaction\", \n",
    "               \"opinion_to_activation\", \"interaction_to_activation\", \"climate_LT_to_activation\", \"climate_action_LT_to_activation\", \"natural_disaster_LT_to_activation\",\n",
    "                \"climate_ST_to_activation\", \"climate_action_ST_to_activation\", \"natural_disaster_ST_to_activation\",\n",
    "                \"age_to_sub_ST\", \"gender_to_sub_ST\", \"partisan_to_sub_ST\",  \"affluence_to_sub_ST\", \"retention_to_sub_ST\"]\n",
    "interesting_coefs_scale_names = [u.replace(\"auto_loc\", \"auto_scale\").replace(\"_loc\", \"_scale_tril\") for u in interesting_coefs_loc_names]"
   ]
  },
  {
   "cell_type": "code",
   "execution_count": null,
   "metadata": {},
   "outputs": [],
   "source": [
    "def return_percentiles(params_dict, key, coefs_loc_name, coefs_scale_name,  perc1 = 5, perc2 = 95):\n",
    "    if \"tril\" in coefs_scale_name:\n",
    "        samples = distributions.MultivariateNormal(params_dict[key][coefs_loc_name], params_dict[key][coefs_scale_name]).sample(PRNGKey(10), (10000,))\n",
    "    else:\n",
    "        samples = distributions.Normal(params_dict[key][coefs_loc_name], params_dict[key][coefs_scale_name]).sample(PRNGKey(10), (10000,))\n",
    "    return np.percentile(samples, perc1, axis = 0), np.percentile(samples, perc2, axis = 0)\n",
    "\n",
    "def get_df_mean_ci(params_dict, key, perc1 = 5, perc2 = 95, coefs_loc_names = interesting_coefs_loc_names, coefs_scale_names = interesting_coefs_scale_names, coefs_index = coefs_index):\n",
    "    all_perc_one_exp = [return_percentiles(params_dict, key, coefs_loc_names[u], coefs_scale_names[u], perc1 = perc1, perc2 = perc2) for u in range(len(coefs_loc_names))]\n",
    "    df = pd.DataFrame([np.concatenate([np.array(params_dict[key][u]) for u in coefs_loc_names]), (np.concatenate([u[0] for u in all_perc_one_exp])), (np.concatenate([u[1] for u in all_perc_one_exp]))], \n",
    "                              index = [\"mean\", \"lower\", \"upper\"], columns = coefs_index).T[-1::-1]\n",
    "    return df\n",
    "\n",
    "def rgb_to_hex(rgb):\n",
    "    return '#' + ''.join(f'{int(c * 255):02x}' for c in rgb)"
   ]
  },
  {
   "cell_type": "code",
   "execution_count": 101,
   "metadata": {},
   "outputs": [],
   "source": [
    "coefs_mean_ci_ablation = {s: get_df_mean_ci(params_dict = {0: pickles[s][\"params\"]}, key = 0, coefs_loc_names = [\"beta_sociodemo_to_interaction_auto_loc\"],  coefs_scale_names = [\"beta_sociodemo_to_interaction_auto_scale\"], coefs_index = [\"age\", \"gender\", \"partisan\",  \"affluence\"]).assign(ablation = s.split(\"_\")[-3], var_opinions = s.split(\"_\")[-2][1:]) for s in pickles}"
   ]
  },
  {
   "cell_type": "code",
   "execution_count": 102,
   "metadata": {},
   "outputs": [],
   "source": [
    "df_ci_ablation = pd.concat(coefs_mean_ci_ablation).reset_index().drop(columns = [\"level_0\"]).rename(columns = {\"level_1\": \"sociodemo\"}).assign(error = lambda x: x[\"mean\"] - x[\"lower\"])"
   ]
  },
  {
   "cell_type": "code",
   "execution_count": 103,
   "metadata": {},
   "outputs": [
    {
     "data": {
      "text/html": [
       "<div>\n",
       "<style scoped>\n",
       "    .dataframe tbody tr th:only-of-type {\n",
       "        vertical-align: middle;\n",
       "    }\n",
       "\n",
       "    .dataframe tbody tr th {\n",
       "        vertical-align: top;\n",
       "    }\n",
       "\n",
       "    .dataframe thead th {\n",
       "        text-align: right;\n",
       "    }\n",
       "</style>\n",
       "<table border=\"1\" class=\"dataframe\">\n",
       "  <thead>\n",
       "    <tr style=\"text-align: right;\">\n",
       "      <th></th>\n",
       "      <th>sociodemo</th>\n",
       "      <th>mean</th>\n",
       "      <th>lower</th>\n",
       "      <th>upper</th>\n",
       "      <th>ablation</th>\n",
       "      <th>var_opinions</th>\n",
       "      <th>error</th>\n",
       "    </tr>\n",
       "  </thead>\n",
       "  <tbody>\n",
       "    <tr>\n",
       "      <th>0</th>\n",
       "      <td>affluence</td>\n",
       "      <td>-0.385912</td>\n",
       "      <td>-0.457691</td>\n",
       "      <td>-0.314254</td>\n",
       "      <td>complete</td>\n",
       "      <td>1e-09</td>\n",
       "      <td>0.071779</td>\n",
       "    </tr>\n",
       "    <tr>\n",
       "      <th>1</th>\n",
       "      <td>partisan</td>\n",
       "      <td>-0.989942</td>\n",
       "      <td>-1.173425</td>\n",
       "      <td>-0.809790</td>\n",
       "      <td>complete</td>\n",
       "      <td>1e-09</td>\n",
       "      <td>0.183483</td>\n",
       "    </tr>\n",
       "    <tr>\n",
       "      <th>2</th>\n",
       "      <td>gender</td>\n",
       "      <td>-0.320389</td>\n",
       "      <td>-0.485369</td>\n",
       "      <td>-0.163591</td>\n",
       "      <td>complete</td>\n",
       "      <td>1e-09</td>\n",
       "      <td>0.164980</td>\n",
       "    </tr>\n",
       "    <tr>\n",
       "      <th>3</th>\n",
       "      <td>age</td>\n",
       "      <td>0.409874</td>\n",
       "      <td>0.301895</td>\n",
       "      <td>0.520609</td>\n",
       "      <td>complete</td>\n",
       "      <td>1e-09</td>\n",
       "      <td>0.107979</td>\n",
       "    </tr>\n",
       "    <tr>\n",
       "      <th>4</th>\n",
       "      <td>affluence</td>\n",
       "      <td>-0.387835</td>\n",
       "      <td>-0.480654</td>\n",
       "      <td>-0.295173</td>\n",
       "      <td>complete</td>\n",
       "      <td>0.001</td>\n",
       "      <td>0.092819</td>\n",
       "    </tr>\n",
       "  </tbody>\n",
       "</table>\n",
       "</div>"
      ],
      "text/plain": [
       "   sociodemo      mean     lower     upper  ablation var_opinions     error\n",
       "0  affluence -0.385912 -0.457691 -0.314254  complete        1e-09  0.071779\n",
       "1   partisan -0.989942 -1.173425 -0.809790  complete        1e-09  0.183483\n",
       "2     gender -0.320389 -0.485369 -0.163591  complete        1e-09  0.164980\n",
       "3        age  0.409874  0.301895  0.520609  complete        1e-09  0.107979\n",
       "4  affluence -0.387835 -0.480654 -0.295173  complete        0.001  0.092819"
      ]
     },
     "execution_count": 103,
     "metadata": {},
     "output_type": "execute_result"
    }
   ],
   "source": [
    "df_ci_ablation.head()"
   ]
  },
  {
   "cell_type": "code",
   "execution_count": 146,
   "metadata": {},
   "outputs": [
    {
     "name": "stderr",
     "output_type": "stream",
     "text": [
      "/tmp/ipykernel_3483925/137984898.py:8: UserWarning: \n",
      "The palette list has fewer values (3) than needed (5) and will cycle, which may produce an uninterpretable plot.\n",
      "  sp = sns.stripplot(\n",
      "/tmp/ipykernel_3483925/137984898.py:8: UserWarning: \n",
      "The palette list has fewer values (3) than needed (5) and will cycle, which may produce an uninterpretable plot.\n",
      "  sp = sns.stripplot(\n"
     ]
    },
    {
     "name": "stderr",
     "output_type": "stream",
     "text": [
      "/tmp/ipykernel_3483925/137984898.py:8: UserWarning: \n",
      "The palette list has fewer values (3) than needed (5) and will cycle, which may produce an uninterpretable plot.\n",
      "  sp = sns.stripplot(\n",
      "/tmp/ipykernel_3483925/137984898.py:8: UserWarning: \n",
      "The palette list has fewer values (3) than needed (5) and will cycle, which may produce an uninterpretable plot.\n",
      "  sp = sns.stripplot(\n"
     ]
    },
    {
     "data": {
      "image/png": "[encoded data removed]",
      "text/plain": [
       "<Figure size 900x420 with 4 Axes>"
      ]
     },
     "metadata": {},
     "output_type": "display_data"
    }
   ],
   "source": [
    "fig, axes = sbp(ncols = 2, nrows = 2, figsize = (9, 4.2), sharex = True, sharey = True)\n",
    "\n",
    "for k, sociodemo in enumerate([\"affluence\", \"partisan\", \"gender\", \"age\"]):\n",
    "  i,j = int(np.floor(k / 2)), k % 2\n",
    "  \n",
    "  condition = f\"(var_opinions in @selected_var_opinion)&(sociodemo == '{sociodemo}')\"\n",
    "\n",
    "  sp = sns.stripplot(\n",
    "      data = df_ci_ablation.query(condition), x = \"var_opinions\", \n",
    "      y = \"mean\", hue = \"ablation\", palette = mypalette,\n",
    "      alpha = 0.,\n",
    "      dodge = True,\n",
    "      jitter = False,\n",
    "      ax = axes[i,j]\n",
    "  )\n",
    "\n",
    "\n",
    "  xy_coordinates = np.concatenate([u.get_offsets().data for u in sp.collections]) \n",
    "  # cols = [u.get_facecolor()[0][:3] for u in sp.collections]\n",
    "  # cols = mypalette\n",
    "  cols = np.repeat(mypalette, n_ablations, axis=0)\n",
    "  axes[i,j].axvline(x = 0.5, c = \"grey\", alpha = 0.3, linewidth = 0.5)\n",
    "  axes[i,j].axvline(x = 1.5, c = \"grey\", alpha = 0.3, linewidth = 0.5)\n",
    "\n",
    "  axes[i,j].axhline(y = 0, c = \"grey\", alpha = 0.5, linewidth = 0.5)\n",
    "\n",
    "  axes[i,j].yaxis.grid(False)\n",
    "  axes[i,j].xaxis.grid(False)\n",
    "\n",
    "  for h in range(len(df_ci_ablation.query(condition))):\n",
    "    x, y = xy_coordinates[h]\n",
    "    col = cols[h]\n",
    "    # col = cols[i % n_ablations]\n",
    "    axes[i,j].errorbar(x = x, y = y, \n",
    "                  yerr = df_ci_ablation.query(condition).sort_values([\"var_opinions\", \"ablation\"])[\"error\"].iloc[h],\n",
    "                  marker = marker_plot[h % n_ablations],\n",
    "                  c = col)\n",
    "\n",
    "\n",
    "  axes[i,j].set_ylabel(\"\")\n",
    "  axes[i,j].set_xlabel(\"\")\n",
    "\n",
    "  axes[i,j].set_ylim(-2.2,2.2)\n",
    "\n",
    "  axes[i,j].spines['top'].set_visible(False)\n",
    "  axes[i,j].spines['right'].set_visible(False)\n",
    "\n",
    "  # axes.set_title(\"$\\\\beta_{SYM}$\")\n",
    "  # axes.set_yticklabels([str(u).replace(\"_to_opinion\", \"\") for u in df[\"index\"].unique()])\n",
    "\n",
    "  # handles, _ = plt.gca().get_legend_handles_labels()\n",
    "  remove_str = \"Without\"\n",
    "  labels = [\"All variables\", remove_str +  \" $E$\", remove_str +  \" $I$\", remove_str +  \" $M$\", remove_str +  \" $D$\"]\n",
    "\n",
    "  handles = [mlines.Line2D([], [], color = \"darkgrey\", marker = marker_plot[u], linestyle='None',\n",
    "                            label = label) for u, label in enumerate(labels)]\n",
    "\n",
    "  axes[i,j].legend(handles = handles, title = \"\", loc = \"upper right\", bbox_to_anchor=(2.8, 0.4)).set_visible(k == 0)\n",
    "  axes[i,j].set_title(\"$D_{sub}$\" + f\"({sociodemo})\")\n",
    "  \n",
    "  axes[i,j].set_xlabel(\"$var(S)$\")\n",
    "  axes[i,j].set_ylabel(\"$\\\\beta$\")\n",
    "\n",
    "  # axes.set_yticks([0.6, 0.7, 0.8])\n",
    "\n",
    "  fig.show()\n",
    "  # fig.savefig(f\"../paper/ablation_errorplot.pdf\", format = \"pdf\", bbox_inches = \"tight\")\n"
   ]
  },
  {
   "cell_type": "code",
   "execution_count": null,
   "metadata": {},
   "outputs": [],
   "source": []
  },
  {
   "cell_type": "code",
   "execution_count": null,
   "metadata": {},
   "outputs": [],
   "source": []
  },
  {
   "cell_type": "code",
   "execution_count": null,
   "metadata": {},
   "outputs": [],
   "source": []
  },
  {
   "cell_type": "code",
   "execution_count": null,
   "metadata": {},
   "outputs": [],
   "source": []
  }
 ],
 "metadata": {
  "kernelspec": {
   "display_name": "climact_env",
   "language": "python",
   "name": "python3"
  },
  "language_info": {
   "codemirror_mode": {
    "name": "ipython",
    "version": 3
   },
   "file_extension": ".py",
   "mimetype": "text/x-python",
   "name": "python",
   "nbconvert_exporter": "python",
   "pygments_lexer": "ipython3",
   "version": "3.9.19"
  },
  "orig_nbformat": 4
 },
 "nbformat": 4,
 "nbformat_minor": 2
}
