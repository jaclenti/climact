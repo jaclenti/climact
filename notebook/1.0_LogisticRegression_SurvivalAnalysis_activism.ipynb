{
 "cells": [
  {
   "cell_type": "markdown",
   "metadata": {},
   "source": [
    "# Logistic Regression and Survival Analysis - Climate Activism\n",
    "\n",
    "### Features\n",
    "In this notebook we firstly classify the activation of the user.\n",
    "We perform a logistic regression, where the target variable is the activation of the user, i.e. user j write in one of the target subreddits in the period t, [t + 7days].\n",
    "\n",
    "The indipendent variables are:\n",
    "- sociodemographic features of the users: whether they are in the first/last quartile of the users with highest in male/female, rich/poor, left/right, old/young scores. Each of the first 10,000 subreddit has a score, and each user has a score that is the weighted average of the scores assigned to the subreddits where she commented.\n",
    "- control variables of the activity: variables controlling the activity of the user, as average number of comments per week, average active days in Reddit per week, average length of discussion, average number of different subreddits she wrote in\n",
    "- interaction variables: average number of different comments interacting with active authors per week, average number of different parent_id interacting with active authors per week, average number of different interacting active authors per week\n",
    "- subreddit variables: one boolean for each of the 1000 most popular subreddit in our dataset, that is True if the author wrote in the subreddit, False otherwise\n",
    "- news variables: proportion of news related to climate, climate change or natural disaster in the country the user is assigned to. The median for all non-georeferenced users\n",
    "\n",
    "Control, interaction, subreddit and news variabls are replicated for three different time periods: week (t-1week, t), month (t-5weeks, t-1week), year(t-52weeks, t-5weeks).\n",
    "\n",
    "### Logistic regression\n",
    "\n",
    "We apply 1000 bootstrap sampling, then PCA, and keep the first 20 PCs.\n",
    "Then logistic regression.\n",
    "The coefficient are given by the average of the coefficients obtained at each sample.\n",
    "The p-value is the proportion of experiments that gave the same sign.\n",
    "\n",
    "Then, we repeat the experiment removing some of the variables.\n",
    "\n",
    "### Survival analysis\n",
    "\n",
    "Then, we perform survival analysis to infer the variables that influence the rate of activation, among the users that do activate (no right censoring).\n",
    "Again, we apply bootstrap sampling, then PCA keeping the first 20 PCs."
   ]
  },
  {
   "cell_type": "code",
   "execution_count": 1,
   "metadata": {},
   "outputs": [
    {
     "name": "stderr",
     "output_type": "stream",
     "text": [
      "WARNING: An illegal reflective access operation has occurred\n",
      "WARNING: Illegal reflective access by org.apache.spark.unsafe.Platform (file:/opt/spark/jars/spark-unsafe_2.12-3.2.1.jar) to constructor java.nio.DirectByteBuffer(long,int)\n",
      "WARNING: Please consider reporting this to the maintainers of org.apache.spark.unsafe.Platform\n",
      "WARNING: Use --illegal-access=warn to enable warnings of further illegal reflective access operations\n",
      "WARNING: All illegal access operations will be denied in a future release\n",
      "Setting default log level to \"WARN\".\n",
      "To adjust logging level use sc.setLogLevel(newLevel). For SparkR, use setLogLevel(newLevel).\n"
     ]
    }
   ],
   "source": [
    "import pandas as pd\n",
    "import sys\n",
    "sys.path += [\"../src\"]\n",
    "import features_cox_week as ft\n",
    "import climact_utils as cu\n",
    "import cox_logreg_experiments as cle\n",
    "import numpy as np\n",
    "from importlib import reload\n",
    "from glob import glob"
   ]
  },
  {
   "cell_type": "code",
   "execution_count": 2,
   "metadata": {},
   "outputs": [],
   "source": [
    "from importlib import reload"
   ]
  },
  {
   "cell_type": "code",
   "execution_count": 3,
   "metadata": {},
   "outputs": [],
   "source": [
    "from sklearn.model_selection import train_test_split\n",
    "from sklearn.linear_model import LogisticRegression\n",
    "from sklearn import metrics\n",
    "from sklearn.pipeline import Pipeline\n",
    "from sklearn.decomposition import PCA\n",
    "from sklearn.preprocessing import StandardScaler"
   ]
  },
  {
   "cell_type": "code",
   "execution_count": 4,
   "metadata": {},
   "outputs": [],
   "source": [
    "import statsmodels.api as sm\n",
    "import statsmodels.formula.api as smf"
   ]
  },
  {
   "cell_type": "markdown",
   "metadata": {},
   "source": [
    "### Create Dataframe"
   ]
  },
  {
   "cell_type": "code",
   "execution_count": 5,
   "metadata": {},
   "outputs": [],
   "source": [
    "from create_features_df import create_features_df"
   ]
  },
  {
   "cell_type": "code",
   "execution_count": 6,
   "metadata": {},
   "outputs": [],
   "source": [
    "subreddit_class = \"activism\""
   ]
  },
  {
   "cell_type": "code",
   "execution_count": 7,
   "metadata": {},
   "outputs": [
    {
     "name": "stdout",
     "output_type": "stream",
     "text": [
      "Activity features\n",
      "Subreddit features\n",
      "News features\n",
      "Merge\n",
      "Sociodemographic features\n"
     ]
    }
   ],
   "source": [
    "df_lr = create_features_df(subreddit_class, months_list = cu.all_months[:-1],\n",
    "                           balanced_classes = True, random_state = 100, verbose = True, )"
   ]
  },
  {
   "cell_type": "code",
   "execution_count": 8,
   "metadata": {},
   "outputs": [
    {
     "data": {
      "text/plain": [
       "(8226, 4026)"
      ]
     },
     "execution_count": 8,
     "metadata": {},
     "output_type": "execute_result"
    }
   ],
   "source": [
    "df_lr.shape"
   ]
  },
  {
   "cell_type": "code",
   "execution_count": 9,
   "metadata": {},
   "outputs": [
    {
     "data": {
      "text/plain": [
       "activation\n",
       "True     4113\n",
       "False    4113\n",
       "Name: count, dtype: int64"
      ]
     },
     "execution_count": 9,
     "metadata": {},
     "output_type": "execute_result"
    }
   ],
   "source": [
    "df_lr.activation.value_counts()"
   ]
  },
  {
   "cell_type": "markdown",
   "metadata": {},
   "source": [
    "### Exploratory Analysis"
   ]
  },
  {
   "cell_type": "code",
   "execution_count": 10,
   "metadata": {},
   "outputs": [],
   "source": [
    "all_non_subreddit_features = [u for u in df_lr.columns if u[0] != \"r\"]"
   ]
  },
  {
   "cell_type": "code",
   "execution_count": 11,
   "metadata": {},
   "outputs": [
    {
     "data": {
      "text/plain": [
       "n_different_comments_with_active_link_id_link_id_short_long_ratio        14.795934\n",
       "n_different_active_authors_link_id_link_id_short_long_ratio               8.874064\n",
       "n_different_comments_with_active_id_parent_id_short                       5.296830\n",
       "n_different_comments_with_active_parent_id_parent_id_short_long_ratio     5.169527\n",
       "n_different_active_authors_id_parent_id_short                             5.070632\n",
       "                                                                           ...    \n",
       "sociodemo_young                                                           0.834244\n",
       "n_different_comments_with_active_parent_id_parent_id_long                 0.775365\n",
       "sociodemo_rich                                                            0.756228\n",
       "sociodemo_right                                                           0.620339\n",
       "duration                                                                  0.573891\n",
       "Length: 73, dtype: float64"
      ]
     },
     "execution_count": 11,
     "metadata": {},
     "output_type": "execute_result"
    }
   ],
   "source": [
    "df_lr[all_non_subreddit_features].groupby(\"activation\").mean().T.apply(lambda x: x[True] / x[False], axis = 1).replace(np.inf, np.nan).dropna().sort_values(ascending = False)"
   ]
  },
  {
   "cell_type": "code",
   "execution_count": 12,
   "metadata": {},
   "outputs": [
    {
     "data": {
      "text/plain": [
       "activation                                          1.000000\n",
       "n_active_days_author_week_short                     0.217552\n",
       "n_different_subreddits_short                        0.209334\n",
       "n_different_active_authors_link_id_link_id_short    0.208146\n",
       "n_different_active_authors_id_parent_id_short       0.194203\n",
       "                                                      ...   \n",
       "norm_climate_action_long                           -0.070142\n",
       "sociodemo_rich                                     -0.077995\n",
       "avg_comments_per_thread_long                       -0.083940\n",
       "sociodemo_right                                    -0.128938\n",
       "duration                                           -0.711426\n",
       "Name: activation, Length: 74, dtype: float64"
      ]
     },
     "execution_count": 12,
     "metadata": {},
     "output_type": "execute_result"
    }
   ],
   "source": [
    "df_lr[all_non_subreddit_features].corr()[\"activation\"].sort_values(ascending = False)"
   ]
  },
  {
   "cell_type": "markdown",
   "metadata": {},
   "source": [
    "### Logistic regression - single experiment"
   ]
  },
  {
   "cell_type": "code",
   "execution_count": 13,
   "metadata": {},
   "outputs": [],
   "source": [
    "pca = PCA(n_components = 20)\n",
    "# get the z-score\n",
    "scaler = StandardScaler()\n",
    "logistic = LogisticRegression(max_iter=10000, tol=0.1)"
   ]
  },
  {
   "cell_type": "code",
   "execution_count": 14,
   "metadata": {},
   "outputs": [],
   "source": [
    "np.random.seed(11)\n",
    "msk = np.random.rand(len(df_lr)) < 0.75\n",
    "data_train = df_lr.drop(\"duration\", axis = 1)[msk]\n",
    "data_test = df_lr.drop(\"duration\", axis = 1)[~msk]"
   ]
  },
  {
   "cell_type": "code",
   "execution_count": 15,
   "metadata": {},
   "outputs": [],
   "source": [
    "X_train, y_train = data_train.drop(\"activation\", axis = 1), data_train[\"activation\"]\n",
    "X_test, y_test = data_test.drop(\"activation\", axis = 1), data_test[\"activation\"]"
   ]
  },
  {
   "cell_type": "code",
   "execution_count": 16,
   "metadata": {},
   "outputs": [],
   "source": [
    "scaler.fit(X_train)\n",
    "X_scale_train = scaler.transform(X_train)\n",
    "# X_scale_train = X_train\n",
    "# X_scale_train = scale_zscore(X_train)"
   ]
  },
  {
   "cell_type": "code",
   "execution_count": 17,
   "metadata": {},
   "outputs": [],
   "source": [
    "pca.fit(X_scale_train)\n",
    "X_pca_train = pca.transform(X_scale_train)"
   ]
  },
  {
   "cell_type": "code",
   "execution_count": 18,
   "metadata": {},
   "outputs": [
    {
     "data": {
      "text/plain": [
       "array([[ 5.89435543e-02,  1.92646292e-01,  7.72099814e-03,\n",
       "        -3.98240526e-02, -1.17494999e-01, -6.93373124e-02,\n",
       "         2.55403072e-02, -1.24307988e-01, -1.83943660e-02,\n",
       "        -8.19341065e-05,  6.28179481e-02, -1.69301304e-02,\n",
       "         4.90360506e-02, -5.54376195e-02, -1.03580154e-03,\n",
       "         3.51802514e-02, -1.61823832e-02,  5.63080857e-02,\n",
       "         1.13722562e-01, -6.51897033e-02]])"
      ]
     },
     "execution_count": 18,
     "metadata": {},
     "output_type": "execute_result"
    }
   ],
   "source": [
    "logistic.fit(X_pca_train, y_train)\n",
    "logistic.coef_"
   ]
  },
  {
   "cell_type": "code",
   "execution_count": 19,
   "metadata": {},
   "outputs": [],
   "source": [
    "X_scale_test = scaler.transform(X_test)\n",
    "# X_scale_test = scale_zscore(X_test)\n",
    "X_pca_test = pca.transform(X_scale_test)"
   ]
  },
  {
   "cell_type": "code",
   "execution_count": 20,
   "metadata": {},
   "outputs": [
    {
     "data": {
      "text/html": [
       "<div>\n",
       "<style scoped>\n",
       "    .dataframe tbody tr th:only-of-type {\n",
       "        vertical-align: middle;\n",
       "    }\n",
       "\n",
       "    .dataframe tbody tr th {\n",
       "        vertical-align: top;\n",
       "    }\n",
       "\n",
       "    .dataframe thead th {\n",
       "        text-align: right;\n",
       "    }\n",
       "</style>\n",
       "<table border=\"1\" class=\"dataframe\">\n",
       "  <thead>\n",
       "    <tr style=\"text-align: right;\">\n",
       "      <th>actual</th>\n",
       "      <th>0.0</th>\n",
       "      <th>1.0</th>\n",
       "    </tr>\n",
       "    <tr>\n",
       "      <th>predict</th>\n",
       "      <th></th>\n",
       "      <th></th>\n",
       "    </tr>\n",
       "  </thead>\n",
       "  <tbody>\n",
       "    <tr>\n",
       "      <th>0.0</th>\n",
       "      <td>781</td>\n",
       "      <td>404</td>\n",
       "    </tr>\n",
       "    <tr>\n",
       "      <th>1.0</th>\n",
       "      <td>199</td>\n",
       "      <td>645</td>\n",
       "    </tr>\n",
       "  </tbody>\n",
       "</table>\n",
       "</div>"
      ],
      "text/plain": [
       "actual   0.0  1.0\n",
       "predict          \n",
       "0.0      781  404\n",
       "1.0      199  645"
      ]
     },
     "execution_count": 20,
     "metadata": {},
     "output_type": "execute_result"
    }
   ],
   "source": [
    "cf = pd.DataFrame([logistic.predict(X_pca_test) + 0., y_test + 0.], index = [\"predict\", \"actual\"]).T.value_counts().unstack()\n",
    "cf"
   ]
  },
  {
   "cell_type": "code",
   "execution_count": 21,
   "metadata": {},
   "outputs": [
    {
     "data": {
      "text/plain": [
       "0.4829965500246427"
      ]
     },
     "execution_count": 21,
     "metadata": {},
     "output_type": "execute_result"
    }
   ],
   "source": [
    "1 - y_test.mean()"
   ]
  },
  {
   "cell_type": "code",
   "execution_count": 22,
   "metadata": {},
   "outputs": [
    {
     "data": {
      "text/plain": [
       "{'accuracy': 0.7028092656481025,\n",
       " 'precision': 0.764218009478673,\n",
       " 'recall': 0.6148713060057197,\n",
       " 'random_baseline': 0.5170034499753573}"
      ]
     },
     "execution_count": 22,
     "metadata": {},
     "output_type": "execute_result"
    }
   ],
   "source": [
    "cle.confusion_matrix_analysis(cf)"
   ]
  },
  {
   "cell_type": "code",
   "execution_count": 23,
   "metadata": {},
   "outputs": [],
   "source": [
    "original_coef = np.dot(logistic.coef_, pca.components_)[0]"
   ]
  },
  {
   "cell_type": "code",
   "execution_count": 24,
   "metadata": {},
   "outputs": [
    {
     "data": {
      "text/plain": [
       "n_different_active_authors_parent_id_id_short           0.042926\n",
       "n_different_active_authors_parent_id_id_medium          0.041014\n",
       "n_different_comments_with_active_parent_id_id_short     0.040252\n",
       "n_different_active_authors_id_parent_id_short           0.039995\n",
       "n_different_active_authors_id_parent_id_medium          0.038738\n",
       "n_different_comments_with_active_id_parent_id_medium    0.034993\n",
       "n_different_comments_with_active_parent_id_id_medium    0.034795\n",
       "n_different_comments_with_active_id_parent_id_short     0.033739\n",
       "rChapoTrapHouse_short                                   0.026700\n",
       "n_submissions_author_week_short                         0.026392\n",
       "dtype: float64"
      ]
     },
     "execution_count": 24,
     "metadata": {},
     "output_type": "execute_result"
    }
   ],
   "source": [
    "pd.Series(original_coef, index = X_train.columns).sort_values(ascending = False).head(10)"
   ]
  },
  {
   "cell_type": "markdown",
   "metadata": {},
   "source": [
    "### Logistic regression - Bootstrap sampling"
   ]
  },
  {
   "cell_type": "code",
   "execution_count": 25,
   "metadata": {},
   "outputs": [],
   "source": [
    "def pca_log_reg(df_lr, features = None, test = False):\n",
    "    pca = PCA(n_components = 8)\n",
    "    scaler = StandardScaler()\n",
    "    logistic = LogisticRegression(max_iter=10000, tol=0.1)\n",
    "    if test:\n",
    "        msk = np.random.rand(len(df_lr)) < 0.75\n",
    "        data_train = df_lr.drop(\"duration\", axis = 1)[msk]\n",
    "        data_test = df_lr.drop(\"duration\", axis = 1)[~msk]\n",
    "        X, y = data_train.drop(\"activation\", axis = 1), data_train[\"activation\"]\n",
    "        X_test, y_test = data_test.drop(\"activation\", axis = 1), data_test[\"activation\"]\n",
    "    else:\n",
    "        data_train = df_lr.drop(\"duration\", axis = 1)\n",
    "        X, y = data_train.drop(\"activation\", axis = 1), data_train[\"activation\"]\n",
    "    if features is not None:\n",
    "        X = X[features]\n",
    "        X_test = X_test[features]\n",
    "    scaler.fit(X)\n",
    "    X_scale = scaler.transform(X)\n",
    "    # X_scale = scale_zscore(X)\n",
    "    pca.fit(X_scale)\n",
    "    X_pca = pca.transform(X_scale)\n",
    "    logistic.fit(X_pca, y)\n",
    "    original_coef = np.dot(logistic.coef_, pca.components_)[0]\n",
    "    if test:\n",
    "        X_scale_test = scaler.transform(X_test)\n",
    "        X_pca_test = pca.transform(X_scale_test)\n",
    "        cf = pd.DataFrame([logistic.predict(X_pca_test) + 0., y_test + 0.], index = [\"predict\", \"actual\"]).T.value_counts().unstack()\n",
    "        return pd.Series(original_coef, index = X.columns), cf\n",
    "        \n",
    "    else:\n",
    "        return pd.Series(original_coef, index = X.columns)"
   ]
  },
  {
   "cell_type": "code",
   "execution_count": 26,
   "metadata": {},
   "outputs": [],
   "source": [
    "n_bootstraps = 1000\n",
    "coef_boot = pd.DataFrame([pca_log_reg(cle.get_bootstrap_df(df_lr, random_state = k*100)) for k in range(n_bootstraps)])"
   ]
  },
  {
   "cell_type": "code",
   "execution_count": 27,
   "metadata": {},
   "outputs": [],
   "source": [
    "coef_means = coef_boot.mean()\n",
    "coef_pvalues = [min(u, 1 - u) for u in (coef_boot > 0).sum() / n_bootstraps]"
   ]
  },
  {
   "cell_type": "code",
   "execution_count": 28,
   "metadata": {},
   "outputs": [],
   "source": [
    "coef_logreg = pd.DataFrame({\"coefficient\": coef_means, \"p\": coef_pvalues, \"exp_coefficient\": np.exp(coef_means)}).rename_axis(\"variable\")"
   ]
  },
  {
   "cell_type": "code",
   "execution_count": 29,
   "metadata": {},
   "outputs": [],
   "source": [
    "coef_logreg.to_csv(cu.data_path + \"experiments_logreg/lr_activism_1000boot_all_240611.csv\")"
   ]
  },
  {
   "cell_type": "code",
   "execution_count": 30,
   "metadata": {},
   "outputs": [
    {
     "data": {
      "text/html": [
       "<div>\n",
       "<style scoped>\n",
       "    .dataframe tbody tr th:only-of-type {\n",
       "        vertical-align: middle;\n",
       "    }\n",
       "\n",
       "    .dataframe tbody tr th {\n",
       "        vertical-align: top;\n",
       "    }\n",
       "\n",
       "    .dataframe thead th {\n",
       "        text-align: right;\n",
       "    }\n",
       "</style>\n",
       "<table border=\"1\" class=\"dataframe\">\n",
       "  <thead>\n",
       "    <tr style=\"text-align: right;\">\n",
       "      <th></th>\n",
       "      <th>coefficient</th>\n",
       "      <th>p</th>\n",
       "      <th>exp_coefficient</th>\n",
       "    </tr>\n",
       "    <tr>\n",
       "      <th>variable</th>\n",
       "      <th></th>\n",
       "      <th></th>\n",
       "      <th></th>\n",
       "    </tr>\n",
       "  </thead>\n",
       "  <tbody>\n",
       "    <tr>\n",
       "      <th>rnextfuckinglevel_long</th>\n",
       "      <td>-0.010460</td>\n",
       "      <td>0.0</td>\n",
       "      <td>0.989594</td>\n",
       "    </tr>\n",
       "    <tr>\n",
       "      <th>rTikTokCringe_long</th>\n",
       "      <td>-0.008657</td>\n",
       "      <td>0.0</td>\n",
       "      <td>0.991381</td>\n",
       "    </tr>\n",
       "    <tr>\n",
       "      <th>rHolUp_long</th>\n",
       "      <td>-0.008380</td>\n",
       "      <td>0.0</td>\n",
       "      <td>0.991655</td>\n",
       "    </tr>\n",
       "    <tr>\n",
       "      <th>rIdiotsInCars_long</th>\n",
       "      <td>-0.008253</td>\n",
       "      <td>0.0</td>\n",
       "      <td>0.991781</td>\n",
       "    </tr>\n",
       "    <tr>\n",
       "      <th>rThatsInsane_long</th>\n",
       "      <td>-0.008227</td>\n",
       "      <td>0.0</td>\n",
       "      <td>0.991807</td>\n",
       "    </tr>\n",
       "    <tr>\n",
       "      <th>...</th>\n",
       "      <td>...</td>\n",
       "      <td>...</td>\n",
       "      <td>...</td>\n",
       "    </tr>\n",
       "    <tr>\n",
       "      <th>n_comments_author_week_short</th>\n",
       "      <td>0.023740</td>\n",
       "      <td>0.0</td>\n",
       "      <td>1.024024</td>\n",
       "    </tr>\n",
       "    <tr>\n",
       "      <th>n_different_active_authors_parent_id_id_short</th>\n",
       "      <td>0.024266</td>\n",
       "      <td>0.0</td>\n",
       "      <td>1.024563</td>\n",
       "    </tr>\n",
       "    <tr>\n",
       "      <th>n_different_subreddits_short</th>\n",
       "      <td>0.024412</td>\n",
       "      <td>0.0</td>\n",
       "      <td>1.024713</td>\n",
       "    </tr>\n",
       "    <tr>\n",
       "      <th>n_different_active_authors_id_parent_id_short</th>\n",
       "      <td>0.025444</td>\n",
       "      <td>0.0</td>\n",
       "      <td>1.025770</td>\n",
       "    </tr>\n",
       "    <tr>\n",
       "      <th>n_different_active_authors_id_parent_id_medium</th>\n",
       "      <td>0.026206</td>\n",
       "      <td>0.0</td>\n",
       "      <td>1.026553</td>\n",
       "    </tr>\n",
       "  </tbody>\n",
       "</table>\n",
       "<p>1577 rows × 3 columns</p>\n",
       "</div>"
      ],
      "text/plain": [
       "                                                coefficient    p  \\\n",
       "variable                                                           \n",
       "rnextfuckinglevel_long                            -0.010460  0.0   \n",
       "rTikTokCringe_long                                -0.008657  0.0   \n",
       "rHolUp_long                                       -0.008380  0.0   \n",
       "rIdiotsInCars_long                                -0.008253  0.0   \n",
       "rThatsInsane_long                                 -0.008227  0.0   \n",
       "...                                                     ...  ...   \n",
       "n_comments_author_week_short                       0.023740  0.0   \n",
       "n_different_active_authors_parent_id_id_short      0.024266  0.0   \n",
       "n_different_subreddits_short                       0.024412  0.0   \n",
       "n_different_active_authors_id_parent_id_short      0.025444  0.0   \n",
       "n_different_active_authors_id_parent_id_medium     0.026206  0.0   \n",
       "\n",
       "                                                exp_coefficient  \n",
       "variable                                                         \n",
       "rnextfuckinglevel_long                                 0.989594  \n",
       "rTikTokCringe_long                                     0.991381  \n",
       "rHolUp_long                                            0.991655  \n",
       "rIdiotsInCars_long                                     0.991781  \n",
       "rThatsInsane_long                                      0.991807  \n",
       "...                                                         ...  \n",
       "n_comments_author_week_short                           1.024024  \n",
       "n_different_active_authors_parent_id_id_short          1.024563  \n",
       "n_different_subreddits_short                           1.024713  \n",
       "n_different_active_authors_id_parent_id_short          1.025770  \n",
       "n_different_active_authors_id_parent_id_medium         1.026553  \n",
       "\n",
       "[1577 rows x 3 columns]"
      ]
     },
     "execution_count": 30,
     "metadata": {},
     "output_type": "execute_result"
    }
   ],
   "source": [
    "coef_logreg.query(\"p < 0.05\").sort_values(\"coefficient\")"
   ]
  },
  {
   "cell_type": "markdown",
   "metadata": {},
   "source": [
    "### Log Odds analysis"
   ]
  },
  {
   "cell_type": "code",
   "execution_count": 31,
   "metadata": {},
   "outputs": [],
   "source": [
    "# age \"young - old\"\n",
    "# gender \"male - female\"\n",
    "# partisan \"left - right\"\n",
    "# affluence \"poor - rich\""
   ]
  },
  {
   "cell_type": "code",
   "execution_count": 32,
   "metadata": {},
   "outputs": [
    {
     "data": {
      "text/html": [
       "<div>\n",
       "<style scoped>\n",
       "    .dataframe tbody tr th:only-of-type {\n",
       "        vertical-align: middle;\n",
       "    }\n",
       "\n",
       "    .dataframe tbody tr th {\n",
       "        vertical-align: top;\n",
       "    }\n",
       "\n",
       "    .dataframe thead th {\n",
       "        text-align: right;\n",
       "    }\n",
       "</style>\n",
       "<table border=\"1\" class=\"dataframe\">\n",
       "  <thead>\n",
       "    <tr style=\"text-align: right;\">\n",
       "      <th></th>\n",
       "      <th>coefficient</th>\n",
       "      <th>p</th>\n",
       "      <th>exp_coefficient</th>\n",
       "    </tr>\n",
       "    <tr>\n",
       "      <th>variable</th>\n",
       "      <th></th>\n",
       "      <th></th>\n",
       "      <th></th>\n",
       "    </tr>\n",
       "  </thead>\n",
       "  <tbody>\n",
       "  </tbody>\n",
       "</table>\n",
       "</div>"
      ],
      "text/plain": [
       "Empty DataFrame\n",
       "Columns: [coefficient, p, exp_coefficient]\n",
       "Index: []"
      ]
     },
     "execution_count": 32,
     "metadata": {},
     "output_type": "execute_result"
    }
   ],
   "source": [
    "# left, poor, old, female are predicted as positive predictors\n",
    "# note that among the negative predictor subreddits, some have very young scores (teenagers, RoastMe, dankmemes, AskOuija, greentext, PewdiepieSubmissions)\n",
    "# on the other hand, collapse, worldnews and chomsky have old scores\n",
    "coef_logreg.loc[[\"quartile\" in u for u in coef_logreg.reset_index()[\"variable\"]], :]"
   ]
  },
  {
   "cell_type": "code",
   "execution_count": 33,
   "metadata": {},
   "outputs": [
    {
     "data": {
      "text/html": [
       "<div>\n",
       "<style scoped>\n",
       "    .dataframe tbody tr th:only-of-type {\n",
       "        vertical-align: middle;\n",
       "    }\n",
       "\n",
       "    .dataframe tbody tr th {\n",
       "        vertical-align: top;\n",
       "    }\n",
       "\n",
       "    .dataframe thead th {\n",
       "        text-align: right;\n",
       "    }\n",
       "</style>\n",
       "<table border=\"1\" class=\"dataframe\">\n",
       "  <thead>\n",
       "    <tr style=\"text-align: right;\">\n",
       "      <th></th>\n",
       "      <th>coefficient</th>\n",
       "      <th>p</th>\n",
       "      <th>exp_coefficient</th>\n",
       "    </tr>\n",
       "    <tr>\n",
       "      <th>variable</th>\n",
       "      <th></th>\n",
       "      <th></th>\n",
       "      <th></th>\n",
       "    </tr>\n",
       "  </thead>\n",
       "  <tbody>\n",
       "    <tr>\n",
       "      <th>norm_climate_action_short_long_ratio</th>\n",
       "      <td>0.005586</td>\n",
       "      <td>0.000</td>\n",
       "      <td>1.005601</td>\n",
       "    </tr>\n",
       "    <tr>\n",
       "      <th>norm_natural_disaster_long</th>\n",
       "      <td>0.005371</td>\n",
       "      <td>0.000</td>\n",
       "      <td>1.005385</td>\n",
       "    </tr>\n",
       "    <tr>\n",
       "      <th>norm_climate_short_long_ratio</th>\n",
       "      <td>0.002694</td>\n",
       "      <td>0.004</td>\n",
       "      <td>1.002698</td>\n",
       "    </tr>\n",
       "    <tr>\n",
       "      <th>norm_climate_medium</th>\n",
       "      <td>0.001963</td>\n",
       "      <td>0.048</td>\n",
       "      <td>1.001965</td>\n",
       "    </tr>\n",
       "    <tr>\n",
       "      <th>norm_climate_short</th>\n",
       "      <td>0.001651</td>\n",
       "      <td>0.054</td>\n",
       "      <td>1.001652</td>\n",
       "    </tr>\n",
       "    <tr>\n",
       "      <th>norm_natural_disaster_short</th>\n",
       "      <td>0.001577</td>\n",
       "      <td>0.026</td>\n",
       "      <td>1.001578</td>\n",
       "    </tr>\n",
       "    <tr>\n",
       "      <th>norm_natural_disaster_medium</th>\n",
       "      <td>0.001417</td>\n",
       "      <td>0.075</td>\n",
       "      <td>1.001418</td>\n",
       "    </tr>\n",
       "    <tr>\n",
       "      <th>norm_climate_action_short</th>\n",
       "      <td>0.000629</td>\n",
       "      <td>0.281</td>\n",
       "      <td>1.000629</td>\n",
       "    </tr>\n",
       "    <tr>\n",
       "      <th>norm_natural_disaster_short_long_ratio</th>\n",
       "      <td>-0.000230</td>\n",
       "      <td>0.375</td>\n",
       "      <td>0.999770</td>\n",
       "    </tr>\n",
       "    <tr>\n",
       "      <th>norm_climate_action_medium</th>\n",
       "      <td>-0.000348</td>\n",
       "      <td>0.368</td>\n",
       "      <td>0.999652</td>\n",
       "    </tr>\n",
       "    <tr>\n",
       "      <th>norm_climate_long</th>\n",
       "      <td>-0.001879</td>\n",
       "      <td>0.024</td>\n",
       "      <td>0.998123</td>\n",
       "    </tr>\n",
       "    <tr>\n",
       "      <th>norm_climate_action_long</th>\n",
       "      <td>-0.006844</td>\n",
       "      <td>0.000</td>\n",
       "      <td>0.993179</td>\n",
       "    </tr>\n",
       "  </tbody>\n",
       "</table>\n",
       "</div>"
      ],
      "text/plain": [
       "                                        coefficient      p  exp_coefficient\n",
       "variable                                                                   \n",
       "norm_climate_action_short_long_ratio       0.005586  0.000         1.005601\n",
       "norm_natural_disaster_long                 0.005371  0.000         1.005385\n",
       "norm_climate_short_long_ratio              0.002694  0.004         1.002698\n",
       "norm_climate_medium                        0.001963  0.048         1.001965\n",
       "norm_climate_short                         0.001651  0.054         1.001652\n",
       "norm_natural_disaster_short                0.001577  0.026         1.001578\n",
       "norm_natural_disaster_medium               0.001417  0.075         1.001418\n",
       "norm_climate_action_short                  0.000629  0.281         1.000629\n",
       "norm_natural_disaster_short_long_ratio    -0.000230  0.375         0.999770\n",
       "norm_climate_action_medium                -0.000348  0.368         0.999652\n",
       "norm_climate_long                         -0.001879  0.024         0.998123\n",
       "norm_climate_action_long                  -0.006844  0.000         0.993179"
      ]
     },
     "execution_count": 33,
     "metadata": {},
     "output_type": "execute_result"
    }
   ],
   "source": [
    "coef_logreg.loc[[\"norm\" in u for u in coef_logreg.reset_index()[\"variable\"]], :].sort_values(\"coefficient\", ascending = False)"
   ]
  },
  {
   "cell_type": "code",
   "execution_count": null,
   "metadata": {},
   "outputs": [
    {
     "data": {
      "text/html": [
       "<div>\n",
       "<style scoped>\n",
       "    .dataframe tbody tr th:only-of-type {\n",
       "        vertical-align: middle;\n",
       "    }\n",
       "\n",
       "    .dataframe tbody tr th {\n",
       "        vertical-align: top;\n",
       "    }\n",
       "\n",
       "    .dataframe thead th {\n",
       "        text-align: right;\n",
       "    }\n",
       "</style>\n",
       "<table border=\"1\" class=\"dataframe\">\n",
       "  <thead>\n",
       "    <tr style=\"text-align: right;\">\n",
       "      <th></th>\n",
       "      <th>coefficient</th>\n",
       "      <th>p</th>\n",
       "      <th>exp_coefficient</th>\n",
       "    </tr>\n",
       "    <tr>\n",
       "      <th>variable</th>\n",
       "      <th></th>\n",
       "      <th></th>\n",
       "      <th></th>\n",
       "    </tr>\n",
       "  </thead>\n",
       "  <tbody>\n",
       "    <tr>\n",
       "      <th>n_different_parent_id_with_active_short</th>\n",
       "      <td>0.022630</td>\n",
       "      <td>0.000</td>\n",
       "      <td>1.022888</td>\n",
       "    </tr>\n",
       "    <tr>\n",
       "      <th>n_different_parent_id_with_active_medium</th>\n",
       "      <td>0.020193</td>\n",
       "      <td>0.000</td>\n",
       "      <td>1.020398</td>\n",
       "    </tr>\n",
       "    <tr>\n",
       "      <th>n_different_parent_id_with_active_short_long_ratio</th>\n",
       "      <td>0.013108</td>\n",
       "      <td>0.000</td>\n",
       "      <td>1.013195</td>\n",
       "    </tr>\n",
       "    <tr>\n",
       "      <th>n_different_active_authors_short</th>\n",
       "      <td>0.012840</td>\n",
       "      <td>0.000</td>\n",
       "      <td>1.012923</td>\n",
       "    </tr>\n",
       "    <tr>\n",
       "      <th>n_different_comments_with_active_short</th>\n",
       "      <td>0.010315</td>\n",
       "      <td>0.000</td>\n",
       "      <td>1.010368</td>\n",
       "    </tr>\n",
       "    <tr>\n",
       "      <th>n_different_active_authors_medium</th>\n",
       "      <td>0.010187</td>\n",
       "      <td>0.000</td>\n",
       "      <td>1.010239</td>\n",
       "    </tr>\n",
       "    <tr>\n",
       "      <th>n_different_active_authors_short_long_ratio</th>\n",
       "      <td>0.008859</td>\n",
       "      <td>0.000</td>\n",
       "      <td>1.008899</td>\n",
       "    </tr>\n",
       "    <tr>\n",
       "      <th>n_different_comments_with_active_short_long_ratio</th>\n",
       "      <td>0.008155</td>\n",
       "      <td>0.000</td>\n",
       "      <td>1.008189</td>\n",
       "    </tr>\n",
       "    <tr>\n",
       "      <th>n_different_parent_id_with_active_long</th>\n",
       "      <td>0.008069</td>\n",
       "      <td>0.000</td>\n",
       "      <td>1.008102</td>\n",
       "    </tr>\n",
       "    <tr>\n",
       "      <th>n_different_comments_with_active_medium</th>\n",
       "      <td>0.004186</td>\n",
       "      <td>0.002</td>\n",
       "      <td>1.004195</td>\n",
       "    </tr>\n",
       "    <tr>\n",
       "      <th>n_different_comments_with_active_long</th>\n",
       "      <td>-0.000460</td>\n",
       "      <td>0.272</td>\n",
       "      <td>0.999540</td>\n",
       "    </tr>\n",
       "    <tr>\n",
       "      <th>n_different_active_authors_long</th>\n",
       "      <td>-0.000778</td>\n",
       "      <td>0.345</td>\n",
       "      <td>0.999223</td>\n",
       "    </tr>\n",
       "  </tbody>\n",
       "</table>\n",
       "</div>"
      ],
      "text/plain": [
       "                                                    coefficient      p  \\\n",
       "variable                                                                 \n",
       "n_different_parent_id_with_active_short                0.022630  0.000   \n",
       "n_different_parent_id_with_active_medium               0.020193  0.000   \n",
       "n_different_parent_id_with_active_short_long_ratio     0.013108  0.000   \n",
       "n_different_active_authors_short                       0.012840  0.000   \n",
       "n_different_comments_with_active_short                 0.010315  0.000   \n",
       "n_different_active_authors_medium                      0.010187  0.000   \n",
       "n_different_active_authors_short_long_ratio            0.008859  0.000   \n",
       "n_different_comments_with_active_short_long_ratio      0.008155  0.000   \n",
       "n_different_parent_id_with_active_long                 0.008069  0.000   \n",
       "n_different_comments_with_active_medium                0.004186  0.002   \n",
       "n_different_comments_with_active_long                 -0.000460  0.272   \n",
       "n_different_active_authors_long                       -0.000778  0.345   \n",
       "\n",
       "                                                    exp_coefficient  \n",
       "variable                                                             \n",
       "n_different_parent_id_with_active_short                    1.022888  \n",
       "n_different_parent_id_with_active_medium                   1.020398  \n",
       "n_different_parent_id_with_active_short_long_ratio         1.013195  \n",
       "n_different_active_authors_short                           1.012923  \n",
       "n_different_comments_with_active_short                     1.010368  \n",
       "n_different_active_authors_medium                          1.010239  \n",
       "n_different_active_authors_short_long_ratio                1.008899  \n",
       "n_different_comments_with_active_short_long_ratio          1.008189  \n",
       "n_different_parent_id_with_active_long                     1.008102  \n",
       "n_different_comments_with_active_medium                    1.004195  \n",
       "n_different_comments_with_active_long                      0.999540  \n",
       "n_different_active_authors_long                            0.999223  "
      ]
     },
     "execution_count": 40,
     "metadata": {},
     "output_type": "execute_result"
    }
   ],
   "source": [
    "# interaction variables\n",
    "coef_logreg.loc[[u in [u + v for u in ft.features[\"interaction\"] for v in [\"_short\", \"_medium\", \"_long\", \"_short_long_ratio\"]]\n",
    "                  for u in coef_logreg.reset_index()[\"variable\"]], :].sort_values(\"coefficient\", ascending = False)"
   ]
  },
  {
   "cell_type": "code",
   "execution_count": null,
   "metadata": {},
   "outputs": [
    {
     "data": {
      "text/html": [
       "<div>\n",
       "<style scoped>\n",
       "    .dataframe tbody tr th:only-of-type {\n",
       "        vertical-align: middle;\n",
       "    }\n",
       "\n",
       "    .dataframe tbody tr th {\n",
       "        vertical-align: top;\n",
       "    }\n",
       "\n",
       "    .dataframe thead th {\n",
       "        text-align: right;\n",
       "    }\n",
       "</style>\n",
       "<table border=\"1\" class=\"dataframe\">\n",
       "  <thead>\n",
       "    <tr style=\"text-align: right;\">\n",
       "      <th></th>\n",
       "      <th>coefficient</th>\n",
       "      <th>p</th>\n",
       "      <th>exp_coefficient</th>\n",
       "    </tr>\n",
       "    <tr>\n",
       "      <th>variable</th>\n",
       "      <th></th>\n",
       "      <th></th>\n",
       "      <th></th>\n",
       "    </tr>\n",
       "  </thead>\n",
       "  <tbody>\n",
       "    <tr>\n",
       "      <th>rCOMPLETEANARCHY_medium</th>\n",
       "      <td>0.028056</td>\n",
       "      <td>0.0</td>\n",
       "      <td>1.028453</td>\n",
       "    </tr>\n",
       "    <tr>\n",
       "      <th>rCOMPLETEANARCHY_long</th>\n",
       "      <td>0.027891</td>\n",
       "      <td>0.0</td>\n",
       "      <td>1.028284</td>\n",
       "    </tr>\n",
       "    <tr>\n",
       "      <th>rChapoTrapHouse_long</th>\n",
       "      <td>0.026853</td>\n",
       "      <td>0.0</td>\n",
       "      <td>1.027217</td>\n",
       "    </tr>\n",
       "    <tr>\n",
       "      <th>rChapoTrapHouse_medium</th>\n",
       "      <td>0.025926</td>\n",
       "      <td>0.0</td>\n",
       "      <td>1.026265</td>\n",
       "    </tr>\n",
       "    <tr>\n",
       "      <th>rAnarchism_long</th>\n",
       "      <td>0.025697</td>\n",
       "      <td>0.0</td>\n",
       "      <td>1.026030</td>\n",
       "    </tr>\n",
       "    <tr>\n",
       "      <th>rsocialism_long</th>\n",
       "      <td>0.025138</td>\n",
       "      <td>0.0</td>\n",
       "      <td>1.025457</td>\n",
       "    </tr>\n",
       "    <tr>\n",
       "      <th>rChapoTrapHouse_short</th>\n",
       "      <td>0.024346</td>\n",
       "      <td>0.0</td>\n",
       "      <td>1.024645</td>\n",
       "    </tr>\n",
       "    <tr>\n",
       "      <th>rCOMPLETEANARCHY_short</th>\n",
       "      <td>0.023440</td>\n",
       "      <td>0.0</td>\n",
       "      <td>1.023717</td>\n",
       "    </tr>\n",
       "    <tr>\n",
       "      <th>rAnarchism_medium</th>\n",
       "      <td>0.023051</td>\n",
       "      <td>0.0</td>\n",
       "      <td>1.023319</td>\n",
       "    </tr>\n",
       "    <tr>\n",
       "      <th>rBreadTube_long</th>\n",
       "      <td>0.022646</td>\n",
       "      <td>0.0</td>\n",
       "      <td>1.022905</td>\n",
       "    </tr>\n",
       "    <tr>\n",
       "      <th>rENLIGHTENEDCENTRISM_medium</th>\n",
       "      <td>0.022258</td>\n",
       "      <td>0.0</td>\n",
       "      <td>1.022507</td>\n",
       "    </tr>\n",
       "    <tr>\n",
       "      <th>rLateStageCapitalism_long</th>\n",
       "      <td>0.022045</td>\n",
       "      <td>0.0</td>\n",
       "      <td>1.022289</td>\n",
       "    </tr>\n",
       "    <tr>\n",
       "      <th>rShitLiberalsSay_long</th>\n",
       "      <td>0.021921</td>\n",
       "      <td>0.0</td>\n",
       "      <td>1.022164</td>\n",
       "    </tr>\n",
       "    <tr>\n",
       "      <th>rsocialism_medium</th>\n",
       "      <td>0.021594</td>\n",
       "      <td>0.0</td>\n",
       "      <td>1.021829</td>\n",
       "    </tr>\n",
       "    <tr>\n",
       "      <th>rLateStageCapitalism_medium</th>\n",
       "      <td>0.021450</td>\n",
       "      <td>0.0</td>\n",
       "      <td>1.021682</td>\n",
       "    </tr>\n",
       "    <tr>\n",
       "      <th>rAntifascistsofReddit_long</th>\n",
       "      <td>0.020361</td>\n",
       "      <td>0.0</td>\n",
       "      <td>1.020570</td>\n",
       "    </tr>\n",
       "    <tr>\n",
       "      <th>rAnarchy101_long</th>\n",
       "      <td>0.020276</td>\n",
       "      <td>0.0</td>\n",
       "      <td>1.020483</td>\n",
       "    </tr>\n",
       "    <tr>\n",
       "      <th>rBreadTube_medium</th>\n",
       "      <td>0.020124</td>\n",
       "      <td>0.0</td>\n",
       "      <td>1.020328</td>\n",
       "    </tr>\n",
       "    <tr>\n",
       "      <th>rShitLiberalsSay_medium</th>\n",
       "      <td>0.019885</td>\n",
       "      <td>0.0</td>\n",
       "      <td>1.020084</td>\n",
       "    </tr>\n",
       "    <tr>\n",
       "      <th>rAntifascistsofReddit_medium</th>\n",
       "      <td>0.019435</td>\n",
       "      <td>0.0</td>\n",
       "      <td>1.019626</td>\n",
       "    </tr>\n",
       "  </tbody>\n",
       "</table>\n",
       "</div>"
      ],
      "text/plain": [
       "                              coefficient    p  exp_coefficient\n",
       "variable                                                       \n",
       "rCOMPLETEANARCHY_medium          0.028056  0.0         1.028453\n",
       "rCOMPLETEANARCHY_long            0.027891  0.0         1.028284\n",
       "rChapoTrapHouse_long             0.026853  0.0         1.027217\n",
       "rChapoTrapHouse_medium           0.025926  0.0         1.026265\n",
       "rAnarchism_long                  0.025697  0.0         1.026030\n",
       "rsocialism_long                  0.025138  0.0         1.025457\n",
       "rChapoTrapHouse_short            0.024346  0.0         1.024645\n",
       "rCOMPLETEANARCHY_short           0.023440  0.0         1.023717\n",
       "rAnarchism_medium                0.023051  0.0         1.023319\n",
       "rBreadTube_long                  0.022646  0.0         1.022905\n",
       "rENLIGHTENEDCENTRISM_medium      0.022258  0.0         1.022507\n",
       "rLateStageCapitalism_long        0.022045  0.0         1.022289\n",
       "rShitLiberalsSay_long            0.021921  0.0         1.022164\n",
       "rsocialism_medium                0.021594  0.0         1.021829\n",
       "rLateStageCapitalism_medium      0.021450  0.0         1.021682\n",
       "rAntifascistsofReddit_long       0.020361  0.0         1.020570\n",
       "rAnarchy101_long                 0.020276  0.0         1.020483\n",
       "rBreadTube_medium                0.020124  0.0         1.020328\n",
       "rShitLiberalsSay_medium          0.019885  0.0         1.020084\n",
       "rAntifascistsofReddit_medium     0.019435  0.0         1.019626"
      ]
     },
     "execution_count": 41,
     "metadata": {},
     "output_type": "execute_result"
    }
   ],
   "source": [
    "# positive subreddits\n",
    "coef_logreg.loc[[u[0] == \"r\" for u in coef_logreg.reset_index()[\"variable\"]], :].sort_values(\"coefficient\", ascending = False).head(20)"
   ]
  },
  {
   "cell_type": "code",
   "execution_count": null,
   "metadata": {},
   "outputs": [
    {
     "data": {
      "text/html": [
       "<div>\n",
       "<style scoped>\n",
       "    .dataframe tbody tr th:only-of-type {\n",
       "        vertical-align: middle;\n",
       "    }\n",
       "\n",
       "    .dataframe tbody tr th {\n",
       "        vertical-align: top;\n",
       "    }\n",
       "\n",
       "    .dataframe thead th {\n",
       "        text-align: right;\n",
       "    }\n",
       "</style>\n",
       "<table border=\"1\" class=\"dataframe\">\n",
       "  <thead>\n",
       "    <tr style=\"text-align: right;\">\n",
       "      <th></th>\n",
       "      <th>coefficient</th>\n",
       "      <th>p</th>\n",
       "      <th>exp_coefficient</th>\n",
       "    </tr>\n",
       "    <tr>\n",
       "      <th>variable</th>\n",
       "      <th></th>\n",
       "      <th></th>\n",
       "      <th></th>\n",
       "    </tr>\n",
       "  </thead>\n",
       "  <tbody>\n",
       "    <tr>\n",
       "      <th>rpcmasterrace_long</th>\n",
       "      <td>-0.012970</td>\n",
       "      <td>0.0</td>\n",
       "      <td>0.987113</td>\n",
       "    </tr>\n",
       "    <tr>\n",
       "      <th>rgaming_long</th>\n",
       "      <td>-0.012400</td>\n",
       "      <td>0.0</td>\n",
       "      <td>0.987677</td>\n",
       "    </tr>\n",
       "    <tr>\n",
       "      <th>rxboxone_long</th>\n",
       "      <td>-0.010453</td>\n",
       "      <td>0.0</td>\n",
       "      <td>0.989601</td>\n",
       "    </tr>\n",
       "    <tr>\n",
       "      <th>rapexlegends_long</th>\n",
       "      <td>-0.010154</td>\n",
       "      <td>0.0</td>\n",
       "      <td>0.989897</td>\n",
       "    </tr>\n",
       "    <tr>\n",
       "      <th>rnextfuckinglevel_long</th>\n",
       "      <td>-0.009989</td>\n",
       "      <td>0.0</td>\n",
       "      <td>0.990060</td>\n",
       "    </tr>\n",
       "    <tr>\n",
       "      <th>rUnexpected_long</th>\n",
       "      <td>-0.009464</td>\n",
       "      <td>0.0</td>\n",
       "      <td>0.990581</td>\n",
       "    </tr>\n",
       "    <tr>\n",
       "      <th>rnevertellmetheodds_long</th>\n",
       "      <td>-0.009313</td>\n",
       "      <td>0.0</td>\n",
       "      <td>0.990730</td>\n",
       "    </tr>\n",
       "    <tr>\n",
       "      <th>rWhatcouldgowrong_long</th>\n",
       "      <td>-0.009085</td>\n",
       "      <td>0.0</td>\n",
       "      <td>0.990956</td>\n",
       "    </tr>\n",
       "    <tr>\n",
       "      <th>rPS4_long</th>\n",
       "      <td>-0.008829</td>\n",
       "      <td>0.0</td>\n",
       "      <td>0.991210</td>\n",
       "    </tr>\n",
       "    <tr>\n",
       "      <th>rRoastMe_long</th>\n",
       "      <td>-0.008748</td>\n",
       "      <td>0.0</td>\n",
       "      <td>0.991291</td>\n",
       "    </tr>\n",
       "    <tr>\n",
       "      <th>rNintendoSwitch_long</th>\n",
       "      <td>-0.008733</td>\n",
       "      <td>0.0</td>\n",
       "      <td>0.991305</td>\n",
       "    </tr>\n",
       "    <tr>\n",
       "      <th>rfunny_long</th>\n",
       "      <td>-0.008382</td>\n",
       "      <td>0.0</td>\n",
       "      <td>0.991653</td>\n",
       "    </tr>\n",
       "    <tr>\n",
       "      <th>rnatureismetal_long</th>\n",
       "      <td>-0.008374</td>\n",
       "      <td>0.0</td>\n",
       "      <td>0.991661</td>\n",
       "    </tr>\n",
       "    <tr>\n",
       "      <th>rHolUp_long</th>\n",
       "      <td>-0.008302</td>\n",
       "      <td>0.0</td>\n",
       "      <td>0.991732</td>\n",
       "    </tr>\n",
       "    <tr>\n",
       "      <th>rTikTokCringe_long</th>\n",
       "      <td>-0.008283</td>\n",
       "      <td>0.0</td>\n",
       "      <td>0.991752</td>\n",
       "    </tr>\n",
       "    <tr>\n",
       "      <th>rIdiotsInCars_long</th>\n",
       "      <td>-0.008183</td>\n",
       "      <td>0.0</td>\n",
       "      <td>0.991850</td>\n",
       "    </tr>\n",
       "    <tr>\n",
       "      <th>rCringetopia_long</th>\n",
       "      <td>-0.008169</td>\n",
       "      <td>0.0</td>\n",
       "      <td>0.991864</td>\n",
       "    </tr>\n",
       "    <tr>\n",
       "      <th>rAbruptChaos_long</th>\n",
       "      <td>-0.008113</td>\n",
       "      <td>0.0</td>\n",
       "      <td>0.991920</td>\n",
       "    </tr>\n",
       "    <tr>\n",
       "      <th>rmeme_long</th>\n",
       "      <td>-0.007695</td>\n",
       "      <td>0.0</td>\n",
       "      <td>0.992335</td>\n",
       "    </tr>\n",
       "    <tr>\n",
       "      <th>rDamnthatsinteresting_long</th>\n",
       "      <td>-0.007666</td>\n",
       "      <td>0.0</td>\n",
       "      <td>0.992364</td>\n",
       "    </tr>\n",
       "  </tbody>\n",
       "</table>\n",
       "</div>"
      ],
      "text/plain": [
       "                            coefficient    p  exp_coefficient\n",
       "variable                                                     \n",
       "rpcmasterrace_long            -0.012970  0.0         0.987113\n",
       "rgaming_long                  -0.012400  0.0         0.987677\n",
       "rxboxone_long                 -0.010453  0.0         0.989601\n",
       "rapexlegends_long             -0.010154  0.0         0.989897\n",
       "rnextfuckinglevel_long        -0.009989  0.0         0.990060\n",
       "rUnexpected_long              -0.009464  0.0         0.990581\n",
       "rnevertellmetheodds_long      -0.009313  0.0         0.990730\n",
       "rWhatcouldgowrong_long        -0.009085  0.0         0.990956\n",
       "rPS4_long                     -0.008829  0.0         0.991210\n",
       "rRoastMe_long                 -0.008748  0.0         0.991291\n",
       "rNintendoSwitch_long          -0.008733  0.0         0.991305\n",
       "rfunny_long                   -0.008382  0.0         0.991653\n",
       "rnatureismetal_long           -0.008374  0.0         0.991661\n",
       "rHolUp_long                   -0.008302  0.0         0.991732\n",
       "rTikTokCringe_long            -0.008283  0.0         0.991752\n",
       "rIdiotsInCars_long            -0.008183  0.0         0.991850\n",
       "rCringetopia_long             -0.008169  0.0         0.991864\n",
       "rAbruptChaos_long             -0.008113  0.0         0.991920\n",
       "rmeme_long                    -0.007695  0.0         0.992335\n",
       "rDamnthatsinteresting_long    -0.007666  0.0         0.992364"
      ]
     },
     "execution_count": 42,
     "metadata": {},
     "output_type": "execute_result"
    }
   ],
   "source": [
    "# negative subreddits\n",
    "coef_logreg.loc[[u[0] == \"r\" for u in coef_logreg.reset_index()[\"variable\"]], :].sort_values(\"coefficient\", ascending = True).head(20)"
   ]
  },
  {
   "cell_type": "markdown",
   "metadata": {},
   "source": [
    "### Different features"
   ]
  },
  {
   "cell_type": "code",
   "execution_count": null,
   "metadata": {},
   "outputs": [],
   "source": [
    "activity_and_news_features = [\"_\".join([u,p]) for u in ft.features[\"control\"] + ft.features[\"interaction\"] + ft.features[\"norm_news\"] for p in [\"week\", \"month\", \"year\", \"week_year_ratio\"]]\n",
    "activity_news_lr = pca_log_reg(df_lr, features = activity_and_news_features, test = True)"
   ]
  },
  {
   "cell_type": "code",
   "execution_count": null,
   "metadata": {},
   "outputs": [
    {
     "data": {
      "text/plain": [
       "n_different_subreddits_week_year_ratio               0.162181\n",
       "n_active_days_author_week_week_year_ratio            0.137993\n",
       "n_comments_author_week_week_year_ratio               0.132887\n",
       "n_comments_author_week_week                          0.119238\n",
       "n_different_parent_id_with_active_week_year_ratio    0.116453\n",
       "n_different_comments_with_active_week_year_ratio     0.115519\n",
       "n_different_active_authors_week_year_ratio           0.114413\n",
       "n_different_subreddits_week                          0.098771\n",
       "n_different_parent_id_with_active_week               0.088029\n",
       "n_comments_author_week_month                         0.071273\n",
       "n_different_subreddits_month                         0.060162\n",
       "n_different_active_authors_week                      0.056658\n",
       "n_active_days_author_week_week                       0.055213\n",
       "avg_comments_per_thread_week_year_ratio              0.053368\n",
       "n_different_parent_id_with_active_month              0.041450\n",
       "norm_climate_month                                   0.023368\n",
       "n_different_comments_with_active_week                0.022301\n",
       "norm_climate_action_week_year_ratio                  0.019928\n",
       "norm_climate_week                                    0.019874\n",
       "norm_climate_action_month                            0.018871\n",
       "norm_climate_action_week                             0.018758\n",
       "norm_climate_week_year_ratio                         0.018594\n",
       "norm_natural_disaster_year                           0.016696\n",
       "n_different_active_authors_month                     0.014324\n",
       "norm_natural_disaster_month                          0.014038\n",
       "n_comments_author_week_year                          0.009338\n",
       "norm_natural_disaster_week                           0.009271\n",
       "avg_comments_per_thread_week                         0.008312\n",
       "norm_climate_year                                    0.004943\n",
       "n_active_days_author_week_month                      0.004787\n",
       "norm_natural_disaster_week_year_ratio                0.002153\n",
       "n_different_subreddits_year                          0.000295\n",
       "norm_climate_action_year                            -0.000999\n",
       "n_different_parent_id_with_active_year              -0.015791\n",
       "n_different_comments_with_active_month              -0.018870\n",
       "n_different_active_authors_year                     -0.038105\n",
       "n_different_comments_with_active_year               -0.046352\n",
       "avg_comments_per_thread_month                       -0.047607\n",
       "n_active_days_author_week_year                      -0.070563\n",
       "avg_comments_per_thread_year                        -0.117431\n",
       "dtype: float64"
      ]
     },
     "execution_count": 48,
     "metadata": {},
     "output_type": "execute_result"
    }
   ],
   "source": [
    "activity_news_lr[0].sort_values(ascending = False)"
   ]
  },
  {
   "cell_type": "code",
   "execution_count": null,
   "metadata": {},
   "outputs": [
    {
     "data": {
      "text/plain": [
       "{'accuracy': 0.6430568499534017,\n",
       " 'precision': 0.6536748329621381,\n",
       " 'recall': 0.5633397312859885,\n",
       " 'random_baseline': 0.5144454799627214}"
      ]
     },
     "execution_count": 43,
     "metadata": {},
     "output_type": "execute_result"
    }
   ],
   "source": [
    "cle.confusion_matrix_analysis(activity_news_lr[1])"
   ]
  },
  {
   "cell_type": "code",
   "execution_count": null,
   "metadata": {},
   "outputs": [],
   "source": [
    "sociodemographic_features = [u for u in df_lr.columns if \"quartile\" in u]\n",
    "sociodemographic_features_lr = pca_log_reg(df_lr, features = sociodemographic_features, test = True)"
   ]
  },
  {
   "cell_type": "code",
   "execution_count": null,
   "metadata": {},
   "outputs": [
    {
     "data": {
      "text/plain": [
       "quartile1_affluence    0.202594\n",
       "quartile1_age         -0.182440\n",
       "quartile1_gender      -0.064025\n",
       "quartile1_partisan     0.281238\n",
       "quartile4_affluence   -0.243590\n",
       "quartile4_age          0.152031\n",
       "quartile4_gender      -0.147307\n",
       "quartile4_partisan    -0.360296\n",
       "dtype: float64"
      ]
     },
     "execution_count": 45,
     "metadata": {},
     "output_type": "execute_result"
    }
   ],
   "source": [
    "sociodemographic_features_lr[0]"
   ]
  },
  {
   "cell_type": "code",
   "execution_count": null,
   "metadata": {},
   "outputs": [
    {
     "data": {
      "text/plain": [
       "{'accuracy': 0.6229353468617272,\n",
       " 'precision': 0.6150159744408946,\n",
       " 'recall': 0.7083716651333947,\n",
       " 'random_baseline': 0.512977819726286}"
      ]
     },
     "execution_count": 46,
     "metadata": {},
     "output_type": "execute_result"
    }
   ],
   "source": [
    "cle.confusion_matrix_analysis(sociodemographic_features_lr[1])"
   ]
  },
  {
   "cell_type": "markdown",
   "metadata": {},
   "source": [
    "### PCA"
   ]
  },
  {
   "cell_type": "code",
   "execution_count": null,
   "metadata": {},
   "outputs": [],
   "source": [
    "pca_df = pd.DataFrame(pca.components_, columns = data_train.drop(\"activation\", axis = 1).columns)"
   ]
  },
  {
   "cell_type": "code",
   "execution_count": null,
   "metadata": {},
   "outputs": [
    {
     "data": {
      "text/html": [
       "<div>\n",
       "<style scoped>\n",
       "    .dataframe tbody tr th:only-of-type {\n",
       "        vertical-align: middle;\n",
       "    }\n",
       "\n",
       "    .dataframe tbody tr th {\n",
       "        vertical-align: top;\n",
       "    }\n",
       "\n",
       "    .dataframe thead th {\n",
       "        text-align: right;\n",
       "    }\n",
       "</style>\n",
       "<table border=\"1\" class=\"dataframe\">\n",
       "  <thead>\n",
       "    <tr style=\"text-align: right;\">\n",
       "      <th></th>\n",
       "      <th>0</th>\n",
       "      <th>1</th>\n",
       "      <th>2</th>\n",
       "      <th>3</th>\n",
       "      <th>4</th>\n",
       "      <th>5</th>\n",
       "      <th>6</th>\n",
       "      <th>7</th>\n",
       "      <th>8</th>\n",
       "      <th>9</th>\n",
       "      <th>10</th>\n",
       "      <th>11</th>\n",
       "      <th>12</th>\n",
       "      <th>13</th>\n",
       "      <th>14</th>\n",
       "      <th>15</th>\n",
       "      <th>16</th>\n",
       "      <th>17</th>\n",
       "      <th>18</th>\n",
       "      <th>19</th>\n",
       "    </tr>\n",
       "  </thead>\n",
       "  <tbody>\n",
       "    <tr>\n",
       "      <th>0</th>\n",
       "      <td>n_different_subreddits_long</td>\n",
       "      <td>rwallstreetbetsHUZZAH_short</td>\n",
       "      <td>rchess_short_long_ratio</td>\n",
       "      <td>rwallstreetbetsHUZZAH_short_long_ratio</td>\n",
       "      <td>rflorida_short_long_ratio</td>\n",
       "      <td>rnewjersey_short_long_ratio</td>\n",
       "      <td>rCringeAnarchy_long</td>\n",
       "      <td>rnba_long</td>\n",
       "      <td>rKitchenConfidential_short_long_ratio</td>\n",
       "      <td>rAstuff_short_long_ratio</td>\n",
       "      <td>rColumbus_short_long_ratio</td>\n",
       "      <td>rForwardsFromKlandma_short_long_ratio</td>\n",
       "      <td>rdestiny2_short_long_ratio</td>\n",
       "      <td>rColumbus_short_long_ratio</td>\n",
       "      <td>rForwardsFromKlandma_short_long_ratio</td>\n",
       "      <td>rForwardsFromKlandma_short_long_ratio</td>\n",
       "      <td>rswtor_short_long_ratio</td>\n",
       "      <td>rSmite_short</td>\n",
       "      <td>rPiracy_short_long_ratio</td>\n",
       "      <td>rcanada_medium</td>\n",
       "    </tr>\n",
       "    <tr>\n",
       "      <th>1</th>\n",
       "      <td>n_different_subreddits_medium</td>\n",
       "      <td>rMLPLounge_short</td>\n",
       "      <td>relderscrollsonline_short_long_ratio</td>\n",
       "      <td>rMLPLounge_short</td>\n",
       "      <td>rnewjersey_short_long_ratio</td>\n",
       "      <td>rflorida_short_long_ratio</td>\n",
       "      <td>rChapoTrapHouse_long</td>\n",
       "      <td>sociodemo_right</td>\n",
       "      <td>rAstuff_short_long_ratio</td>\n",
       "      <td>rAnythingGoesNews_short_long_ratio</td>\n",
       "      <td>rAstuff_short_long_ratio</td>\n",
       "      <td>rdestiny2_short_long_ratio</td>\n",
       "      <td>rForwardsFromKlandma_short_long_ratio</td>\n",
       "      <td>rAstuff_short_long_ratio</td>\n",
       "      <td>rdestiny2_short_long_ratio</td>\n",
       "      <td>rdestiny2_short_long_ratio</td>\n",
       "      <td>rdestiny2_short_long_ratio</td>\n",
       "      <td>rGuildwars2_short</td>\n",
       "      <td>rteenagersnew_short_long_ratio</td>\n",
       "      <td>rCanadaPolitics_long</td>\n",
       "    </tr>\n",
       "    <tr>\n",
       "      <th>2</th>\n",
       "      <td>n_different_subreddits_short</td>\n",
       "      <td>relderscrollsonline_short_long_ratio</td>\n",
       "      <td>rMLPLounge_short</td>\n",
       "      <td>relderscrollsonline_short_long_ratio</td>\n",
       "      <td>rnextfuckinglevel_long</td>\n",
       "      <td>rdogs_short_long_ratio</td>\n",
       "      <td>rChapoTrapHouse_medium</td>\n",
       "      <td>rnfl_long</td>\n",
       "      <td>rAnythingGoesNews_short_long_ratio</td>\n",
       "      <td>rColumbus_short_long_ratio</td>\n",
       "      <td>rAnythingGoesNews_short_long_ratio</td>\n",
       "      <td>resist_short_long_ratio</td>\n",
       "      <td>runitedkingdom_long</td>\n",
       "      <td>rAnythingGoesNews_short_long_ratio</td>\n",
       "      <td>rRight_Wing_Politics_short_long_ratio</td>\n",
       "      <td>rchildfree_long</td>\n",
       "      <td>rForwardsFromKlandma_short_long_ratio</td>\n",
       "      <td>rGuildwars2_short_long_ratio</td>\n",
       "      <td>rMujico_medium</td>\n",
       "      <td>ronguardforthee_long</td>\n",
       "    </tr>\n",
       "    <tr>\n",
       "      <th>3</th>\n",
       "      <td>n_different_active_authors_link_id_link_id_medium</td>\n",
       "      <td>rchess_short_long_ratio</td>\n",
       "      <td>rwallstreetbetsHUZZAH_short</td>\n",
       "      <td>rwallstreetbetsHUZZAH_short</td>\n",
       "      <td>rAtlanta_short_long_ratio</td>\n",
       "      <td>rnutrition_short_long_ratio</td>\n",
       "      <td>rMemeEconomy_long</td>\n",
       "      <td>rnfl_medium</td>\n",
       "      <td>rColumbus_short_long_ratio</td>\n",
       "      <td>rCoronavirusUS_short_long_ratio</td>\n",
       "      <td>rAstuff_short</td>\n",
       "      <td>rSandersForPresident_long</td>\n",
       "      <td>rukpolitics_long</td>\n",
       "      <td>rvancouver_short</td>\n",
       "      <td>rRight_Wing_Politics_short</td>\n",
       "      <td>rpovertyfinance_medium</td>\n",
       "      <td>rwestworld_short_long_ratio</td>\n",
       "      <td>rKitchenConfidential_short_long_ratio</td>\n",
       "      <td>rteenagersnew_short</td>\n",
       "      <td>rcanada_short</td>\n",
       "    </tr>\n",
       "    <tr>\n",
       "      <th>4</th>\n",
       "      <td>n_active_days_author_week_long</td>\n",
       "      <td>rwallstreetbetsHUZZAH_short_long_ratio</td>\n",
       "      <td>rwallstreetbetsHUZZAH_short_long_ratio</td>\n",
       "      <td>rchess_short_long_ratio</td>\n",
       "      <td>rdogs_short_long_ratio</td>\n",
       "      <td>rAtlanta_short_long_ratio</td>\n",
       "      <td>rComedyCemetery_long</td>\n",
       "      <td>rnba_medium</td>\n",
       "      <td>rcenterleftpolitics_short</td>\n",
       "      <td>rAstuff_short</td>\n",
       "      <td>rcenterleftpolitics_short_long_ratio</td>\n",
       "      <td>rJustrolledintotheshop_long</td>\n",
       "      <td>runitedkingdom_medium</td>\n",
       "      <td>rnvidia_long</td>\n",
       "      <td>rwoahdude_short_long_ratio</td>\n",
       "      <td>rchildfree_medium</td>\n",
       "      <td>rswtor_short</td>\n",
       "      <td>rSmite_medium</td>\n",
       "      <td>rPolcompball_medium</td>\n",
       "      <td>rCanadaPolitics_medium</td>\n",
       "    </tr>\n",
       "    <tr>\n",
       "      <th>5</th>\n",
       "      <td>n_active_days_author_week_medium</td>\n",
       "      <td>n_different_comments_with_active_id_parent_id_...</td>\n",
       "      <td>rMinneapolis_short_long_ratio</td>\n",
       "      <td>rCoronavirusDownunder_short</td>\n",
       "      <td>rnutrition_short_long_ratio</td>\n",
       "      <td>rSeattle_short_long_ratio</td>\n",
       "      <td>rFellowKids_long</td>\n",
       "      <td>rConservative_long</td>\n",
       "      <td>rcenterleftpolitics_short_long_ratio</td>\n",
       "      <td>rcenterleftpolitics_short_long_ratio</td>\n",
       "      <td>rCoronavirusUS_short_long_ratio</td>\n",
       "      <td>resist_short</td>\n",
       "      <td>rCasualUK_long</td>\n",
       "      <td>rGuildwars2_short</td>\n",
       "      <td>resist_short_long_ratio</td>\n",
       "      <td>rSteam_long</td>\n",
       "      <td>rsaltierthancrait_short</td>\n",
       "      <td>relderscrollsonline_short</td>\n",
       "      <td>rPolcompball_short</td>\n",
       "      <td>rontario_long</td>\n",
       "    </tr>\n",
       "    <tr>\n",
       "      <th>6</th>\n",
       "      <td>n_different_active_authors_link_id_link_id_short</td>\n",
       "      <td>n_different_active_authors_id_parent_id_medium</td>\n",
       "      <td>rCoronavirusDownunder_short</td>\n",
       "      <td>rbestoflegaladvice_short_long_ratio</td>\n",
       "      <td>rawfuleverything_long</td>\n",
       "      <td>rrant_short_long_ratio</td>\n",
       "      <td>rdankchristianmemes_long</td>\n",
       "      <td>rShitstatistssay_medium</td>\n",
       "      <td>rIncelTears_long</td>\n",
       "      <td>rfrance_short_long_ratio</td>\n",
       "      <td>rCCW_medium</td>\n",
       "      <td>rwoahdude_short_long_ratio</td>\n",
       "      <td>runitedkingdom_short</td>\n",
       "      <td>rSmite_short</td>\n",
       "      <td>rPOLITIC_short_long_ratio</td>\n",
       "      <td>rpcgaming_long</td>\n",
       "      <td>rSequelMemes_short</td>\n",
       "      <td>rKitchenConfidential_short</td>\n",
       "      <td>rPolcompball_short_long_ratio</td>\n",
       "      <td>rcanada_long</td>\n",
       "    </tr>\n",
       "    <tr>\n",
       "      <th>7</th>\n",
       "      <td>n_different_active_authors_link_id_link_id_long</td>\n",
       "      <td>n_different_comments_with_active_id_parent_id_...</td>\n",
       "      <td>rbestoflegaladvice_short_long_ratio</td>\n",
       "      <td>rMinneapolis_short_long_ratio</td>\n",
       "      <td>rchicago_short_long_ratio</td>\n",
       "      <td>rtoronto_short_long_ratio</td>\n",
       "      <td>rgaming_long</td>\n",
       "      <td>rGoldandBlack_long</td>\n",
       "      <td>rCoronavirusUS_short_long_ratio</td>\n",
       "      <td>rEnough_Sanders_Spam_short_long_ratio</td>\n",
       "      <td>rfrance_short_long_ratio</td>\n",
       "      <td>rflorida_short_long_ratio</td>\n",
       "      <td>rsoccer_long</td>\n",
       "      <td>rGuildwars2_short_long_ratio</td>\n",
       "      <td>rEcoNewsNetwork_short_long_ratio</td>\n",
       "      <td>rentitledparents_short</td>\n",
       "      <td>rwestworld_short</td>\n",
       "      <td>rskyrim_short_long_ratio</td>\n",
       "      <td>rconfidentlyincorrect_short</td>\n",
       "      <td>rGuildwars2_short</td>\n",
       "    </tr>\n",
       "    <tr>\n",
       "      <th>8</th>\n",
       "      <td>rWellthatsucks_long</td>\n",
       "      <td>n_different_active_authors_id_parent_id_long</td>\n",
       "      <td>rnewjersey_short_long_ratio</td>\n",
       "      <td>rMLPLounge_long</td>\n",
       "      <td>rHolUp_long</td>\n",
       "      <td>rDenver_short_long_ratio</td>\n",
       "      <td>rthanosdidnothingwrong_long</td>\n",
       "      <td>sociodemo_male</td>\n",
       "      <td>rEnough_Sanders_Spam_short</td>\n",
       "      <td>rinthenews_short_long_ratio</td>\n",
       "      <td>rAnythingGoesNews_short</td>\n",
       "      <td>rnewjersey_short_long_ratio</td>\n",
       "      <td>rukpolitics_medium</td>\n",
       "      <td>rAmd_long</td>\n",
       "      <td>rEcoNewsNetwork_short</td>\n",
       "      <td>rJUSTNOMIL_long</td>\n",
       "      <td>rswtor_medium</td>\n",
       "      <td>rweed_short</td>\n",
       "      <td>rchile_medium</td>\n",
       "      <td>rGuildwars2_short_long_ratio</td>\n",
       "    </tr>\n",
       "    <tr>\n",
       "      <th>9</th>\n",
       "      <td>n_comments_author_week_medium</td>\n",
       "      <td>n_different_active_authors_id_parent_id_short</td>\n",
       "      <td>rflorida_short_long_ratio</td>\n",
       "      <td>rMLPLounge_medium</td>\n",
       "      <td>rWinStupidPrizes_long</td>\n",
       "      <td>rchicago_short_long_ratio</td>\n",
       "      <td>rBlueMidterm2018_long</td>\n",
       "      <td>rLouderWithCrowder_long</td>\n",
       "      <td>rGuildwars2_short</td>\n",
       "      <td>rcenterleftpolitics_short</td>\n",
       "      <td>rgunpolitics_long</td>\n",
       "      <td>rWayOfTheBern_long</td>\n",
       "      <td>rCasualUK_medium</td>\n",
       "      <td>n_different_active_authors_parent_id_id_medium</td>\n",
       "      <td>rTrueOffMyChest_short_long_ratio</td>\n",
       "      <td>rchildfree_short</td>\n",
       "      <td>rCanadaPolitics_long</td>\n",
       "      <td>rdestiny2_short_long_ratio</td>\n",
       "      <td>rFirearms_short</td>\n",
       "      <td>rSmite_short</td>\n",
       "    </tr>\n",
       "    <tr>\n",
       "      <th>10</th>\n",
       "      <td>rtrashy_long</td>\n",
       "      <td>n_different_active_authors_parent_id_id_medium</td>\n",
       "      <td>rworldnews_medium</td>\n",
       "      <td>relderscrollsonline_short</td>\n",
       "      <td>rCoronavirus_long</td>\n",
       "      <td>rphiladelphia_short_long_ratio</td>\n",
       "      <td>rIAmA_long</td>\n",
       "      <td>rpcmasterrace_long</td>\n",
       "      <td>rSmite_short</td>\n",
       "      <td>rJoeBiden_short_long_ratio</td>\n",
       "      <td>rCCW_long</td>\n",
       "      <td>rgadgets_long</td>\n",
       "      <td>rAskUK_long</td>\n",
       "      <td>rBraincels_medium</td>\n",
       "      <td>rEcoInternet_short</td>\n",
       "      <td>rbestoflegaladvice_long</td>\n",
       "      <td>rsaltierthancrait_medium</td>\n",
       "      <td>rForwardsFromKlandma_short_long_ratio</td>\n",
       "      <td>rFirearms_medium</td>\n",
       "      <td>ronguardforthee_medium</td>\n",
       "    </tr>\n",
       "    <tr>\n",
       "      <th>11</th>\n",
       "      <td>n_comments_author_week_long</td>\n",
       "      <td>rMinneapolis_short_long_ratio</td>\n",
       "      <td>rworldnews_short</td>\n",
       "      <td>rCoronavirusCirclejerk_short</td>\n",
       "      <td>rCringetopia_long</td>\n",
       "      <td>rargentina_medium</td>\n",
       "      <td>rbeholdthemasterrace_long</td>\n",
       "      <td>rnba_short</td>\n",
       "      <td>rGuildwars2_short_long_ratio</td>\n",
       "      <td>rAnythingGoesNews_short</td>\n",
       "      <td>rChina_Flu_short_long_ratio</td>\n",
       "      <td>rcars_medium</td>\n",
       "      <td>rsoccer_short</td>\n",
       "      <td>rhardware_long</td>\n",
       "      <td>rwoahdude_short</td>\n",
       "      <td>rMtF_long</td>\n",
       "      <td>rcanada_long</td>\n",
       "      <td>rGuildwars2_medium</td>\n",
       "      <td>rGenZ_short_long_ratio</td>\n",
       "      <td>rontario_medium</td>\n",
       "    </tr>\n",
       "    <tr>\n",
       "      <th>12</th>\n",
       "      <td>rWhitePeopleTwitter_long</td>\n",
       "      <td>rbestoflegaladvice_short_long_ratio</td>\n",
       "      <td>rtodayilearned_medium</td>\n",
       "      <td>rbtc_short_long_ratio</td>\n",
       "      <td>rTikTokCringe_long</td>\n",
       "      <td>rtrump_short</td>\n",
       "      <td>rvideos_long</td>\n",
       "      <td>rCFB_long</td>\n",
       "      <td>rDestiny_short_long_ratio</td>\n",
       "      <td>rChina_Flu_short_long_ratio</td>\n",
       "      <td>rEnough_Sanders_Spam_short_long_ratio</td>\n",
       "      <td>rpolitics_short</td>\n",
       "      <td>rlondon_long</td>\n",
       "      <td>rAmd_medium</td>\n",
       "      <td>rMechanicalKeyboards_short_long_ratio</td>\n",
       "      <td>rraisedbynarcissists_medium</td>\n",
       "      <td>rANormalDayInRussia_short</td>\n",
       "      <td>relderscrollsonline_medium</td>\n",
       "      <td>rgunpolitics_medium</td>\n",
       "      <td>rontario_short</td>\n",
       "    </tr>\n",
       "    <tr>\n",
       "      <th>13</th>\n",
       "      <td>rMurderedByWords_long</td>\n",
       "      <td>rCoronavirusDownunder_short</td>\n",
       "      <td>rMLPLounge_long</td>\n",
       "      <td>rHololive_medium</td>\n",
       "      <td>rPublicFreakout_long</td>\n",
       "      <td>rtrump_short_long_ratio</td>\n",
       "      <td>rThe_Donald_long</td>\n",
       "      <td>rShitstatistssay_short</td>\n",
       "      <td>rAstuff_short</td>\n",
       "      <td>rEnough_Sanders_Spam_short</td>\n",
       "      <td>rgundeals_long</td>\n",
       "      <td>rthedavidpakmanshow_short_long_ratio</td>\n",
       "      <td>rJoeRogan_short_long_ratio</td>\n",
       "      <td>rsysadmin_long</td>\n",
       "      <td>rJoeRogan_short_long_ratio</td>\n",
       "      <td>rapple_short_long_ratio</td>\n",
       "      <td>ronguardforthee_long</td>\n",
       "      <td>rshittyfoodporn_short</td>\n",
       "      <td>rbritishcolumbia_short_long_ratio</td>\n",
       "      <td>ralberta_long</td>\n",
       "    </tr>\n",
       "    <tr>\n",
       "      <th>14</th>\n",
       "      <td>rtherewasanattempt_long</td>\n",
       "      <td>n_different_comments_with_active_parent_id_id_...</td>\n",
       "      <td>rMLPLounge_medium</td>\n",
       "      <td>rmylittlepony_short</td>\n",
       "      <td>rchess_short_long_ratio</td>\n",
       "      <td>rbadunitedkingdom_short_long_ratio</td>\n",
       "      <td>riamverysmart_long</td>\n",
       "      <td>rAnythingGoesNews_short</td>\n",
       "      <td>rthatHappened_long</td>\n",
       "      <td>rvancouver_short_long_ratio</td>\n",
       "      <td>relectricvehicles_short_long_ratio</td>\n",
       "      <td>rJustrolledintotheshop_medium</td>\n",
       "      <td>rbritishproblems_long</td>\n",
       "      <td>n_different_active_authors_parent_id_id_short</td>\n",
       "      <td>rPewdiepieSubmissions_short_long_ratio</td>\n",
       "      <td>rtraaaaaaannnnnnnnnns_long</td>\n",
       "      <td>rPrequelMemes_short</td>\n",
       "      <td>rSmite_long</td>\n",
       "      <td>rpeloton_medium</td>\n",
       "      <td>rtoronto_short</td>\n",
       "    </tr>\n",
       "  </tbody>\n",
       "</table>\n",
       "</div>"
      ],
      "text/plain": [
       "                                                   0   \\\n",
       "0                         n_different_subreddits_long   \n",
       "1                       n_different_subreddits_medium   \n",
       "2                        n_different_subreddits_short   \n",
       "3   n_different_active_authors_link_id_link_id_medium   \n",
       "4                      n_active_days_author_week_long   \n",
       "5                    n_active_days_author_week_medium   \n",
       "6    n_different_active_authors_link_id_link_id_short   \n",
       "7     n_different_active_authors_link_id_link_id_long   \n",
       "8                                 rWellthatsucks_long   \n",
       "9                       n_comments_author_week_medium   \n",
       "10                                       rtrashy_long   \n",
       "11                        n_comments_author_week_long   \n",
       "12                           rWhitePeopleTwitter_long   \n",
       "13                              rMurderedByWords_long   \n",
       "14                            rtherewasanattempt_long   \n",
       "\n",
       "                                                   1   \\\n",
       "0                         rwallstreetbetsHUZZAH_short   \n",
       "1                                    rMLPLounge_short   \n",
       "2                relderscrollsonline_short_long_ratio   \n",
       "3                             rchess_short_long_ratio   \n",
       "4              rwallstreetbetsHUZZAH_short_long_ratio   \n",
       "5   n_different_comments_with_active_id_parent_id_...   \n",
       "6      n_different_active_authors_id_parent_id_medium   \n",
       "7   n_different_comments_with_active_id_parent_id_...   \n",
       "8        n_different_active_authors_id_parent_id_long   \n",
       "9       n_different_active_authors_id_parent_id_short   \n",
       "10     n_different_active_authors_parent_id_id_medium   \n",
       "11                      rMinneapolis_short_long_ratio   \n",
       "12                rbestoflegaladvice_short_long_ratio   \n",
       "13                        rCoronavirusDownunder_short   \n",
       "14  n_different_comments_with_active_parent_id_id_...   \n",
       "\n",
       "                                        2   \\\n",
       "0                  rchess_short_long_ratio   \n",
       "1     relderscrollsonline_short_long_ratio   \n",
       "2                         rMLPLounge_short   \n",
       "3              rwallstreetbetsHUZZAH_short   \n",
       "4   rwallstreetbetsHUZZAH_short_long_ratio   \n",
       "5            rMinneapolis_short_long_ratio   \n",
       "6              rCoronavirusDownunder_short   \n",
       "7      rbestoflegaladvice_short_long_ratio   \n",
       "8              rnewjersey_short_long_ratio   \n",
       "9                rflorida_short_long_ratio   \n",
       "10                       rworldnews_medium   \n",
       "11                        rworldnews_short   \n",
       "12                   rtodayilearned_medium   \n",
       "13                         rMLPLounge_long   \n",
       "14                       rMLPLounge_medium   \n",
       "\n",
       "                                        3                            4   \\\n",
       "0   rwallstreetbetsHUZZAH_short_long_ratio    rflorida_short_long_ratio   \n",
       "1                         rMLPLounge_short  rnewjersey_short_long_ratio   \n",
       "2     relderscrollsonline_short_long_ratio       rnextfuckinglevel_long   \n",
       "3              rwallstreetbetsHUZZAH_short    rAtlanta_short_long_ratio   \n",
       "4                  rchess_short_long_ratio       rdogs_short_long_ratio   \n",
       "5              rCoronavirusDownunder_short  rnutrition_short_long_ratio   \n",
       "6      rbestoflegaladvice_short_long_ratio        rawfuleverything_long   \n",
       "7            rMinneapolis_short_long_ratio    rchicago_short_long_ratio   \n",
       "8                          rMLPLounge_long                  rHolUp_long   \n",
       "9                        rMLPLounge_medium        rWinStupidPrizes_long   \n",
       "10               relderscrollsonline_short            rCoronavirus_long   \n",
       "11            rCoronavirusCirclejerk_short            rCringetopia_long   \n",
       "12                   rbtc_short_long_ratio           rTikTokCringe_long   \n",
       "13                        rHololive_medium         rPublicFreakout_long   \n",
       "14                     rmylittlepony_short      rchess_short_long_ratio   \n",
       "\n",
       "                                    5                            6   \\\n",
       "0          rnewjersey_short_long_ratio          rCringeAnarchy_long   \n",
       "1            rflorida_short_long_ratio         rChapoTrapHouse_long   \n",
       "2               rdogs_short_long_ratio       rChapoTrapHouse_medium   \n",
       "3          rnutrition_short_long_ratio            rMemeEconomy_long   \n",
       "4            rAtlanta_short_long_ratio         rComedyCemetery_long   \n",
       "5            rSeattle_short_long_ratio             rFellowKids_long   \n",
       "6               rrant_short_long_ratio     rdankchristianmemes_long   \n",
       "7            rtoronto_short_long_ratio                 rgaming_long   \n",
       "8             rDenver_short_long_ratio  rthanosdidnothingwrong_long   \n",
       "9            rchicago_short_long_ratio        rBlueMidterm2018_long   \n",
       "10      rphiladelphia_short_long_ratio                   rIAmA_long   \n",
       "11                   rargentina_medium    rbeholdthemasterrace_long   \n",
       "12                        rtrump_short                 rvideos_long   \n",
       "13             rtrump_short_long_ratio             rThe_Donald_long   \n",
       "14  rbadunitedkingdom_short_long_ratio           riamverysmart_long   \n",
       "\n",
       "                         7                                      8   \\\n",
       "0                 rnba_long  rKitchenConfidential_short_long_ratio   \n",
       "1           sociodemo_right               rAstuff_short_long_ratio   \n",
       "2                 rnfl_long     rAnythingGoesNews_short_long_ratio   \n",
       "3               rnfl_medium             rColumbus_short_long_ratio   \n",
       "4               rnba_medium              rcenterleftpolitics_short   \n",
       "5        rConservative_long   rcenterleftpolitics_short_long_ratio   \n",
       "6   rShitstatistssay_medium                       rIncelTears_long   \n",
       "7        rGoldandBlack_long        rCoronavirusUS_short_long_ratio   \n",
       "8            sociodemo_male             rEnough_Sanders_Spam_short   \n",
       "9   rLouderWithCrowder_long                      rGuildwars2_short   \n",
       "10       rpcmasterrace_long                           rSmite_short   \n",
       "11               rnba_short           rGuildwars2_short_long_ratio   \n",
       "12                rCFB_long              rDestiny_short_long_ratio   \n",
       "13   rShitstatistssay_short                          rAstuff_short   \n",
       "14  rAnythingGoesNews_short                     rthatHappened_long   \n",
       "\n",
       "                                       9   \\\n",
       "0                rAstuff_short_long_ratio   \n",
       "1      rAnythingGoesNews_short_long_ratio   \n",
       "2              rColumbus_short_long_ratio   \n",
       "3         rCoronavirusUS_short_long_ratio   \n",
       "4                           rAstuff_short   \n",
       "5    rcenterleftpolitics_short_long_ratio   \n",
       "6                rfrance_short_long_ratio   \n",
       "7   rEnough_Sanders_Spam_short_long_ratio   \n",
       "8             rinthenews_short_long_ratio   \n",
       "9               rcenterleftpolitics_short   \n",
       "10             rJoeBiden_short_long_ratio   \n",
       "11                rAnythingGoesNews_short   \n",
       "12            rChina_Flu_short_long_ratio   \n",
       "13             rEnough_Sanders_Spam_short   \n",
       "14            rvancouver_short_long_ratio   \n",
       "\n",
       "                                       10  \\\n",
       "0              rColumbus_short_long_ratio   \n",
       "1                rAstuff_short_long_ratio   \n",
       "2      rAnythingGoesNews_short_long_ratio   \n",
       "3                           rAstuff_short   \n",
       "4    rcenterleftpolitics_short_long_ratio   \n",
       "5         rCoronavirusUS_short_long_ratio   \n",
       "6                             rCCW_medium   \n",
       "7                rfrance_short_long_ratio   \n",
       "8                 rAnythingGoesNews_short   \n",
       "9                       rgunpolitics_long   \n",
       "10                              rCCW_long   \n",
       "11            rChina_Flu_short_long_ratio   \n",
       "12  rEnough_Sanders_Spam_short_long_ratio   \n",
       "13                         rgundeals_long   \n",
       "14     relectricvehicles_short_long_ratio   \n",
       "\n",
       "                                       11  \\\n",
       "0   rForwardsFromKlandma_short_long_ratio   \n",
       "1              rdestiny2_short_long_ratio   \n",
       "2                 resist_short_long_ratio   \n",
       "3               rSandersForPresident_long   \n",
       "4             rJustrolledintotheshop_long   \n",
       "5                            resist_short   \n",
       "6              rwoahdude_short_long_ratio   \n",
       "7               rflorida_short_long_ratio   \n",
       "8             rnewjersey_short_long_ratio   \n",
       "9                      rWayOfTheBern_long   \n",
       "10                          rgadgets_long   \n",
       "11                           rcars_medium   \n",
       "12                        rpolitics_short   \n",
       "13   rthedavidpakmanshow_short_long_ratio   \n",
       "14          rJustrolledintotheshop_medium   \n",
       "\n",
       "                                       12  \\\n",
       "0              rdestiny2_short_long_ratio   \n",
       "1   rForwardsFromKlandma_short_long_ratio   \n",
       "2                     runitedkingdom_long   \n",
       "3                        rukpolitics_long   \n",
       "4                   runitedkingdom_medium   \n",
       "5                          rCasualUK_long   \n",
       "6                    runitedkingdom_short   \n",
       "7                            rsoccer_long   \n",
       "8                      rukpolitics_medium   \n",
       "9                        rCasualUK_medium   \n",
       "10                            rAskUK_long   \n",
       "11                          rsoccer_short   \n",
       "12                           rlondon_long   \n",
       "13             rJoeRogan_short_long_ratio   \n",
       "14                  rbritishproblems_long   \n",
       "\n",
       "                                                13  \\\n",
       "0                       rColumbus_short_long_ratio   \n",
       "1                         rAstuff_short_long_ratio   \n",
       "2               rAnythingGoesNews_short_long_ratio   \n",
       "3                                 rvancouver_short   \n",
       "4                                     rnvidia_long   \n",
       "5                                rGuildwars2_short   \n",
       "6                                     rSmite_short   \n",
       "7                     rGuildwars2_short_long_ratio   \n",
       "8                                        rAmd_long   \n",
       "9   n_different_active_authors_parent_id_id_medium   \n",
       "10                               rBraincels_medium   \n",
       "11                                  rhardware_long   \n",
       "12                                     rAmd_medium   \n",
       "13                                  rsysadmin_long   \n",
       "14   n_different_active_authors_parent_id_id_short   \n",
       "\n",
       "                                        14  \\\n",
       "0    rForwardsFromKlandma_short_long_ratio   \n",
       "1               rdestiny2_short_long_ratio   \n",
       "2    rRight_Wing_Politics_short_long_ratio   \n",
       "3               rRight_Wing_Politics_short   \n",
       "4               rwoahdude_short_long_ratio   \n",
       "5                  resist_short_long_ratio   \n",
       "6                rPOLITIC_short_long_ratio   \n",
       "7         rEcoNewsNetwork_short_long_ratio   \n",
       "8                    rEcoNewsNetwork_short   \n",
       "9         rTrueOffMyChest_short_long_ratio   \n",
       "10                      rEcoInternet_short   \n",
       "11                         rwoahdude_short   \n",
       "12   rMechanicalKeyboards_short_long_ratio   \n",
       "13              rJoeRogan_short_long_ratio   \n",
       "14  rPewdiepieSubmissions_short_long_ratio   \n",
       "\n",
       "                                       15  \\\n",
       "0   rForwardsFromKlandma_short_long_ratio   \n",
       "1              rdestiny2_short_long_ratio   \n",
       "2                         rchildfree_long   \n",
       "3                  rpovertyfinance_medium   \n",
       "4                       rchildfree_medium   \n",
       "5                             rSteam_long   \n",
       "6                          rpcgaming_long   \n",
       "7                  rentitledparents_short   \n",
       "8                         rJUSTNOMIL_long   \n",
       "9                        rchildfree_short   \n",
       "10                rbestoflegaladvice_long   \n",
       "11                              rMtF_long   \n",
       "12            rraisedbynarcissists_medium   \n",
       "13                rapple_short_long_ratio   \n",
       "14             rtraaaaaaannnnnnnnnns_long   \n",
       "\n",
       "                                       16  \\\n",
       "0                 rswtor_short_long_ratio   \n",
       "1              rdestiny2_short_long_ratio   \n",
       "2   rForwardsFromKlandma_short_long_ratio   \n",
       "3             rwestworld_short_long_ratio   \n",
       "4                            rswtor_short   \n",
       "5                 rsaltierthancrait_short   \n",
       "6                      rSequelMemes_short   \n",
       "7                        rwestworld_short   \n",
       "8                           rswtor_medium   \n",
       "9                    rCanadaPolitics_long   \n",
       "10               rsaltierthancrait_medium   \n",
       "11                           rcanada_long   \n",
       "12              rANormalDayInRussia_short   \n",
       "13                   ronguardforthee_long   \n",
       "14                    rPrequelMemes_short   \n",
       "\n",
       "                                       17                                 18  \\\n",
       "0                            rSmite_short           rPiracy_short_long_ratio   \n",
       "1                       rGuildwars2_short     rteenagersnew_short_long_ratio   \n",
       "2            rGuildwars2_short_long_ratio                     rMujico_medium   \n",
       "3   rKitchenConfidential_short_long_ratio                rteenagersnew_short   \n",
       "4                           rSmite_medium                rPolcompball_medium   \n",
       "5               relderscrollsonline_short                 rPolcompball_short   \n",
       "6              rKitchenConfidential_short      rPolcompball_short_long_ratio   \n",
       "7                rskyrim_short_long_ratio        rconfidentlyincorrect_short   \n",
       "8                             rweed_short                      rchile_medium   \n",
       "9              rdestiny2_short_long_ratio                    rFirearms_short   \n",
       "10  rForwardsFromKlandma_short_long_ratio                   rFirearms_medium   \n",
       "11                     rGuildwars2_medium             rGenZ_short_long_ratio   \n",
       "12             relderscrollsonline_medium                rgunpolitics_medium   \n",
       "13                  rshittyfoodporn_short  rbritishcolumbia_short_long_ratio   \n",
       "14                            rSmite_long                    rpeloton_medium   \n",
       "\n",
       "                              19  \n",
       "0                 rcanada_medium  \n",
       "1           rCanadaPolitics_long  \n",
       "2           ronguardforthee_long  \n",
       "3                  rcanada_short  \n",
       "4         rCanadaPolitics_medium  \n",
       "5                  rontario_long  \n",
       "6                   rcanada_long  \n",
       "7              rGuildwars2_short  \n",
       "8   rGuildwars2_short_long_ratio  \n",
       "9                   rSmite_short  \n",
       "10        ronguardforthee_medium  \n",
       "11               rontario_medium  \n",
       "12                rontario_short  \n",
       "13                 ralberta_long  \n",
       "14                rtoronto_short  "
      ]
     },
     "execution_count": 111,
     "metadata": {},
     "output_type": "execute_result"
    }
   ],
   "source": [
    "pd.DataFrame([list(pca_df.loc[i].sort_values(ascending = False).head(15).index) for i in range(20)]).T"
   ]
  },
  {
   "cell_type": "markdown",
   "metadata": {},
   "source": [
    "## Logistic Regression - statsmodelss"
   ]
  },
  {
   "cell_type": "code",
   "execution_count": null,
   "metadata": {},
   "outputs": [],
   "source": [
    "import statsmodels.formula.api as smf"
   ]
  },
  {
   "cell_type": "code",
   "execution_count": null,
   "metadata": {},
   "outputs": [],
   "source": [
    "pca = PCA(n_components = 20)\n",
    "# get the z-score\n",
    "scaler = StandardScaler()"
   ]
  },
  {
   "cell_type": "code",
   "execution_count": null,
   "metadata": {},
   "outputs": [],
   "source": [
    "np.random.seed(11)\n",
    "msk = np.random.rand(len(df_lr)) < 0.75\n",
    "data_train = df_lr.drop(\"duration\", axis = 1)[msk]\n",
    "data_test = df_lr.drop(\"duration\", axis = 1)[~msk]"
   ]
  },
  {
   "cell_type": "code",
   "execution_count": null,
   "metadata": {},
   "outputs": [],
   "source": [
    "X_train, y_train = data_train.drop(\"activation\", axis = 1), data_train[\"activation\"]\n",
    "X_test, y_test = data_test.drop(\"activation\", axis = 1), data_test[\"activation\"]"
   ]
  },
  {
   "cell_type": "code",
   "execution_count": null,
   "metadata": {},
   "outputs": [],
   "source": [
    "scaler.fit(X_train)\n",
    "X_scale_train = scaler.transform(X_train)\n",
    "# X_scale_train = X_train\n",
    "# X_scale_train = scale_zscore(X_train)"
   ]
  },
  {
   "cell_type": "code",
   "execution_count": null,
   "metadata": {},
   "outputs": [],
   "source": [
    "pca.fit(X_scale_train)\n",
    "X_pca_train = pca.transform(X_scale_train)"
   ]
  },
  {
   "cell_type": "code",
   "execution_count": null,
   "metadata": {},
   "outputs": [
    {
     "data": {
      "text/plain": [
       "Index([0, 1, 2, 3, 4, 5, 6, 7, 8, 9, 10, 11, 12, 13, 14, 15, 16, 17, 18, 19,\n",
       "       'y'],\n",
       "      dtype='object')"
      ]
     },
     "execution_count": 65,
     "metadata": {},
     "output_type": "execute_result"
    }
   ],
   "source": [
    "pd.DataFrame(X_pca_train, index = data_train.index).assign(y = y_train).columns"
   ]
  },
  {
   "cell_type": "code",
   "execution_count": null,
   "metadata": {},
   "outputs": [
    {
     "name": "stdout",
     "output_type": "stream",
     "text": [
      "Optimization terminated successfully.\n",
      "         Current function value: 0.597705\n",
      "         Iterations 7\n"
     ]
    }
   ],
   "source": [
    "model = smf.logit(f\"y ~ {'+'.join([f'col{u}' for u in range(20)])}\", \n",
    "                  data = pd.DataFrame(X_pca_train, \n",
    "                                      index = data_train.index, \n",
    "                                      columns = [f\"col{u}\" for u in range(20)]).assign(y = y_train + 0.)).fit()"
   ]
  },
  {
   "cell_type": "code",
   "execution_count": null,
   "metadata": {},
   "outputs": [
    {
     "data": {
      "text/plain": [
       "n_different_active_authors_parent_id_id_medium          0.041880\n",
       "n_different_active_authors_parent_id_id_short           0.040649\n",
       "n_different_active_authors_id_parent_id_medium          0.040052\n",
       "n_different_active_authors_id_parent_id_short           0.038342\n",
       "n_different_comments_with_active_parent_id_id_short     0.037038\n",
       "n_different_comments_with_active_id_parent_id_medium    0.036676\n",
       "n_different_comments_with_active_parent_id_id_medium    0.035792\n",
       "n_different_comments_with_active_id_parent_id_short     0.032009\n",
       "n_different_active_authors_id_parent_id_long            0.028815\n",
       "n_different_comments_with_active_id_parent_id_long      0.028257\n",
       "dtype: float64"
      ]
     },
     "execution_count": 94,
     "metadata": {},
     "output_type": "execute_result"
    }
   ],
   "source": [
    "pd.Series(np.dot(model.summary2().tables[1][\"Coef.\"][1:], pca.components_), \n",
    "          index = X_train.columns).sort_values(ascending = False).head(10)\n",
    "\n"
   ]
  },
  {
   "cell_type": "markdown",
   "metadata": {},
   "source": [
    "## Survival Analysis"
   ]
  },
  {
   "cell_type": "code",
   "execution_count": null,
   "metadata": {},
   "outputs": [],
   "source": [
    "import lifelines"
   ]
  },
  {
   "cell_type": "code",
   "execution_count": null,
   "metadata": {},
   "outputs": [],
   "source": [
    "n_components = 20\n",
    "cox = lifelines.CoxPHFitter()\n",
    "pca = PCA(n_components = n_components)"
   ]
  },
  {
   "cell_type": "code",
   "execution_count": null,
   "metadata": {},
   "outputs": [],
   "source": [
    "df_cox = df_lr.query(\"activation\")"
   ]
  },
  {
   "cell_type": "code",
   "execution_count": null,
   "metadata": {},
   "outputs": [],
   "source": [
    "X, y = df_cox.drop([\"activation\", \"duration\"], axis = 1), df_cox[[\"activation\", \"duration\"]]\n",
    "scaler.fit(X)\n",
    "X_scale = scaler.transform(X)\n",
    "pca.fit(X_scale)\n",
    "X_pca = pca.transform(X_scale)    \n",
    "    "
   ]
  },
  {
   "cell_type": "code",
   "execution_count": null,
   "metadata": {},
   "outputs": [
    {
     "data": {
      "text/plain": [
       "((4141, 4003), (4141, 4001))"
      ]
     },
     "execution_count": 86,
     "metadata": {},
     "output_type": "execute_result"
    }
   ],
   "source": [
    "np.hstack([X_scale, y]).shape, X_scale.shape"
   ]
  },
  {
   "cell_type": "code",
   "execution_count": 1,
   "metadata": {},
   "outputs": [],
   "source": [
    "cox.fit(pd.DataFrame(np.hstack([X_pca, y]), columns = list(np.arange(n_components)) + [\"activation\", \"duration\"]),\n",
    "        duration_col = \"duration\", \n",
    "        event_col = \"activation\", \n",
    "        formula = pd.DataFrame(X_pca, columns = np.arange(n_components)))"
   ]
  },
  {
   "cell_type": "code",
   "execution_count": null,
   "metadata": {},
   "outputs": [
    {
     "data": {
      "text/plain": [
       "0.5209472778104808"
      ]
     },
     "execution_count": 88,
     "metadata": {},
     "output_type": "execute_result"
    }
   ],
   "source": [
    "cox.concordance_index_"
   ]
  },
  {
   "cell_type": "code",
   "execution_count": null,
   "metadata": {},
   "outputs": [
    {
     "data": {
      "text/plain": [
       "covariate\n",
       "1     0.007698\n",
       "14    0.010745\n",
       "Name: coef, dtype: float64"
      ]
     },
     "execution_count": 89,
     "metadata": {},
     "output_type": "execute_result"
    }
   ],
   "source": [
    "cox.summary.loc[cox.summary[\"p\"] < 0.05,\"coef\"]"
   ]
  },
  {
   "cell_type": "code",
   "execution_count": null,
   "metadata": {},
   "outputs": [],
   "source": [
    "original_coef_cox = pd.Series(np.dot(np.array(cox.summary.loc[cox.summary[\"p\"] < 0.05,\"coef\"])[None,:], pca.components_[cox.summary[\"p\"] < 0.05])[0], index = df_cox.drop([\"activation\", \"duration\"], axis = 1).columns)"
   ]
  },
  {
   "cell_type": "code",
   "execution_count": null,
   "metadata": {},
   "outputs": [
    {
     "data": {
      "text/plain": [
       "norm_climate_action_week_year_ratio      0.000166\n",
       "norm_climate_action_week                 0.000148\n",
       "norm_natural_disaster_week_year_ratio    0.000136\n",
       "norm_climate_week_year_ratio             0.000127\n",
       "norm_natural_disaster_week               0.000092\n",
       "norm_climate_week                        0.000069\n",
       "norm_climate_action_month                0.000033\n",
       "norm_natural_disaster_month              0.000024\n",
       "norm_climate_month                       0.000016\n",
       "norm_climate_action_year                -0.000058\n",
       "norm_natural_disaster_year              -0.000082\n",
       "norm_climate_year                       -0.000083\n",
       "dtype: float64"
      ]
     },
     "execution_count": 91,
     "metadata": {},
     "output_type": "execute_result"
    }
   ],
   "source": [
    "original_coef_cox.loc[[u for u in original_coef_cox.index if \"norm\" in u]].sort_values(ascending = False)"
   ]
  },
  {
   "cell_type": "code",
   "execution_count": null,
   "metadata": {},
   "outputs": [
    {
     "data": {
      "text/plain": [
       "n_comments_author_week_week        0.000883\n",
       "n_different_subreddits_week        0.000876\n",
       "n_different_subreddits_month       0.000802\n",
       "n_comments_author_week_month       0.000762\n",
       "n_different_subreddits_year        0.000529\n",
       "n_comments_author_week_year        0.000519\n",
       "n_active_days_author_week_month    0.000437\n",
       "n_active_days_author_week_week     0.000419\n",
       "n_active_days_author_week_year     0.000283\n",
       "avg_comments_per_thread_month      0.000246\n",
       "avg_comments_per_thread_week       0.000173\n",
       "avg_comments_per_thread_year       0.000023\n",
       "dtype: float64"
      ]
     },
     "execution_count": 92,
     "metadata": {},
     "output_type": "execute_result"
    }
   ],
   "source": [
    "original_coef_cox[[u+p for u in ft.features[\"control\"] for p in [\"_week\", \"_month\", \"_year\"]]].sort_values(ascending = False)"
   ]
  },
  {
   "cell_type": "code",
   "execution_count": null,
   "metadata": {},
   "outputs": [
    {
     "data": {
      "text/plain": [
       "n_different_parent_id_with_active_week     0.000321\n",
       "n_different_parent_id_with_active_month    0.000214\n",
       "n_different_parent_id_with_active_year     0.000046\n",
       "n_different_comments_with_active_week     -0.000033\n",
       "n_different_active_authors_week           -0.000072\n",
       "n_different_comments_with_active_year     -0.000108\n",
       "n_different_comments_with_active_month    -0.000112\n",
       "n_different_active_authors_month          -0.000252\n",
       "n_different_active_authors_year           -0.000287\n",
       "dtype: float64"
      ]
     },
     "execution_count": 93,
     "metadata": {},
     "output_type": "execute_result"
    }
   ],
   "source": [
    "original_coef_cox[[u+p for u in ft.features[\"interaction\"] for p in [\"_week\", \"_month\", \"_year\"]]].sort_values(ascending = False)"
   ]
  },
  {
   "cell_type": "code",
   "execution_count": null,
   "metadata": {},
   "outputs": [
    {
     "data": {
      "text/plain": [
       "relderscrollsonline_week                 0.001425\n",
       "rKitchenConfidential_week_year_ratio     0.001266\n",
       "rwallstreetbetsHUZZAH_week               0.001138\n",
       "relderscrollsonline_week_year_ratio      0.001138\n",
       "rchess_week_year_ratio                   0.001138\n",
       "rCoronavirusDownunder_week               0.001138\n",
       "rwallstreetbetsHUZZAH_week_year_ratio    0.001138\n",
       "rSuperstonk_week_year_ratio              0.000921\n",
       "rMLPLounge_month                         0.000919\n",
       "r49ers_week                              0.000913\n",
       "rmoviescirclejerk_week_year_ratio        0.000913\n",
       "rMLPLounge_week                          0.000887\n",
       "rmylittlepony_week                       0.000885\n",
       "rSmite_month                             0.000877\n",
       "rGuildwars2_week_year_ratio              0.000877\n",
       "rGuildwars2_week                         0.000877\n",
       "rMLPLounge_year                          0.000865\n",
       "rDebateReligion_week_year_ratio          0.000808\n",
       "rGreenBayPackers_month                   0.000770\n",
       "rbtc_week_year_ratio                     0.000754\n",
       "dtype: float64"
      ]
     },
     "execution_count": 94,
     "metadata": {},
     "output_type": "execute_result"
    }
   ],
   "source": [
    "original_coef_cox.loc[[u for u in original_coef_cox.index if  u[0] == \"r\"]].sort_values(ascending = False).head(20)"
   ]
  },
  {
   "cell_type": "code",
   "execution_count": null,
   "metadata": {},
   "outputs": [
    {
     "data": {
      "text/plain": [
       "quartile1_affluence                     -0.101507\n",
       "quartile1_age                           -0.086113\n",
       "rokbuddyretard_year                     -0.083252\n",
       "rTheRightCantMeme_year                  -0.081293\n",
       "rToiletPaperUSA_year                    -0.079848\n",
       "                                           ...   \n",
       "rCoronavirusDownunder_week               0.058494\n",
       "rwallstreetbetsHUZZAH_week_year_ratio    0.058494\n",
       "rchess_week_year_ratio                   0.058494\n",
       "rwallstreetbetsHUZZAH_week               0.058494\n",
       "relderscrollsonline_week_year_ratio      0.058494\n",
       "Length: 4001, dtype: float64"
      ]
     },
     "execution_count": 95,
     "metadata": {},
     "output_type": "execute_result"
    }
   ],
   "source": [
    "pd.Series(pca.components_[2,:], index = df_cox.drop([\"activation\", \"duration\"], axis = 1).columns).sort_values()"
   ]
  },
  {
   "cell_type": "markdown",
   "metadata": {},
   "source": [
    "### Bootstrap"
   ]
  },
  {
   "cell_type": "code",
   "execution_count": null,
   "metadata": {},
   "outputs": [],
   "source": [
    "def pca_cox(df_cox, features = None):\n",
    "    n_components = 8\n",
    "    cox = lifelines.CoxPHFitter()\n",
    "    pca = PCA(n_components = n_components)\n",
    "    df_cox = df_cox.query(\"activation\")\n",
    "    X, y = df_cox.drop([\"activation\", \"duration\"], axis = 1) + 0., df_cox[[\"activation\", \"duration\"]] + 0.\n",
    "    \n",
    "    if features is None:\n",
    "        features = list(df_cox.drop([\"activation\", \"duration\"], axis = 1).columns)\n",
    "    X = X[features]\n",
    "    scaler.fit(X)\n",
    "    X_scale = scaler.transform(X)\n",
    "    pca.fit(X_scale)\n",
    "    X_pca = pca.transform(X_scale)    \n",
    "        \n",
    "    cox.fit(pd.DataFrame(np.hstack([X_pca, y]), columns = list(np.arange(n_components)) + [\"activation\", \"duration\"]),\n",
    "            duration_col = \"duration\", \n",
    "            event_col = \"activation\", \n",
    "            formula = pd.DataFrame(X_pca, columns = np.arange(n_components)))\n",
    "    original_coef_cox = pd.Series(np.dot(np.array(cox.summary.loc[cox.summary[\"p\"] < 0.05,\"coef\"])[None,:], \n",
    "                                         pca.components_[cox.summary[\"p\"] < 0.05])[0], \n",
    "                                         index = features)\n",
    "\n",
    "    return original_coef_cox"
   ]
  },
  {
   "cell_type": "code",
   "execution_count": 2,
   "metadata": {},
   "outputs": [],
   "source": [
    "n_bootstraps = 20\n",
    "coef_boot = pd.DataFrame([pca_cox(cle.get_bootstrap_df(df_cox, random_state = k)) for k in range(n_bootstraps)])"
   ]
  },
  {
   "cell_type": "code",
   "execution_count": 100,
   "metadata": {},
   "outputs": [],
   "source": [
    "pvalues = pd.DataFrame([(coef_boot >= 0).mean(), 1-(coef_boot > 0).mean()]).min()"
   ]
  },
  {
   "cell_type": "code",
   "execution_count": 101,
   "metadata": {},
   "outputs": [],
   "source": [
    "coef_cox = pd.DataFrame({\"coef\": coef_boot.mean(), \"p\":pvalues})"
   ]
  },
  {
   "cell_type": "code",
   "execution_count": 114,
   "metadata": {},
   "outputs": [
    {
     "data": {
      "text/plain": [
       "n_different_parent_id_with_active_week    0.000904\n",
       "n_different_comments_with_active_week     0.000658\n",
       "n_active_days_author_week_week            0.000623\n",
       "rBlackPeopleTwitter_week                  0.000621\n",
       "rtechnews_month                           0.000546\n",
       "rtechnology_month                         0.000525\n",
       "rcenterleftpolitics_week                  0.000506\n",
       "rIAmA_month                               0.000498\n",
       "rThe_Mueller_week                         0.000490\n",
       "rPolitical_Revolution_week                0.000483\n",
       "rcenterleftpolitics_week_year_ratio       0.000482\n",
       "rworldpolitics_month                      0.000475\n",
       "rAstuff_week_year_ratio                   0.000468\n",
       "rAnythingGoesNews_week_year_ratio         0.000468\n",
       "rColumbus_week_year_ratio                 0.000468\n",
       "rAstuff_week                              0.000468\n",
       "rEconomics_month                          0.000457\n",
       "rPolitical_Revolution_week_year_ratio     0.000451\n",
       "rtechnology_week                          0.000430\n",
       "rEnough_Sanders_Spam_week                 0.000421\n",
       "rEconomics_week                           0.000404\n",
       "rEnough_Sanders_Spam_week_year_ratio      0.000380\n",
       "rChina_Flu_week_year_ratio                0.000379\n",
       "rspace_month                              0.000367\n",
       "rChina_Flu_week                           0.000345\n",
       "rPublicFreakout_week_year_ratio           0.000333\n",
       "rscience_week                             0.000328\n",
       "rworldpolitics_week_year_ratio            0.000324\n",
       "rsamharris_week                           0.000314\n",
       "rAnythingGoesNews_week                    0.000309\n",
       "rEconomics_week_year_ratio                0.000300\n",
       "rdemocrats_month                          0.000295\n",
       "rJoeBiden_week_year_ratio                 0.000290\n",
       "rtodayilearned_week_year_ratio            0.000284\n",
       "r49ers_week                               0.000270\n",
       "rmoviescirclejerk_week_year_ratio         0.000270\n",
       "rImpeach_Trump_week                       0.000268\n",
       "ratheism_week_year_ratio                  0.000265\n",
       "renvironment_month                        0.000264\n",
       "rthedavidpakmanshow_year                  0.000259\n",
       "dtype: float64"
      ]
     },
     "execution_count": 114,
     "metadata": {},
     "output_type": "execute_result"
    }
   ],
   "source": [
    "coef_boot.loc[:,((coef_boot >= 0).mean() < 0.15)|((coef_boot >= 0).mean() > 0.85)].mean().sort_values(ascending = False).head(40)"
   ]
  },
  {
   "cell_type": "code",
   "execution_count": null,
   "metadata": {},
   "outputs": [],
   "source": []
  }
 ],
 "metadata": {
  "kernelspec": {
   "display_name": "climact_env",
   "language": "python",
   "name": "python3"
  },
  "language_info": {
   "codemirror_mode": {
    "name": "ipython",
    "version": 3
   },
   "file_extension": ".py",
   "mimetype": "text/x-python",
   "name": "python",
   "nbconvert_exporter": "python",
   "pygments_lexer": "ipython3",
   "version": "3.9.19"
  },
  "orig_nbformat": 4
 },
 "nbformat": 4,
 "nbformat_minor": 2
}
